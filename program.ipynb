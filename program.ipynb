{
 "cells": [
  {
   "cell_type": "code",
   "execution_count": 21,
   "metadata": {},
   "outputs": [],
   "source": [
    "import pandas as pd\n",
    "import numpy as np\n",
    "import re"
   ]
  },
  {
   "cell_type": "code",
   "execution_count": 9,
   "metadata": {},
   "outputs": [],
   "source": [
    "df = pd.read_csv(\"VS17MORT.csv\", low_memory=False) # Mortality dataset's DATAFRAME"
   ]
  },
  {
   "cell_type": "code",
   "execution_count": 8,
   "metadata": {},
   "outputs": [
    {
     "data": {
      "text/html": [
       "<div>\n",
       "<style scoped>\n",
       "    .dataframe tbody tr th:only-of-type {\n",
       "        vertical-align: middle;\n",
       "    }\n",
       "\n",
       "    .dataframe tbody tr th {\n",
       "        vertical-align: top;\n",
       "    }\n",
       "\n",
       "    .dataframe thead th {\n",
       "        text-align: right;\n",
       "    }\n",
       "</style>\n",
       "<table border=\"1\" class=\"dataframe\">\n",
       "  <thead>\n",
       "    <tr style=\"text-align: right;\">\n",
       "      <th></th>\n",
       "      <th>Resident_Status</th>\n",
       "      <th>Education</th>\n",
       "      <th>Month_Of_Death</th>\n",
       "      <th>Sex</th>\n",
       "      <th>Age_Key</th>\n",
       "      <th>Age_Value</th>\n",
       "      <th>Age_Sub_Flag</th>\n",
       "      <th>Age_Recode_52</th>\n",
       "      <th>Age_Recode_27</th>\n",
       "      <th>Age_Recode_12</th>\n",
       "      <th>...</th>\n",
       "      <th>RA18</th>\n",
       "      <th>RA19</th>\n",
       "      <th>RA20</th>\n",
       "      <th>Race</th>\n",
       "      <th>Race_Bridged</th>\n",
       "      <th>Race_Imputation</th>\n",
       "      <th>Race_Recode_3</th>\n",
       "      <th>Race_Recode_5</th>\n",
       "      <th>Hispanic_Origin</th>\n",
       "      <th>Hispanic_Origin_Recode</th>\n",
       "    </tr>\n",
       "  </thead>\n",
       "  <tbody>\n",
       "    <tr>\n",
       "      <td>0</td>\n",
       "      <td>1</td>\n",
       "      <td></td>\n",
       "      <td>101</td>\n",
       "      <td>M</td>\n",
       "      <td>1</td>\n",
       "      <td>71</td>\n",
       "      <td></td>\n",
       "      <td>40</td>\n",
       "      <td>20</td>\n",
       "      <td>9</td>\n",
       "      <td>...</td>\n",
       "      <td></td>\n",
       "      <td></td>\n",
       "      <td></td>\n",
       "      <td>1</td>\n",
       "      <td></td>\n",
       "      <td></td>\n",
       "      <td>1</td>\n",
       "      <td>1</td>\n",
       "      <td>100</td>\n",
       "      <td>6</td>\n",
       "    </tr>\n",
       "    <tr>\n",
       "      <td>1</td>\n",
       "      <td>1</td>\n",
       "      <td></td>\n",
       "      <td>101</td>\n",
       "      <td>M</td>\n",
       "      <td>1</td>\n",
       "      <td>74</td>\n",
       "      <td></td>\n",
       "      <td>40</td>\n",
       "      <td>20</td>\n",
       "      <td>9</td>\n",
       "      <td>...</td>\n",
       "      <td></td>\n",
       "      <td></td>\n",
       "      <td></td>\n",
       "      <td>1</td>\n",
       "      <td></td>\n",
       "      <td></td>\n",
       "      <td>1</td>\n",
       "      <td>1</td>\n",
       "      <td>100</td>\n",
       "      <td>6</td>\n",
       "    </tr>\n",
       "    <tr>\n",
       "      <td>2</td>\n",
       "      <td>1</td>\n",
       "      <td></td>\n",
       "      <td>101</td>\n",
       "      <td>M</td>\n",
       "      <td>1</td>\n",
       "      <td>59</td>\n",
       "      <td></td>\n",
       "      <td>37</td>\n",
       "      <td>17</td>\n",
       "      <td>8</td>\n",
       "      <td>...</td>\n",
       "      <td></td>\n",
       "      <td></td>\n",
       "      <td></td>\n",
       "      <td>1</td>\n",
       "      <td></td>\n",
       "      <td></td>\n",
       "      <td>1</td>\n",
       "      <td>1</td>\n",
       "      <td>100</td>\n",
       "      <td>6</td>\n",
       "    </tr>\n",
       "    <tr>\n",
       "      <td>3</td>\n",
       "      <td>1</td>\n",
       "      <td></td>\n",
       "      <td>101</td>\n",
       "      <td>M</td>\n",
       "      <td>1</td>\n",
       "      <td>90</td>\n",
       "      <td></td>\n",
       "      <td>44</td>\n",
       "      <td>24</td>\n",
       "      <td>11</td>\n",
       "      <td>...</td>\n",
       "      <td></td>\n",
       "      <td></td>\n",
       "      <td></td>\n",
       "      <td>3</td>\n",
       "      <td></td>\n",
       "      <td></td>\n",
       "      <td>2</td>\n",
       "      <td>3</td>\n",
       "      <td>100</td>\n",
       "      <td>8</td>\n",
       "    </tr>\n",
       "    <tr>\n",
       "      <td>4</td>\n",
       "      <td>1</td>\n",
       "      <td></td>\n",
       "      <td>101</td>\n",
       "      <td>M</td>\n",
       "      <td>1</td>\n",
       "      <td>66</td>\n",
       "      <td></td>\n",
       "      <td>39</td>\n",
       "      <td>19</td>\n",
       "      <td>9</td>\n",
       "      <td>...</td>\n",
       "      <td></td>\n",
       "      <td></td>\n",
       "      <td></td>\n",
       "      <td>1</td>\n",
       "      <td></td>\n",
       "      <td></td>\n",
       "      <td>1</td>\n",
       "      <td>1</td>\n",
       "      <td>100</td>\n",
       "      <td>6</td>\n",
       "    </tr>\n",
       "  </tbody>\n",
       "</table>\n",
       "<p>5 rows × 75 columns</p>\n",
       "</div>"
      ],
      "text/plain": [
       "   Resident_Status  Education   Month_Of_Death  Sex   Age_Key   Age_Value  \\\n",
       "0                1                         101    M         1          71   \n",
       "1                1                         101    M         1          74   \n",
       "2                1                         101    M         1          59   \n",
       "3                1                         101    M         1          90   \n",
       "4                1                         101    M         1          66   \n",
       "\n",
       "   Age_Sub_Flag   Age_Recode_52   Age_Recode_27   Age_Recode_12  ...  RA18  \\\n",
       "0                            40              20               9  ...         \n",
       "1                            40              20               9  ...         \n",
       "2                            37              17               8  ...         \n",
       "3                            44              24              11  ...         \n",
       "4                            39              19               9  ...         \n",
       "\n",
       "    RA19  RA20   Race   Race_Bridged  Race_Imputation  Race_Recode_3  \\\n",
       "0                   1                                              1   \n",
       "1                   1                                              1   \n",
       "2                   1                                              1   \n",
       "3                   3                                              2   \n",
       "4                   1                                              1   \n",
       "\n",
       "   Race_Recode_5  Hispanic_Origin  Hispanic_Origin_Recode  \n",
       "0              1              100                       6  \n",
       "1              1              100                       6  \n",
       "2              1              100                       6  \n",
       "3              3              100                       8  \n",
       "4              1              100                       6  \n",
       "\n",
       "[5 rows x 75 columns]"
      ]
     },
     "execution_count": 8,
     "metadata": {},
     "output_type": "execute_result"
    }
   ],
   "source": [
    "df.head(5)"
   ]
  },
  {
   "cell_type": "code",
   "execution_count": 10,
   "metadata": {},
   "outputs": [
    {
     "data": {
      "text/plain": [
       "(2820034, 75)"
      ]
     },
     "execution_count": 10,
     "metadata": {},
     "output_type": "execute_result"
    }
   ],
   "source": [
    "df.shape"
   ]
  },
  {
   "cell_type": "code",
   "execution_count": 11,
   "metadata": {},
   "outputs": [
    {
     "data": {
      "text/plain": [
       "Index(['Resident_Status', ' Education', ' Month_Of_Death', ' Sex', ' Age_Key',\n",
       "       ' Age_Value', ' Age_Sub_Flag', ' Age_Recode_52', ' Age_Recode_27',\n",
       "       ' Age_Recode_12', ' Infant_Age_Recode_22', ' Place_Of_Death',\n",
       "       ' Marital_Status', ' DOW_of_Death', ' Data_Year', ' Injured_At_Work',\n",
       "       ' Manner_Of_Death', ' Method_Of_Disposition', ' Autopsy',\n",
       "       ' Activity_Code', ' Place_Of_Causal_Injury', '  ICD10',\n",
       "       ' Cause_Recode_358', ' Cause_Recode_113', ' Infant_Cause_Recode_130',\n",
       "       ' Cause_Recode_39', ' Entity_Axis_Conditions', ' EAC1', ' EAC2',\n",
       "       ' EAC3', ' EAC4', ' EAC5', ' EAC6', ' EAC7', ' EAC8', ' EAC9', ' EAC10',\n",
       "       ' EAC11', ' EAC12', ' EAC13', ' EAC14', ' EAC15', ' EAC16', ' EAC17',\n",
       "       ' EAC18', ' EAC19', ' EAC20', ' Record_Axis_Conditions', ' RA1', ' RA2',\n",
       "       ' RA3', ' RA4', ' RA5', ' RA6', ' RA7', ' RA8', ' RA9', ' RA10',\n",
       "       ' RA11', ' RA12', ' RA13', ' RA14', ' RA15', ' RA16', ' RA17', ' RA18',\n",
       "       ' RA19', ' RA20', ' Race', ' Race_Bridged', ' Race_Imputation',\n",
       "       ' Race_Recode_3', ' Race_Recode_5', ' Hispanic_Origin',\n",
       "       ' Hispanic_Origin_Recode'],\n",
       "      dtype='object')"
      ]
     },
     "execution_count": 11,
     "metadata": {},
     "output_type": "execute_result"
    }
   ],
   "source": [
    "df.columns"
   ]
  },
  {
   "cell_type": "code",
   "execution_count": 32,
   "metadata": {},
   "outputs": [],
   "source": [
    "df = df.rename(columns=lambda x: re.compile(\"\\S+\").findall(x)[0])"
   ]
  },
  {
   "cell_type": "code",
   "execution_count": 33,
   "metadata": {},
   "outputs": [
    {
     "data": {
      "text/plain": [
       "Index(['Resident_Status', 'Education', 'Month_Of_Death', 'Sex', 'Age_Key',\n",
       "       'Age_Value', 'Age_Sub_Flag', 'Age_Recode_52', 'Age_Recode_27',\n",
       "       'Age_Recode_12', 'Infant_Age_Recode_22', 'Place_Of_Death',\n",
       "       'Marital_Status', 'DOW_of_Death', 'Data_Year', 'Injured_At_Work',\n",
       "       'Manner_Of_Death', 'Method_Of_Disposition', 'Autopsy', 'Activity_Code',\n",
       "       'Place_Of_Causal_Injury', 'ICD10', 'Cause_Recode_358',\n",
       "       'Cause_Recode_113', 'Infant_Cause_Recode_130', 'Cause_Recode_39',\n",
       "       'Entity_Axis_Conditions', 'EAC1', 'EAC2', 'EAC3', 'EAC4', 'EAC5',\n",
       "       'EAC6', 'EAC7', 'EAC8', 'EAC9', 'EAC10', 'EAC11', 'EAC12', 'EAC13',\n",
       "       'EAC14', 'EAC15', 'EAC16', 'EAC17', 'EAC18', 'EAC19', 'EAC20',\n",
       "       'Record_Axis_Conditions', 'RA1', 'RA2', 'RA3', 'RA4', 'RA5', 'RA6',\n",
       "       'RA7', 'RA8', 'RA9', 'RA10', 'RA11', 'RA12', 'RA13', 'RA14', 'RA15',\n",
       "       'RA16', 'RA17', 'RA18', 'RA19', 'RA20', 'Race', 'Race_Bridged',\n",
       "       'Race_Imputation', 'Race_Recode_3', 'Race_Recode_5', 'Hispanic_Origin',\n",
       "       'Hispanic_Origin_Recode'],\n",
       "      dtype='object')"
      ]
     },
     "execution_count": 33,
     "metadata": {},
     "output_type": "execute_result"
    }
   ],
   "source": [
    "df.columns"
   ]
  },
  {
   "cell_type": "code",
   "execution_count": 38,
   "metadata": {},
   "outputs": [
    {
     "data": {
      "text/plain": [
       "' '"
      ]
     },
     "execution_count": 38,
     "metadata": {},
     "output_type": "execute_result"
    }
   ],
   "source": [
    "# df.apply(lambda x: x if str(x) != ' ' else 0)[\"Activity_Code\"][0]"
   ]
  },
  {
   "cell_type": "code",
   "execution_count": null,
   "metadata": {},
   "outputs": [],
   "source": []
  }
 ],
 "metadata": {
  "kernelspec": {
   "display_name": "Python 3",
   "language": "python",
   "name": "python3"
  },
  "language_info": {
   "codemirror_mode": {
    "name": "ipython",
    "version": 3
   },
   "file_extension": ".py",
   "mimetype": "text/x-python",
   "name": "python",
   "nbconvert_exporter": "python",
   "pygments_lexer": "ipython3",
   "version": "3.7.4"
  }
 },
 "nbformat": 4,
 "nbformat_minor": 2
}
