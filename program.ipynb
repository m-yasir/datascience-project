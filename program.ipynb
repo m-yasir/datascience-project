{
 "cells": [
  {
   "cell_type": "markdown",
   "metadata": {},
   "source": [
    "# Mortality Dataset Project \n",
    "\n",
    "PROBLEM STATEMENT: Trends/Changes in Mortality\n",
    "\n",
    "\n",
    "**STEPS:**\n",
    "```\n",
    "- Data Loading\n",
    "- Data Cleaning\n",
    "- Descriptive Analysis\n",
    "- EDA\n",
    "```\n",
    "**DATA:**\n",
    "```\n",
    "- Data is taken from CDC.gov\n",
    "```"
   ]
  },
  {
   "cell_type": "code",
   "execution_count": 231,
   "metadata": {},
   "outputs": [],
   "source": [
    "import pandas as pd\n",
    "import numpy as np\n",
    "import re\n",
    "import math\n",
    "\n",
    "import matplotlib.pyplot as plt; plt.rcdefaults()\n",
    "import matplotlib.pyplot as plt"
   ]
  },
  {
   "cell_type": "markdown",
   "metadata": {},
   "source": [
    "## Data Loading"
   ]
  },
  {
   "cell_type": "code",
   "execution_count": 232,
   "metadata": {},
   "outputs": [],
   "source": [
    "df = pd.read_csv(\"VS17MORT.csv\", low_memory=False, nrows=10000) # Mortality dataset's DATAFRAME"
   ]
  },
  {
   "cell_type": "code",
   "execution_count": 233,
   "metadata": {},
   "outputs": [
    {
     "data": {
      "text/html": [
       "<div>\n",
       "<style scoped>\n",
       "    .dataframe tbody tr th:only-of-type {\n",
       "        vertical-align: middle;\n",
       "    }\n",
       "\n",
       "    .dataframe tbody tr th {\n",
       "        vertical-align: top;\n",
       "    }\n",
       "\n",
       "    .dataframe thead th {\n",
       "        text-align: right;\n",
       "    }\n",
       "</style>\n",
       "<table border=\"1\" class=\"dataframe\">\n",
       "  <thead>\n",
       "    <tr style=\"text-align: right;\">\n",
       "      <th></th>\n",
       "      <th>Resident_Status</th>\n",
       "      <th>Education</th>\n",
       "      <th>Month_Of_Death</th>\n",
       "      <th>Sex</th>\n",
       "      <th>Age_Key</th>\n",
       "      <th>Age_Value</th>\n",
       "      <th>Age_Sub_Flag</th>\n",
       "      <th>Age_Recode_52</th>\n",
       "      <th>Age_Recode_27</th>\n",
       "      <th>Age_Recode_12</th>\n",
       "      <th>...</th>\n",
       "      <th>RA18</th>\n",
       "      <th>RA19</th>\n",
       "      <th>RA20</th>\n",
       "      <th>Race</th>\n",
       "      <th>Race_Bridged</th>\n",
       "      <th>Race_Imputation</th>\n",
       "      <th>Race_Recode_3</th>\n",
       "      <th>Race_Recode_5</th>\n",
       "      <th>Hispanic_Origin</th>\n",
       "      <th>Hispanic_Origin_Recode</th>\n",
       "    </tr>\n",
       "  </thead>\n",
       "  <tbody>\n",
       "    <tr>\n",
       "      <td>0</td>\n",
       "      <td>1</td>\n",
       "      <td></td>\n",
       "      <td>101</td>\n",
       "      <td>M</td>\n",
       "      <td>1</td>\n",
       "      <td>71</td>\n",
       "      <td></td>\n",
       "      <td>40</td>\n",
       "      <td>20</td>\n",
       "      <td>9</td>\n",
       "      <td>...</td>\n",
       "      <td></td>\n",
       "      <td></td>\n",
       "      <td></td>\n",
       "      <td>1</td>\n",
       "      <td></td>\n",
       "      <td></td>\n",
       "      <td>1</td>\n",
       "      <td>1</td>\n",
       "      <td>100</td>\n",
       "      <td>6</td>\n",
       "    </tr>\n",
       "    <tr>\n",
       "      <td>1</td>\n",
       "      <td>1</td>\n",
       "      <td></td>\n",
       "      <td>101</td>\n",
       "      <td>M</td>\n",
       "      <td>1</td>\n",
       "      <td>74</td>\n",
       "      <td></td>\n",
       "      <td>40</td>\n",
       "      <td>20</td>\n",
       "      <td>9</td>\n",
       "      <td>...</td>\n",
       "      <td></td>\n",
       "      <td></td>\n",
       "      <td></td>\n",
       "      <td>1</td>\n",
       "      <td></td>\n",
       "      <td></td>\n",
       "      <td>1</td>\n",
       "      <td>1</td>\n",
       "      <td>100</td>\n",
       "      <td>6</td>\n",
       "    </tr>\n",
       "    <tr>\n",
       "      <td>2</td>\n",
       "      <td>1</td>\n",
       "      <td></td>\n",
       "      <td>101</td>\n",
       "      <td>M</td>\n",
       "      <td>1</td>\n",
       "      <td>59</td>\n",
       "      <td></td>\n",
       "      <td>37</td>\n",
       "      <td>17</td>\n",
       "      <td>8</td>\n",
       "      <td>...</td>\n",
       "      <td></td>\n",
       "      <td></td>\n",
       "      <td></td>\n",
       "      <td>1</td>\n",
       "      <td></td>\n",
       "      <td></td>\n",
       "      <td>1</td>\n",
       "      <td>1</td>\n",
       "      <td>100</td>\n",
       "      <td>6</td>\n",
       "    </tr>\n",
       "    <tr>\n",
       "      <td>3</td>\n",
       "      <td>1</td>\n",
       "      <td></td>\n",
       "      <td>101</td>\n",
       "      <td>M</td>\n",
       "      <td>1</td>\n",
       "      <td>90</td>\n",
       "      <td></td>\n",
       "      <td>44</td>\n",
       "      <td>24</td>\n",
       "      <td>11</td>\n",
       "      <td>...</td>\n",
       "      <td></td>\n",
       "      <td></td>\n",
       "      <td></td>\n",
       "      <td>3</td>\n",
       "      <td></td>\n",
       "      <td></td>\n",
       "      <td>2</td>\n",
       "      <td>3</td>\n",
       "      <td>100</td>\n",
       "      <td>8</td>\n",
       "    </tr>\n",
       "    <tr>\n",
       "      <td>4</td>\n",
       "      <td>1</td>\n",
       "      <td></td>\n",
       "      <td>101</td>\n",
       "      <td>M</td>\n",
       "      <td>1</td>\n",
       "      <td>66</td>\n",
       "      <td></td>\n",
       "      <td>39</td>\n",
       "      <td>19</td>\n",
       "      <td>9</td>\n",
       "      <td>...</td>\n",
       "      <td></td>\n",
       "      <td></td>\n",
       "      <td></td>\n",
       "      <td>1</td>\n",
       "      <td></td>\n",
       "      <td></td>\n",
       "      <td>1</td>\n",
       "      <td>1</td>\n",
       "      <td>100</td>\n",
       "      <td>6</td>\n",
       "    </tr>\n",
       "  </tbody>\n",
       "</table>\n",
       "<p>5 rows × 75 columns</p>\n",
       "</div>"
      ],
      "text/plain": [
       "   Resident_Status  Education   Month_Of_Death  Sex   Age_Key   Age_Value  \\\n",
       "0                1                         101    M         1          71   \n",
       "1                1                         101    M         1          74   \n",
       "2                1                         101    M         1          59   \n",
       "3                1                         101    M         1          90   \n",
       "4                1                         101    M         1          66   \n",
       "\n",
       "   Age_Sub_Flag   Age_Recode_52   Age_Recode_27   Age_Recode_12  ...  RA18  \\\n",
       "0                            40              20               9  ...         \n",
       "1                            40              20               9  ...         \n",
       "2                            37              17               8  ...         \n",
       "3                            44              24              11  ...         \n",
       "4                            39              19               9  ...         \n",
       "\n",
       "    RA19  RA20   Race   Race_Bridged  Race_Imputation  Race_Recode_3  \\\n",
       "0                   1                                              1   \n",
       "1                   1                                              1   \n",
       "2                   1                                              1   \n",
       "3                   3                                              2   \n",
       "4                   1                                              1   \n",
       "\n",
       "   Race_Recode_5  Hispanic_Origin  Hispanic_Origin_Recode  \n",
       "0              1              100                       6  \n",
       "1              1              100                       6  \n",
       "2              1              100                       6  \n",
       "3              3              100                       8  \n",
       "4              1              100                       6  \n",
       "\n",
       "[5 rows x 75 columns]"
      ]
     },
     "execution_count": 233,
     "metadata": {},
     "output_type": "execute_result"
    }
   ],
   "source": [
    "df.head(5)"
   ]
  },
  {
   "cell_type": "code",
   "execution_count": 234,
   "metadata": {},
   "outputs": [
    {
     "data": {
      "text/plain": [
       "(10000, 75)"
      ]
     },
     "execution_count": 234,
     "metadata": {},
     "output_type": "execute_result"
    }
   ],
   "source": [
    "df.shape"
   ]
  },
  {
   "cell_type": "code",
   "execution_count": 235,
   "metadata": {
    "scrolled": true
   },
   "outputs": [
    {
     "data": {
      "text/plain": [
       "Index(['Resident_Status', ' Education', ' Month_Of_Death', ' Sex', ' Age_Key',\n",
       "       ' Age_Value', ' Age_Sub_Flag', ' Age_Recode_52', ' Age_Recode_27',\n",
       "       ' Age_Recode_12', ' Infant_Age_Recode_22', ' Place_Of_Death',\n",
       "       ' Marital_Status', ' DOW_of_Death', ' Data_Year', ' Injured_At_Work',\n",
       "       ' Manner_Of_Death', ' Method_Of_Disposition', ' Autopsy',\n",
       "       ' Activity_Code', ' Place_Of_Causal_Injury', '  ICD10',\n",
       "       ' Cause_Recode_358', ' Cause_Recode_113', ' Infant_Cause_Recode_130',\n",
       "       ' Cause_Recode_39', ' Entity_Axis_Conditions', ' EAC1', ' EAC2',\n",
       "       ' EAC3', ' EAC4', ' EAC5', ' EAC6', ' EAC7', ' EAC8', ' EAC9', ' EAC10',\n",
       "       ' EAC11', ' EAC12', ' EAC13', ' EAC14', ' EAC15', ' EAC16', ' EAC17',\n",
       "       ' EAC18', ' EAC19', ' EAC20', ' Record_Axis_Conditions', ' RA1', ' RA2',\n",
       "       ' RA3', ' RA4', ' RA5', ' RA6', ' RA7', ' RA8', ' RA9', ' RA10',\n",
       "       ' RA11', ' RA12', ' RA13', ' RA14', ' RA15', ' RA16', ' RA17', ' RA18',\n",
       "       ' RA19', ' RA20', ' Race', ' Race_Bridged', ' Race_Imputation',\n",
       "       ' Race_Recode_3', ' Race_Recode_5', ' Hispanic_Origin',\n",
       "       ' Hispanic_Origin_Recode'],\n",
       "      dtype='object')"
      ]
     },
     "execution_count": 235,
     "metadata": {},
     "output_type": "execute_result"
    }
   ],
   "source": [
    "df.columns"
   ]
  },
  {
   "cell_type": "code",
   "execution_count": 236,
   "metadata": {},
   "outputs": [
    {
     "data": {
      "text/plain": [
       "array([' '], dtype=object)"
      ]
     },
     "execution_count": 236,
     "metadata": {},
     "output_type": "execute_result"
    }
   ],
   "source": [
    "# df = df.drop(columns=[\" Education\"])\n",
    "df[\" Education\"].unique()"
   ]
  },
  {
   "cell_type": "markdown",
   "metadata": {},
   "source": [
    "## Data Cleaning"
   ]
  },
  {
   "cell_type": "code",
   "execution_count": 237,
   "metadata": {},
   "outputs": [],
   "source": [
    "def removeSpaces(item):\n",
    "    regex = re.compile(\"\\S+\")\n",
    "    return regex.findall(item)[0] if type(item) == str else item\n",
    "\n",
    "def cleanColumns(dataFrame):\n",
    "    return dataFrame.rename(columns=lambda x: removeSpaces(x))"
   ]
  },
  {
   "cell_type": "code",
   "execution_count": 238,
   "metadata": {},
   "outputs": [],
   "source": [
    "df = cleanColumns(df)"
   ]
  },
  {
   "cell_type": "code",
   "execution_count": 239,
   "metadata": {},
   "outputs": [
    {
     "data": {
      "text/plain": [
       "Index(['Resident_Status', 'Education', 'Month_Of_Death', 'Sex', 'Age_Key',\n",
       "       'Age_Value', 'Age_Sub_Flag', 'Age_Recode_52', 'Age_Recode_27',\n",
       "       'Age_Recode_12', 'Infant_Age_Recode_22', 'Place_Of_Death',\n",
       "       'Marital_Status', 'DOW_of_Death', 'Data_Year', 'Injured_At_Work',\n",
       "       'Manner_Of_Death', 'Method_Of_Disposition', 'Autopsy', 'Activity_Code',\n",
       "       'Place_Of_Causal_Injury', 'ICD10', 'Cause_Recode_358',\n",
       "       'Cause_Recode_113', 'Infant_Cause_Recode_130', 'Cause_Recode_39',\n",
       "       'Entity_Axis_Conditions', 'EAC1', 'EAC2', 'EAC3', 'EAC4', 'EAC5',\n",
       "       'EAC6', 'EAC7', 'EAC8', 'EAC9', 'EAC10', 'EAC11', 'EAC12', 'EAC13',\n",
       "       'EAC14', 'EAC15', 'EAC16', 'EAC17', 'EAC18', 'EAC19', 'EAC20',\n",
       "       'Record_Axis_Conditions', 'RA1', 'RA2', 'RA3', 'RA4', 'RA5', 'RA6',\n",
       "       'RA7', 'RA8', 'RA9', 'RA10', 'RA11', 'RA12', 'RA13', 'RA14', 'RA15',\n",
       "       'RA16', 'RA17', 'RA18', 'RA19', 'RA20', 'Race', 'Race_Bridged',\n",
       "       'Race_Imputation', 'Race_Recode_3', 'Race_Recode_5', 'Hispanic_Origin',\n",
       "       'Hispanic_Origin_Recode'],\n",
       "      dtype='object')"
      ]
     },
     "execution_count": 239,
     "metadata": {},
     "output_type": "execute_result"
    }
   ],
   "source": [
    "df.columns"
   ]
  },
  {
   "cell_type": "code",
   "execution_count": 240,
   "metadata": {},
   "outputs": [],
   "source": [
    "def cleanEmptyStringValues(_df):\n",
    "    return _df.applymap(lambda x: x if str(x) != ' ' else None)"
   ]
  },
  {
   "cell_type": "code",
   "execution_count": 241,
   "metadata": {},
   "outputs": [],
   "source": [
    "df = cleanEmptyStringValues(df)"
   ]
  },
  {
   "cell_type": "code",
   "execution_count": 242,
   "metadata": {},
   "outputs": [],
   "source": [
    "def fixStringValues(_df):\n",
    "    return _df.applymap(lambda x: removeSpaces(x))"
   ]
  },
  {
   "cell_type": "code",
   "execution_count": 243,
   "metadata": {},
   "outputs": [],
   "source": [
    "df = fixStringValues(df)"
   ]
  },
  {
   "cell_type": "code",
   "execution_count": 244,
   "metadata": {},
   "outputs": [],
   "source": [
    "def replaceNAWithMode(_df):\n",
    "    for column in _df.columns:\n",
    "        try:\n",
    "            _mode = _df[column].mode()[0]\n",
    "            _df[column] = _df[column].fillna(_mode)\n",
    "        except:\n",
    "            pass\n",
    "    return _df"
   ]
  },
  {
   "cell_type": "code",
   "execution_count": 245,
   "metadata": {},
   "outputs": [],
   "source": [
    "df = replaceNAWithMode(df)"
   ]
  },
  {
   "cell_type": "code",
   "execution_count": 246,
   "metadata": {},
   "outputs": [],
   "source": [
    "df = df.drop(columns=[x for x in df.columns if len(df[x].unique()) <= 1 and df[x].unique()[0] == None])"
   ]
  },
  {
   "cell_type": "code",
   "execution_count": 247,
   "metadata": {},
   "outputs": [
    {
     "data": {
      "text/plain": [
       "Index(['Resident_Status', 'Month_Of_Death', 'Sex', 'Age_Key', 'Age_Value',\n",
       "       'Age_Recode_52', 'Age_Recode_27', 'Age_Recode_12',\n",
       "       'Infant_Age_Recode_22', 'Place_Of_Death', 'Marital_Status',\n",
       "       'DOW_of_Death', 'Data_Year', 'Injured_At_Work', 'Manner_Of_Death',\n",
       "       'Method_Of_Disposition', 'Autopsy', 'Activity_Code',\n",
       "       'Place_Of_Causal_Injury', 'ICD10', 'Cause_Recode_358',\n",
       "       'Cause_Recode_113', 'Infant_Cause_Recode_130', 'Cause_Recode_39',\n",
       "       'Entity_Axis_Conditions', 'EAC1', 'EAC2', 'EAC3', 'EAC4', 'EAC5',\n",
       "       'EAC6', 'EAC7', 'EAC8', 'EAC9', 'EAC10', 'EAC11', 'EAC12', 'EAC13',\n",
       "       'Record_Axis_Conditions', 'RA1', 'RA2', 'RA3', 'RA4', 'RA5', 'RA6',\n",
       "       'RA7', 'RA8', 'RA9', 'RA10', 'RA11', 'RA12', 'RA13', 'Race',\n",
       "       'Race_Bridged', 'Race_Imputation', 'Race_Recode_3', 'Race_Recode_5',\n",
       "       'Hispanic_Origin', 'Hispanic_Origin_Recode'],\n",
       "      dtype='object')"
      ]
     },
     "execution_count": 247,
     "metadata": {},
     "output_type": "execute_result"
    }
   ],
   "source": [
    "df.columns"
   ]
  },
  {
   "cell_type": "code",
   "execution_count": 248,
   "metadata": {},
   "outputs": [],
   "source": [
    "def tryConvertingToNumber(value):\n",
    "    try:\n",
    "        val = int(value)\n",
    "        return val\n",
    "    except:\n",
    "        return value\n",
    "\n",
    "df = df.applymap(lambda x: tryConvertingToNumber(x))"
   ]
  },
  {
   "cell_type": "code",
   "execution_count": 249,
   "metadata": {},
   "outputs": [
    {
     "data": {
      "text/plain": [
       "Index(['Resident_Status', 'Month_Of_Death', 'Sex', 'Age_Key', 'Age_Value',\n",
       "       'Age_Recode_52', 'Age_Recode_27', 'Age_Recode_12',\n",
       "       'Infant_Age_Recode_22', 'Place_Of_Death', 'Marital_Status',\n",
       "       'DOW_of_Death', 'Data_Year', 'Injured_At_Work', 'Manner_Of_Death',\n",
       "       'Method_Of_Disposition', 'Autopsy', 'Activity_Code',\n",
       "       'Place_Of_Causal_Injury', 'ICD10', 'Cause_Recode_358',\n",
       "       'Cause_Recode_113', 'Infant_Cause_Recode_130', 'Cause_Recode_39',\n",
       "       'Entity_Axis_Conditions', 'EAC1', 'EAC2', 'EAC3', 'EAC4', 'EAC5',\n",
       "       'EAC6', 'EAC7', 'EAC8', 'EAC9', 'EAC10', 'EAC11', 'EAC12', 'EAC13',\n",
       "       'Record_Axis_Conditions', 'RA1', 'RA2', 'RA3', 'RA4', 'RA5', 'RA6',\n",
       "       'RA7', 'RA8', 'RA9', 'RA10', 'RA11', 'RA12', 'RA13', 'Race',\n",
       "       'Race_Bridged', 'Race_Imputation', 'Race_Recode_3', 'Race_Recode_5',\n",
       "       'Hispanic_Origin', 'Hispanic_Origin_Recode'],\n",
       "      dtype='object')"
      ]
     },
     "execution_count": 249,
     "metadata": {},
     "output_type": "execute_result"
    }
   ],
   "source": [
    "df.columns"
   ]
  },
  {
   "cell_type": "code",
   "execution_count": 250,
   "metadata": {
    "scrolled": true
   },
   "outputs": [
    {
     "data": {
      "text/html": [
       "<div>\n",
       "<style scoped>\n",
       "    .dataframe tbody tr th:only-of-type {\n",
       "        vertical-align: middle;\n",
       "    }\n",
       "\n",
       "    .dataframe tbody tr th {\n",
       "        vertical-align: top;\n",
       "    }\n",
       "\n",
       "    .dataframe thead th {\n",
       "        text-align: right;\n",
       "    }\n",
       "</style>\n",
       "<table border=\"1\" class=\"dataframe\">\n",
       "  <thead>\n",
       "    <tr style=\"text-align: right;\">\n",
       "      <th></th>\n",
       "      <th>Resident_Status</th>\n",
       "      <th>Month_Of_Death</th>\n",
       "      <th>Sex</th>\n",
       "      <th>Age_Key</th>\n",
       "      <th>Age_Value</th>\n",
       "      <th>Age_Recode_52</th>\n",
       "      <th>Age_Recode_27</th>\n",
       "      <th>Age_Recode_12</th>\n",
       "      <th>Infant_Age_Recode_22</th>\n",
       "      <th>Place_Of_Death</th>\n",
       "      <th>...</th>\n",
       "      <th>RA11</th>\n",
       "      <th>RA12</th>\n",
       "      <th>RA13</th>\n",
       "      <th>Race</th>\n",
       "      <th>Race_Bridged</th>\n",
       "      <th>Race_Imputation</th>\n",
       "      <th>Race_Recode_3</th>\n",
       "      <th>Race_Recode_5</th>\n",
       "      <th>Hispanic_Origin</th>\n",
       "      <th>Hispanic_Origin_Recode</th>\n",
       "    </tr>\n",
       "  </thead>\n",
       "  <tbody>\n",
       "    <tr>\n",
       "      <td>0</td>\n",
       "      <td>1</td>\n",
       "      <td>101</td>\n",
       "      <td>M</td>\n",
       "      <td>1</td>\n",
       "      <td>71</td>\n",
       "      <td>40</td>\n",
       "      <td>20</td>\n",
       "      <td>9</td>\n",
       "      <td>2</td>\n",
       "      <td>1</td>\n",
       "      <td>...</td>\n",
       "      <td>R688</td>\n",
       "      <td>J969</td>\n",
       "      <td>R068</td>\n",
       "      <td>1</td>\n",
       "      <td>1</td>\n",
       "      <td>2</td>\n",
       "      <td>1</td>\n",
       "      <td>1</td>\n",
       "      <td>100</td>\n",
       "      <td>6</td>\n",
       "    </tr>\n",
       "    <tr>\n",
       "      <td>1</td>\n",
       "      <td>1</td>\n",
       "      <td>101</td>\n",
       "      <td>M</td>\n",
       "      <td>1</td>\n",
       "      <td>74</td>\n",
       "      <td>40</td>\n",
       "      <td>20</td>\n",
       "      <td>9</td>\n",
       "      <td>2</td>\n",
       "      <td>1</td>\n",
       "      <td>...</td>\n",
       "      <td>R688</td>\n",
       "      <td>J969</td>\n",
       "      <td>R068</td>\n",
       "      <td>1</td>\n",
       "      <td>1</td>\n",
       "      <td>2</td>\n",
       "      <td>1</td>\n",
       "      <td>1</td>\n",
       "      <td>100</td>\n",
       "      <td>6</td>\n",
       "    </tr>\n",
       "    <tr>\n",
       "      <td>2</td>\n",
       "      <td>1</td>\n",
       "      <td>101</td>\n",
       "      <td>M</td>\n",
       "      <td>1</td>\n",
       "      <td>59</td>\n",
       "      <td>37</td>\n",
       "      <td>17</td>\n",
       "      <td>8</td>\n",
       "      <td>2</td>\n",
       "      <td>4</td>\n",
       "      <td>...</td>\n",
       "      <td>R688</td>\n",
       "      <td>J969</td>\n",
       "      <td>R068</td>\n",
       "      <td>1</td>\n",
       "      <td>1</td>\n",
       "      <td>2</td>\n",
       "      <td>1</td>\n",
       "      <td>1</td>\n",
       "      <td>100</td>\n",
       "      <td>6</td>\n",
       "    </tr>\n",
       "    <tr>\n",
       "      <td>3</td>\n",
       "      <td>1</td>\n",
       "      <td>101</td>\n",
       "      <td>M</td>\n",
       "      <td>1</td>\n",
       "      <td>90</td>\n",
       "      <td>44</td>\n",
       "      <td>24</td>\n",
       "      <td>11</td>\n",
       "      <td>2</td>\n",
       "      <td>4</td>\n",
       "      <td>...</td>\n",
       "      <td>R688</td>\n",
       "      <td>J969</td>\n",
       "      <td>R068</td>\n",
       "      <td>3</td>\n",
       "      <td>1</td>\n",
       "      <td>2</td>\n",
       "      <td>2</td>\n",
       "      <td>3</td>\n",
       "      <td>100</td>\n",
       "      <td>8</td>\n",
       "    </tr>\n",
       "    <tr>\n",
       "      <td>4</td>\n",
       "      <td>1</td>\n",
       "      <td>101</td>\n",
       "      <td>M</td>\n",
       "      <td>1</td>\n",
       "      <td>66</td>\n",
       "      <td>39</td>\n",
       "      <td>19</td>\n",
       "      <td>9</td>\n",
       "      <td>2</td>\n",
       "      <td>4</td>\n",
       "      <td>...</td>\n",
       "      <td>R688</td>\n",
       "      <td>J969</td>\n",
       "      <td>R068</td>\n",
       "      <td>1</td>\n",
       "      <td>1</td>\n",
       "      <td>2</td>\n",
       "      <td>1</td>\n",
       "      <td>1</td>\n",
       "      <td>100</td>\n",
       "      <td>6</td>\n",
       "    </tr>\n",
       "  </tbody>\n",
       "</table>\n",
       "<p>5 rows × 59 columns</p>\n",
       "</div>"
      ],
      "text/plain": [
       "   Resident_Status  Month_Of_Death Sex  Age_Key  Age_Value  Age_Recode_52  \\\n",
       "0                1             101   M        1         71             40   \n",
       "1                1             101   M        1         74             40   \n",
       "2                1             101   M        1         59             37   \n",
       "3                1             101   M        1         90             44   \n",
       "4                1             101   M        1         66             39   \n",
       "\n",
       "   Age_Recode_27  Age_Recode_12  Infant_Age_Recode_22  Place_Of_Death  ...  \\\n",
       "0             20              9                     2               1  ...   \n",
       "1             20              9                     2               1  ...   \n",
       "2             17              8                     2               4  ...   \n",
       "3             24             11                     2               4  ...   \n",
       "4             19              9                     2               4  ...   \n",
       "\n",
       "   RA11  RA12  RA13 Race  Race_Bridged Race_Imputation Race_Recode_3  \\\n",
       "0  R688  J969  R068    1             1               2             1   \n",
       "1  R688  J969  R068    1             1               2             1   \n",
       "2  R688  J969  R068    1             1               2             1   \n",
       "3  R688  J969  R068    3             1               2             2   \n",
       "4  R688  J969  R068    1             1               2             1   \n",
       "\n",
       "   Race_Recode_5  Hispanic_Origin Hispanic_Origin_Recode  \n",
       "0              1              100                      6  \n",
       "1              1              100                      6  \n",
       "2              1              100                      6  \n",
       "3              3              100                      8  \n",
       "4              1              100                      6  \n",
       "\n",
       "[5 rows x 59 columns]"
      ]
     },
     "execution_count": 250,
     "metadata": {},
     "output_type": "execute_result"
    }
   ],
   "source": [
    "df.head()"
   ]
  },
  {
   "cell_type": "code",
   "execution_count": 251,
   "metadata": {},
   "outputs": [
    {
     "data": {
      "text/html": [
       "<div>\n",
       "<style scoped>\n",
       "    .dataframe tbody tr th:only-of-type {\n",
       "        vertical-align: middle;\n",
       "    }\n",
       "\n",
       "    .dataframe tbody tr th {\n",
       "        vertical-align: top;\n",
       "    }\n",
       "\n",
       "    .dataframe thead th {\n",
       "        text-align: right;\n",
       "    }\n",
       "</style>\n",
       "<table border=\"1\" class=\"dataframe\">\n",
       "  <thead>\n",
       "    <tr style=\"text-align: right;\">\n",
       "      <th></th>\n",
       "      <th>Resident_Status</th>\n",
       "      <th>Month_Of_Death</th>\n",
       "      <th>Sex</th>\n",
       "      <th>Age_Key</th>\n",
       "      <th>Age_Value</th>\n",
       "      <th>Age_Recode_52</th>\n",
       "      <th>Age_Recode_27</th>\n",
       "      <th>Age_Recode_12</th>\n",
       "      <th>Infant_Age_Recode_22</th>\n",
       "      <th>Place_Of_Death</th>\n",
       "      <th>...</th>\n",
       "      <th>RA11</th>\n",
       "      <th>RA12</th>\n",
       "      <th>RA13</th>\n",
       "      <th>Race</th>\n",
       "      <th>Race_Bridged</th>\n",
       "      <th>Race_Imputation</th>\n",
       "      <th>Race_Recode_3</th>\n",
       "      <th>Race_Recode_5</th>\n",
       "      <th>Hispanic_Origin</th>\n",
       "      <th>Hispanic_Origin_Recode</th>\n",
       "    </tr>\n",
       "  </thead>\n",
       "  <tbody>\n",
       "    <tr>\n",
       "      <td>9995</td>\n",
       "      <td>1</td>\n",
       "      <td>102</td>\n",
       "      <td>F</td>\n",
       "      <td>1</td>\n",
       "      <td>71</td>\n",
       "      <td>40</td>\n",
       "      <td>20</td>\n",
       "      <td>9</td>\n",
       "      <td>2</td>\n",
       "      <td>6</td>\n",
       "      <td>...</td>\n",
       "      <td>R688</td>\n",
       "      <td>J969</td>\n",
       "      <td>R068</td>\n",
       "      <td>1</td>\n",
       "      <td>1</td>\n",
       "      <td>2</td>\n",
       "      <td>1</td>\n",
       "      <td>1</td>\n",
       "      <td>100</td>\n",
       "      <td>6</td>\n",
       "    </tr>\n",
       "    <tr>\n",
       "      <td>9996</td>\n",
       "      <td>2</td>\n",
       "      <td>101</td>\n",
       "      <td>M</td>\n",
       "      <td>1</td>\n",
       "      <td>75</td>\n",
       "      <td>41</td>\n",
       "      <td>21</td>\n",
       "      <td>10</td>\n",
       "      <td>2</td>\n",
       "      <td>1</td>\n",
       "      <td>...</td>\n",
       "      <td>R688</td>\n",
       "      <td>J969</td>\n",
       "      <td>R068</td>\n",
       "      <td>1</td>\n",
       "      <td>1</td>\n",
       "      <td>2</td>\n",
       "      <td>1</td>\n",
       "      <td>1</td>\n",
       "      <td>100</td>\n",
       "      <td>6</td>\n",
       "    </tr>\n",
       "    <tr>\n",
       "      <td>9997</td>\n",
       "      <td>1</td>\n",
       "      <td>102</td>\n",
       "      <td>F</td>\n",
       "      <td>1</td>\n",
       "      <td>82</td>\n",
       "      <td>42</td>\n",
       "      <td>22</td>\n",
       "      <td>10</td>\n",
       "      <td>2</td>\n",
       "      <td>6</td>\n",
       "      <td>...</td>\n",
       "      <td>R688</td>\n",
       "      <td>J969</td>\n",
       "      <td>R068</td>\n",
       "      <td>1</td>\n",
       "      <td>1</td>\n",
       "      <td>2</td>\n",
       "      <td>1</td>\n",
       "      <td>1</td>\n",
       "      <td>100</td>\n",
       "      <td>6</td>\n",
       "    </tr>\n",
       "    <tr>\n",
       "      <td>9998</td>\n",
       "      <td>1</td>\n",
       "      <td>102</td>\n",
       "      <td>F</td>\n",
       "      <td>1</td>\n",
       "      <td>80</td>\n",
       "      <td>42</td>\n",
       "      <td>22</td>\n",
       "      <td>10</td>\n",
       "      <td>2</td>\n",
       "      <td>1</td>\n",
       "      <td>...</td>\n",
       "      <td>R688</td>\n",
       "      <td>J969</td>\n",
       "      <td>R068</td>\n",
       "      <td>1</td>\n",
       "      <td>1</td>\n",
       "      <td>2</td>\n",
       "      <td>1</td>\n",
       "      <td>1</td>\n",
       "      <td>100</td>\n",
       "      <td>6</td>\n",
       "    </tr>\n",
       "    <tr>\n",
       "      <td>9999</td>\n",
       "      <td>1</td>\n",
       "      <td>102</td>\n",
       "      <td>M</td>\n",
       "      <td>1</td>\n",
       "      <td>51</td>\n",
       "      <td>36</td>\n",
       "      <td>16</td>\n",
       "      <td>7</td>\n",
       "      <td>2</td>\n",
       "      <td>1</td>\n",
       "      <td>...</td>\n",
       "      <td>R688</td>\n",
       "      <td>J969</td>\n",
       "      <td>R068</td>\n",
       "      <td>1</td>\n",
       "      <td>1</td>\n",
       "      <td>2</td>\n",
       "      <td>1</td>\n",
       "      <td>1</td>\n",
       "      <td>100</td>\n",
       "      <td>6</td>\n",
       "    </tr>\n",
       "  </tbody>\n",
       "</table>\n",
       "<p>5 rows × 59 columns</p>\n",
       "</div>"
      ],
      "text/plain": [
       "      Resident_Status  Month_Of_Death Sex  Age_Key  Age_Value  Age_Recode_52  \\\n",
       "9995                1             102   F        1         71             40   \n",
       "9996                2             101   M        1         75             41   \n",
       "9997                1             102   F        1         82             42   \n",
       "9998                1             102   F        1         80             42   \n",
       "9999                1             102   M        1         51             36   \n",
       "\n",
       "      Age_Recode_27  Age_Recode_12  Infant_Age_Recode_22  Place_Of_Death  ...  \\\n",
       "9995             20              9                     2               6  ...   \n",
       "9996             21             10                     2               1  ...   \n",
       "9997             22             10                     2               6  ...   \n",
       "9998             22             10                     2               1  ...   \n",
       "9999             16              7                     2               1  ...   \n",
       "\n",
       "      RA11  RA12  RA13 Race  Race_Bridged Race_Imputation Race_Recode_3  \\\n",
       "9995  R688  J969  R068    1             1               2             1   \n",
       "9996  R688  J969  R068    1             1               2             1   \n",
       "9997  R688  J969  R068    1             1               2             1   \n",
       "9998  R688  J969  R068    1             1               2             1   \n",
       "9999  R688  J969  R068    1             1               2             1   \n",
       "\n",
       "      Race_Recode_5  Hispanic_Origin Hispanic_Origin_Recode  \n",
       "9995              1              100                      6  \n",
       "9996              1              100                      6  \n",
       "9997              1              100                      6  \n",
       "9998              1              100                      6  \n",
       "9999              1              100                      6  \n",
       "\n",
       "[5 rows x 59 columns]"
      ]
     },
     "execution_count": 251,
     "metadata": {},
     "output_type": "execute_result"
    }
   ],
   "source": [
    "df.tail()"
   ]
  },
  {
   "cell_type": "markdown",
   "metadata": {},
   "source": [
    "## Descriptive Statistics"
   ]
  },
  {
   "cell_type": "code",
   "execution_count": 252,
   "metadata": {},
   "outputs": [
    {
     "name": "stdout",
     "output_type": "stream",
     "text": [
      "count    10000.000000\n",
      "mean         1.200200\n",
      "std          0.467912\n",
      "min          1.000000\n",
      "25%          1.000000\n",
      "50%          1.000000\n",
      "75%          1.000000\n",
      "max          4.000000\n",
      "Name: Resident_Status, dtype: float64\n",
      "count    10000.000000\n",
      "mean       103.534100\n",
      "std          3.522169\n",
      "min        101.000000\n",
      "25%        101.000000\n",
      "50%        102.000000\n",
      "75%        106.000000\n",
      "max        112.000000\n",
      "Name: Month_Of_Death, dtype: float64\n",
      "count    10000.000000\n",
      "mean         1.020900\n",
      "std          0.272159\n",
      "min          1.000000\n",
      "25%          1.000000\n",
      "50%          1.000000\n",
      "75%          1.000000\n",
      "max          9.000000\n",
      "Name: Age_Key, dtype: float64\n",
      "count    10000.000000\n",
      "mean        69.597400\n",
      "std         24.977292\n",
      "min          1.000000\n",
      "25%         59.000000\n",
      "50%         73.000000\n",
      "75%         84.000000\n",
      "max        999.000000\n",
      "Name: Age_Value, dtype: float64\n",
      "count    10000.000000\n",
      "mean        39.306800\n",
      "std          4.640369\n",
      "min          1.000000\n",
      "25%         37.000000\n",
      "50%         40.000000\n",
      "75%         42.000000\n",
      "max         52.000000\n",
      "Name: Age_Recode_52, dtype: float64\n",
      "count    10000.000000\n",
      "mean        19.410700\n",
      "std          4.019756\n",
      "min          1.000000\n",
      "25%         17.000000\n",
      "50%         20.000000\n",
      "75%         22.000000\n",
      "max         27.000000\n",
      "Name: Age_Recode_27, dtype: float64\n",
      "count    10000.000000\n",
      "mean         8.929600\n",
      "std          1.931739\n",
      "min          1.000000\n",
      "25%          8.000000\n",
      "50%          9.000000\n",
      "75%         10.000000\n",
      "max         12.000000\n",
      "Name: Age_Recode_12, dtype: float64\n",
      "count    10000.000000\n",
      "mean         2.051100\n",
      "std          0.761805\n",
      "min          1.000000\n",
      "25%          2.000000\n",
      "50%          2.000000\n",
      "75%          2.000000\n",
      "max         20.000000\n",
      "Name: Infant_Age_Recode_22, dtype: float64\n",
      "count    10000.000000\n",
      "mean         3.343800\n",
      "std          2.017277\n",
      "min          1.000000\n",
      "25%          1.000000\n",
      "50%          4.000000\n",
      "75%          4.000000\n",
      "max          7.000000\n",
      "Name: Place_Of_Death, dtype: float64\n",
      "count    10000.000000\n",
      "mean         3.917000\n",
      "std          2.000728\n",
      "min          1.000000\n",
      "25%          2.000000\n",
      "50%          4.000000\n",
      "75%          6.000000\n",
      "max          7.000000\n",
      "Name: DOW_of_Death, dtype: float64\n",
      "count    10000.0\n",
      "mean      2017.0\n",
      "std          0.0\n",
      "min       2017.0\n",
      "25%       2017.0\n",
      "50%       2017.0\n",
      "75%       2017.0\n",
      "max       2017.0\n",
      "Name: Data_Year, dtype: float64\n",
      "count    10000.000000\n",
      "mean         6.388500\n",
      "std          1.724896\n",
      "min          1.000000\n",
      "25%          7.000000\n",
      "50%          7.000000\n",
      "75%          7.000000\n",
      "max          7.000000\n",
      "Name: Manner_Of_Death, dtype: float64\n",
      "count    10000.0\n",
      "mean         9.0\n",
      "std          0.0\n",
      "min          9.0\n",
      "25%          9.0\n",
      "50%          9.0\n",
      "75%          9.0\n",
      "max          9.0\n",
      "Name: Activity_Code, dtype: float64\n",
      "count    10000.000000\n",
      "mean         0.361200\n",
      "std          1.688852\n",
      "min          0.000000\n",
      "25%          0.000000\n",
      "50%          0.000000\n",
      "75%          0.000000\n",
      "max          9.000000\n",
      "Name: Place_Of_Causal_Injury, dtype: float64\n",
      "count    10000.000000\n",
      "mean       223.108000\n",
      "std        100.786805\n",
      "min         10.000000\n",
      "25%        159.000000\n",
      "50%        215.000000\n",
      "75%        267.000000\n",
      "max        456.000000\n",
      "Name: Cause_Recode_358, dtype: float64\n",
      "count    10000.000000\n",
      "mean        71.592500\n",
      "std         32.487967\n",
      "min          3.000000\n",
      "25%         46.000000\n",
      "50%         68.000000\n",
      "75%        102.000000\n",
      "max        135.000000\n",
      "Name: Cause_Recode_113, dtype: float64\n",
      "count    10000.000000\n",
      "mean       134.704700\n",
      "std          4.627293\n",
      "min          3.000000\n",
      "25%        135.000000\n",
      "50%        135.000000\n",
      "75%        135.000000\n",
      "max        158.000000\n",
      "Name: Infant_Cause_Recode_130, dtype: float64\n",
      "count    10000.000000\n",
      "mean        25.164500\n",
      "std         10.389477\n",
      "min          1.000000\n",
      "25%         17.000000\n",
      "50%         23.000000\n",
      "75%         37.000000\n",
      "max         42.000000\n",
      "Name: Cause_Recode_39, dtype: float64\n",
      "count    10000.000000\n",
      "mean         2.782700\n",
      "std          1.840168\n",
      "min          1.000000\n",
      "25%          1.000000\n",
      "50%          2.000000\n",
      "75%          4.000000\n",
      "max         13.000000\n",
      "Name: Entity_Axis_Conditions, dtype: float64\n",
      "count    10000.000000\n",
      "mean         2.650700\n",
      "std          1.724931\n",
      "min          1.000000\n",
      "25%          1.000000\n",
      "50%          2.000000\n",
      "75%          4.000000\n",
      "max         13.000000\n",
      "Name: Record_Axis_Conditions, dtype: float64\n",
      "count    10000.000000\n",
      "mean         2.021600\n",
      "std          5.931041\n",
      "min          1.000000\n",
      "25%          1.000000\n",
      "50%          1.000000\n",
      "75%          2.000000\n",
      "max         78.000000\n",
      "Name: Race, dtype: float64\n",
      "count    10000.0\n",
      "mean         1.0\n",
      "std          0.0\n",
      "min          1.0\n",
      "25%          1.0\n",
      "50%          1.0\n",
      "75%          1.0\n",
      "max          1.0\n",
      "Name: Race_Bridged, dtype: float64\n",
      "count    10000.000000\n",
      "mean         1.996700\n",
      "std          0.057354\n",
      "min          1.000000\n",
      "25%          2.000000\n",
      "50%          2.000000\n",
      "75%          2.000000\n",
      "max          2.000000\n",
      "Name: Race_Imputation, dtype: float64\n",
      "count    10000.000000\n",
      "mean         1.374300\n",
      "std          0.692421\n",
      "min          1.000000\n",
      "25%          1.000000\n",
      "50%          1.000000\n",
      "75%          2.000000\n",
      "max          3.000000\n",
      "Name: Race_Recode_3, dtype: float64\n",
      "count    10000.000000\n",
      "mean         1.403800\n",
      "std          0.768768\n",
      "min          1.000000\n",
      "25%          1.000000\n",
      "50%          1.000000\n",
      "75%          2.000000\n",
      "max          4.000000\n",
      "Name: Race_Recode_5, dtype: float64\n",
      "count    10000.000000\n",
      "mean       105.251700\n",
      "std         56.148216\n",
      "min        100.000000\n",
      "25%        100.000000\n",
      "50%        100.000000\n",
      "75%        100.000000\n",
      "max        998.000000\n",
      "Name: Hispanic_Origin, dtype: float64\n",
      "count    10000.000000\n",
      "mean         6.329400\n",
      "std          0.896759\n",
      "min          1.000000\n",
      "25%          6.000000\n",
      "50%          6.000000\n",
      "75%          7.000000\n",
      "max          9.000000\n",
      "Name: Hispanic_Origin_Recode, dtype: float64\n"
     ]
    }
   ],
   "source": [
    "for column in df.columns:\n",
    "    try:\n",
    "        mean = df[column].mean()\n",
    "        if mean > 0:\n",
    "            print(df[column].describe())\n",
    "    except:\n",
    "        pass"
   ]
  },
  {
   "cell_type": "code",
   "execution_count": 253,
   "metadata": {},
   "outputs": [
    {
     "name": "stdout",
     "output_type": "stream",
     "text": [
      "INTER-QUARTILE RANGE (IQR) For Age: 25.0\n"
     ]
    }
   ],
   "source": [
    "Q1 = df[\"Age_Value\"].quantile(0.25)\n",
    "Q3 = df[\"Age_Value\"].quantile(0.75)\n",
    "\n",
    "print(\"INTER-QUARTILE RANGE (IQR) For Age:\", Q3-Q1)"
   ]
  },
  {
   "cell_type": "code",
   "execution_count": 254,
   "metadata": {},
   "outputs": [
    {
     "name": "stdout",
     "output_type": "stream",
     "text": [
      "Life Expectancy regarless of gender: 70.0(mean) 73.0(median) 84(mode)\n"
     ]
    }
   ],
   "source": [
    "print(\"Life Expectancy regarless of gender: {}(mean) {}(median) {}(mode)\".format(round(df[\"Age_Value\"].mean()), df[\"Age_Value\"].median(), df[\"Age_Value\"].mode()[0]))"
   ]
  },
  {
   "cell_type": "code",
   "execution_count": 255,
   "metadata": {},
   "outputs": [
    {
     "name": "stdout",
     "output_type": "stream",
     "text": [
      "Life Expectancy for Males: 67.0(mean) 69.0(median) 74(mode)\n"
     ]
    }
   ],
   "source": [
    "mD = df[df[\"Sex\"] == \"M\"]\n",
    "print(\"Life Expectancy for Males: {}(mean) {}(median) {}(mode)\".format(round(mD[\"Age_Value\"].mean()), mD[\"Age_Value\"].median(), mD[\"Age_Value\"].mode()[0]))"
   ]
  },
  {
   "cell_type": "code",
   "execution_count": 256,
   "metadata": {},
   "outputs": [
    {
     "name": "stdout",
     "output_type": "stream",
     "text": [
      "Life Expectancy for Females: 73.0(mean) 77.0(median) 82(mode)\n"
     ]
    }
   ],
   "source": [
    "fD = df[df[\"Sex\"] == \"F\"]\n",
    "print(\"Life Expectancy for Females: {}(mean) {}(median) {}(mode)\".format(round(fD[\"Age_Value\"].mean()), fD[\"Age_Value\"].median(), fD[\"Age_Value\"].mode()[0]))"
   ]
  },
  {
   "cell_type": "markdown",
   "metadata": {},
   "source": [
    "## Exploratry Data Analysis (EDA)"
   ]
  },
  {
   "cell_type": "markdown",
   "metadata": {},
   "source": [
    "### If married people die more than unmarried and other related"
   ]
  },
  {
   "cell_type": "code",
   "execution_count": 257,
   "metadata": {},
   "outputs": [],
   "source": [
    "dfMarried = df[(df['Marital_Status'] == 'M') ]"
   ]
  },
  {
   "cell_type": "code",
   "execution_count": 258,
   "metadata": {},
   "outputs": [],
   "source": [
    "dfSingle = df[(df['Marital_Status'] == 'S') ]"
   ]
  },
  {
   "cell_type": "code",
   "execution_count": 259,
   "metadata": {},
   "outputs": [],
   "source": [
    "dfWidow = df[(df['Marital_Status'] == 'W') ]"
   ]
  },
  {
   "cell_type": "code",
   "execution_count": 260,
   "metadata": {},
   "outputs": [],
   "source": [
    "dfDivorce = df[(df['Marital_Status'] == 'D') ]"
   ]
  },
  {
   "cell_type": "code",
   "execution_count": 261,
   "metadata": {},
   "outputs": [],
   "source": [
    "dfUnknown = df[(df['Marital_Status'] == 'U') ]"
   ]
  },
  {
   "cell_type": "code",
   "execution_count": 262,
   "metadata": {},
   "outputs": [
    {
     "data": {
      "text/plain": [
       "'37 %'"
      ]
     },
     "execution_count": 262,
     "metadata": {},
     "output_type": "execute_result"
    }
   ],
   "source": [
    "marriedPer = dfMarried.shape[0] / df.shape[0] * 100\n",
    "str(math.ceil(marriedPer)) + ' %'"
   ]
  },
  {
   "cell_type": "code",
   "execution_count": 263,
   "metadata": {},
   "outputs": [
    {
     "data": {
      "text/plain": [
       "'15 %'"
      ]
     },
     "execution_count": 263,
     "metadata": {},
     "output_type": "execute_result"
    }
   ],
   "source": [
    "singlePer = dfSingle.shape[0] / df.shape[0] * 100\n",
    "str(math.ceil(singlePer)) + ' %'"
   ]
  },
  {
   "cell_type": "code",
   "execution_count": 264,
   "metadata": {},
   "outputs": [
    {
     "data": {
      "text/plain": [
       "'29 %'"
      ]
     },
     "execution_count": 264,
     "metadata": {},
     "output_type": "execute_result"
    }
   ],
   "source": [
    "widowPer = dfWidow.shape[0] / df.shape[0] * 100\n",
    "str(math.ceil(widowPer)) + ' %'"
   ]
  },
  {
   "cell_type": "code",
   "execution_count": 265,
   "metadata": {},
   "outputs": [
    {
     "data": {
      "text/plain": [
       "'19 %'"
      ]
     },
     "execution_count": 265,
     "metadata": {},
     "output_type": "execute_result"
    }
   ],
   "source": [
    "divorcePer = dfDivorce.shape[0] / df.shape[0] * 100\n",
    "str(math.ceil(divorcePer)) + ' %'"
   ]
  },
  {
   "cell_type": "code",
   "execution_count": 266,
   "metadata": {},
   "outputs": [
    {
     "data": {
      "text/plain": [
       "'2 %'"
      ]
     },
     "execution_count": 266,
     "metadata": {},
     "output_type": "execute_result"
    }
   ],
   "source": [
    "unknownPer = dfUnknown.shape[0] / df.shape[0] * 100\n",
    "str(math.ceil(unknownPer)) + ' %'"
   ]
  },
  {
   "cell_type": "code",
   "execution_count": 267,
   "metadata": {},
   "outputs": [
    {
     "data": {
      "image/png": "[encoded data removed]",
      "text/plain": [
       "<Figure size 640x480 with 1 Axes>"
      ]
     },
     "metadata": {},
     "output_type": "display_data"
    }
   ],
   "source": [
    "\n",
    "objects = ('Married', 'Single', 'Widowed', 'Divorced', 'Unknown')\n",
    "y_pos = np.arange(len(objects))\n",
    "percentages = [marriedPer, singlePer, widowPer, divorcePer, unknownPer]\n",
    "\n",
    "plt.bar(y_pos, percentages, align='center', alpha=0.5)\n",
    "plt.xticks(y_pos, objects)\n",
    "plt.ylabel('Death Percentage')\n",
    "plt.title('Marital Status Death Rate.')\n",
    "\n",
    "plt.show();"
   ]
  },
  {
   "cell_type": "markdown",
   "metadata": {},
   "source": [
    "### What are and will be the most common causes of death (This requires ML and right now is only w/o ML part)"
   ]
  },
  {
   "cell_type": "code",
   "execution_count": 268,
   "metadata": {},
   "outputs": [
    {
     "data": {
      "text/plain": [
       "Index(['Resident_Status', 'Month_Of_Death', 'Sex', 'Age_Key', 'Age_Value',\n",
       "       'Age_Recode_52', 'Age_Recode_27', 'Age_Recode_12',\n",
       "       'Infant_Age_Recode_22', 'Place_Of_Death', 'Marital_Status',\n",
       "       'DOW_of_Death', 'Data_Year', 'Injured_At_Work', 'Manner_Of_Death',\n",
       "       'Method_Of_Disposition', 'Autopsy', 'Activity_Code',\n",
       "       'Place_Of_Causal_Injury', 'ICD10', 'Cause_Recode_358',\n",
       "       'Cause_Recode_113', 'Infant_Cause_Recode_130', 'Cause_Recode_39',\n",
       "       'Entity_Axis_Conditions', 'EAC1', 'EAC2', 'EAC3', 'EAC4', 'EAC5',\n",
       "       'EAC6', 'EAC7', 'EAC8', 'EAC9', 'EAC10', 'EAC11', 'EAC12', 'EAC13',\n",
       "       'Record_Axis_Conditions', 'RA1', 'RA2', 'RA3', 'RA4', 'RA5', 'RA6',\n",
       "       'RA7', 'RA8', 'RA9', 'RA10', 'RA11', 'RA12', 'RA13', 'Race',\n",
       "       'Race_Bridged', 'Race_Imputation', 'Race_Recode_3', 'Race_Recode_5',\n",
       "       'Hispanic_Origin', 'Hispanic_Origin_Recode'],\n",
       "      dtype='object')"
      ]
     },
     "execution_count": 268,
     "metadata": {},
     "output_type": "execute_result"
    }
   ],
   "source": [
    "df.columns"
   ]
  },
  {
   "cell_type": "code",
   "execution_count": 269,
   "metadata": {},
   "outputs": [],
   "source": [
    "objects = ['Accident', 'Suicide', 'Homicide', 'Pending investigation', 'Could not determine', 'Self-Inflicted', 'Natural']"
   ]
  },
  {
   "cell_type": "code",
   "execution_count": 270,
   "metadata": {},
   "outputs": [
    {
     "data": {
      "text/plain": [
       "7"
      ]
     },
     "execution_count": 270,
     "metadata": {},
     "output_type": "execute_result"
    }
   ],
   "source": [
    "len(objects)"
   ]
  },
  {
   "cell_type": "code",
   "execution_count": 271,
   "metadata": {},
   "outputs": [],
   "source": [
    "sortedCauseOfDeath = sorted(df[\"Manner_Of_Death\"].unique())"
   ]
  },
  {
   "cell_type": "code",
   "execution_count": 272,
   "metadata": {},
   "outputs": [],
   "source": [
    "labels = [objects[x-1] for x in sortedCauseOfDeath]"
   ]
  },
  {
   "cell_type": "code",
   "execution_count": 273,
   "metadata": {},
   "outputs": [],
   "source": [
    "def getColumnPercentages(_df, column):\n",
    "    return [((_df[_df[column] == uVal].shape[0]/df[column].shape[0])*100) for uVal in sorted(_df[column].unique())]"
   ]
  },
  {
   "cell_type": "code",
   "execution_count": 274,
   "metadata": {},
   "outputs": [],
   "source": [
    "deathCausePcts = getColumnPercentages(df, \"Manner_Of_Death\")"
   ]
  },
  {
   "cell_type": "code",
   "execution_count": 275,
   "metadata": {},
   "outputs": [
    {
     "data": {
      "text/plain": [
       "6"
      ]
     },
     "execution_count": 275,
     "metadata": {},
     "output_type": "execute_result"
    }
   ],
   "source": [
    "len(deathCausePcts)"
   ]
  },
  {
   "cell_type": "code",
   "execution_count": 276,
   "metadata": {
    "scrolled": true
   },
   "outputs": [
    {
     "name": "stdout",
     "output_type": "stream",
     "text": [
      "Accident: 6.61%\n",
      "Suicide: 2.94%\n",
      "Homicide: 1.22%\n",
      "Pending investigation: 0.03%\n",
      "Could not determine: 0.91%\n",
      "Natural: 88.29%\n"
     ]
    }
   ],
   "source": [
    "for i in range(0, len(deathCausePcts)):\n",
    "    print(f\"{labels[i]}: {deathCausePcts[i]}%\");"
   ]
  },
  {
   "cell_type": "code",
   "execution_count": 277,
   "metadata": {},
   "outputs": [
    {
     "data": {
      "image/png": "[encoded data removed]",
      "text/plain": [
       "<Figure size 640x480 with 1 Axes>"
      ]
     },
     "metadata": {},
     "output_type": "display_data"
    }
   ],
   "source": [
    "# percentages = [manner1Per, manner2Per, manner3Per, manner4Per, manner5Per, manner6Per, manner7Per]\n",
    "# idx = deathCausePcts.index(0.0)\n",
    "# percentages = deathCausePcts[:idx] + deathCausePcts[idx+1:]\n",
    "# objects = objects[:idx] + objects[idx+1:]\n",
    "\n",
    "plt.pie(\n",
    "    x=deathCausePcts,\n",
    "    labels=labels,\n",
    "    rotatelabels=45,\n",
    "    radius=3,\n",
    "    textprops={\n",
    "        \"fontsize\": 12\n",
    "    }\n",
    ")\n",
    "# plt.bar(y_pos, percentages, align='center', alpha=0.5)\n",
    "# plt.xticks(y_pos, objects, rotation=30)\n",
    "# plt.ylabel('Death Percentage')\n",
    "# plt.title('Most Common Causes Of Death.')\n",
    "#plt.setp(ax.get_xticklabels(), rotation=30, horizontalalignment='right', fontsize='x-small')\n",
    "plt.show();"
   ]
  },
  {
   "cell_type": "markdown",
   "metadata": {},
   "source": [
    "### Life expectancy for certain age groups"
   ]
  },
  {
   "cell_type": "code",
   "execution_count": 278,
   "metadata": {},
   "outputs": [],
   "source": [
    "def getGroupedValues(dataF, colName, gap, total, isLast = False):\n",
    "    pValue = 0\n",
    "    nValue = gap\n",
    "    values = []\n",
    "    for i in range(0, total):\n",
    "        values.append(dataF[(dataF[colName] >= pValue) & (dataF[colName] < nValue)].shape[0])\n",
    "#         print(f\"{pValue} - {nValue}\")\n",
    "        pValue = nValue\n",
    "        nValue += gap\n",
    "    if isLast:\n",
    "        values.append(dataF[dataF[colName] >= nValue].shape[0])\n",
    "    return values"
   ]
  },
  {
   "cell_type": "code",
   "execution_count": 279,
   "metadata": {
    "scrolled": true
   },
   "outputs": [
    {
     "data": {
      "text/plain": [
       "Index(['Resident_Status', 'Month_Of_Death', 'Sex', 'Age_Key', 'Age_Value',\n",
       "       'Age_Recode_52', 'Age_Recode_27', 'Age_Recode_12',\n",
       "       'Infant_Age_Recode_22', 'Place_Of_Death', 'Marital_Status',\n",
       "       'DOW_of_Death', 'Data_Year', 'Injured_At_Work', 'Manner_Of_Death',\n",
       "       'Method_Of_Disposition', 'Autopsy', 'Activity_Code',\n",
       "       'Place_Of_Causal_Injury', 'ICD10', 'Cause_Recode_358',\n",
       "       'Cause_Recode_113', 'Infant_Cause_Recode_130', 'Cause_Recode_39',\n",
       "       'Entity_Axis_Conditions', 'EAC1', 'EAC2', 'EAC3', 'EAC4', 'EAC5',\n",
       "       'EAC6', 'EAC7', 'EAC8', 'EAC9', 'EAC10', 'EAC11', 'EAC12', 'EAC13',\n",
       "       'Record_Axis_Conditions', 'RA1', 'RA2', 'RA3', 'RA4', 'RA5', 'RA6',\n",
       "       'RA7', 'RA8', 'RA9', 'RA10', 'RA11', 'RA12', 'RA13', 'Race',\n",
       "       'Race_Bridged', 'Race_Imputation', 'Race_Recode_3', 'Race_Recode_5',\n",
       "       'Hispanic_Origin', 'Hispanic_Origin_Recode'],\n",
       "      dtype='object')"
      ]
     },
     "execution_count": 279,
     "metadata": {},
     "output_type": "execute_result"
    }
   ],
   "source": [
    "df.columns"
   ]
  },
  {
   "cell_type": "code",
   "execution_count": 280,
   "metadata": {},
   "outputs": [
    {
     "name": "stdout",
     "output_type": "stream",
     "text": [
      "[106, 98, 284, 356, 513, 1150, 1860, 2148, 2300, 1124, 3]\n"
     ]
    },
    {
     "data": {
      "image/png": "[encoded data removed]",
      "text/plain": [
       "<Figure size 640x480 with 1 Axes>"
      ]
     },
     "metadata": {},
     "output_type": "display_data"
    }
   ],
   "source": [
    "year = ['0 - 9', '10 - 19', '20 - 29', '30 - 39', '40 - 49', '50 - 59', '60 - 69', '70 - 79', '80 - 89', '90 - 99', '100 - above']\n",
    "numberOfDeaths = getGroupedValues(df, \"Age_Value\", 10, len(year)-1, True)\n",
    "print(numberOfDeaths)\n",
    "plt.plot(year, numberOfDeaths, color='orange')\n",
    "plt.xticks(rotation=45)\n",
    "plt.xlabel('Years')\n",
    "plt.ylabel('Total Deaths')\n",
    "plt.title('Life expectancy for certain age groups.')\n",
    "plt.show()"
   ]
  },
  {
   "cell_type": "markdown",
   "metadata": {},
   "source": [
    "### Death Rate Comparison/Correlation between both genders"
   ]
  },
  {
   "cell_type": "code",
   "execution_count": 281,
   "metadata": {},
   "outputs": [
    {
     "data": {
      "text/plain": [
       "(5378, 59)"
      ]
     },
     "execution_count": 281,
     "metadata": {},
     "output_type": "execute_result"
    }
   ],
   "source": [
    "maleData = df[df[\"Sex\"] == \"M\"]\n",
    "\n",
    "maleData.shape"
   ]
  },
  {
   "cell_type": "code",
   "execution_count": 282,
   "metadata": {},
   "outputs": [
    {
     "data": {
      "text/plain": [
       "(4622, 59)"
      ]
     },
     "execution_count": 282,
     "metadata": {},
     "output_type": "execute_result"
    }
   ],
   "source": [
    "femaleData = df[df[\"Sex\"] == \"F\"]\n",
    "\n",
    "femaleData.shape"
   ]
  },
  {
   "cell_type": "code",
   "execution_count": 283,
   "metadata": {},
   "outputs": [],
   "source": [
    "c_years = year[:-2]\n",
    "c_years.append('90 - 100')\n",
    "c_years.append('100 - above')"
   ]
  },
  {
   "cell_type": "code",
   "execution_count": 284,
   "metadata": {},
   "outputs": [],
   "source": [
    "maleDeaths = getGroupedValues(maleData, \"Age_Value\", 10, len(c_years)-1, True)\n",
    "femaleDeaths = getGroupedValues(femaleData, \"Age_Value\", 10,len(c_years)-1, True)"
   ]
  },
  {
   "cell_type": "code",
   "execution_count": 285,
   "metadata": {},
   "outputs": [
    {
     "data": {
      "image/png": "[encoded data removed]",
      "text/plain": [
       "<Figure size 640x480 with 1 Axes>"
      ]
     },
     "metadata": {},
     "output_type": "display_data"
    }
   ],
   "source": [
    "plt.plot(c_years, maleDeaths, color='orange')\n",
    "# plt.show()\n",
    "plt.plot(c_years, femaleDeaths, color='blue')\n",
    "plt.legend(df[\"Sex\"].unique())\n",
    "plt.xticks(rotation=45)\n",
    "plt.xlabel('Years')\n",
    "plt.ylabel('Total Deaths')\n",
    "plt.title('Death Rate Correlation Between Male And Female Data.')\n",
    "plt.show()"
   ]
  },
  {
   "cell_type": "markdown",
   "metadata": {},
   "source": [
    "### How causes of death have changed compared to past 10 years"
   ]
  },
  {
   "cell_type": "code",
   "execution_count": 303,
   "metadata": {},
   "outputs": [
    {
     "data": {
      "text/plain": [
       "Index(['Resident_Status', ' Education', ' Month_Of_Death', ' Sex', ' Age_Key',\n",
       "       ' Age_Value', ' Age_Sub_Flag', ' Age_Recode_52', ' Age_Recode_27',\n",
       "       ' Age_Recode_12', ' Infant_Age_Recode_22', ' Place_Of_Death',\n",
       "       ' Marital_Status', ' DOW_of_Death', ' Data_Year', ' Injured_At_Work',\n",
       "       ' Manner_Of_Death', ' Method_Of_Disposition', ' Autopsy',\n",
       "       ' Activity_Code', ' Place_Of_Causal_Injury', '  ICD10',\n",
       "       ' Cause_Recode_358', ' Cause_Recode_113', ' Infant_Cause_Recode_130',\n",
       "       ' Cause_Recode_39', ' Entity_Axis_Conditions', ' EAC1', ' EAC2',\n",
       "       ' EAC3', ' EAC4', ' EAC5', ' EAC6', ' EAC7', ' EAC8', ' EAC9', ' EAC10',\n",
       "       ' EAC11', ' EAC12', ' EAC13', ' EAC14', ' EAC15', ' EAC16', ' EAC17',\n",
       "       ' EAC18', ' EAC19', ' EAC20', ' Record_Axis_Conditions', ' RA1', ' RA2',\n",
       "       ' RA3', ' RA4', ' RA5', ' RA6', ' RA7', ' RA8', ' RA9', ' RA10',\n",
       "       ' RA11', ' RA12', ' RA13', ' RA14', ' RA15', ' RA16', ' RA17', ' RA18',\n",
       "       ' RA19', ' RA20', ' Race', ' Race_Bridged', ' Race_Imputation',\n",
       "       ' Race_Recode_3', ' Race_Recode_5', ' Hispanic_Origin',\n",
       "       ' Hispanic_Origin_Recode'],\n",
       "      dtype='object')"
      ]
     },
     "execution_count": 303,
     "metadata": {},
     "output_type": "execute_result"
    }
   ],
   "source": [
    "odf = pd.read_csv(\"VS07MORT.csv\", nrows=100000)\n",
    "\n",
    "odf.columns"
   ]
  },
  {
   "cell_type": "code",
   "execution_count": 304,
   "metadata": {},
   "outputs": [
    {
     "data": {
      "text/plain": [
       "(100000, 75)"
      ]
     },
     "execution_count": 304,
     "metadata": {},
     "output_type": "execute_result"
    }
   ],
   "source": [
    "odf.shape"
   ]
  },
  {
   "cell_type": "code",
   "execution_count": 305,
   "metadata": {},
   "outputs": [],
   "source": [
    "odf = cleanEmptyStringValues(odf)\n",
    "\n",
    "odf = replaceNAWithMode(odf)"
   ]
  },
  {
   "cell_type": "code",
   "execution_count": 306,
   "metadata": {},
   "outputs": [],
   "source": [
    "odf = cleanColumns(odf)"
   ]
  },
  {
   "cell_type": "code",
   "execution_count": 307,
   "metadata": {},
   "outputs": [],
   "source": [
    "odf = odf.drop(columns=[x for x in odf.columns if len(odf[x].unique()) <= 1 and odf[x].unique()[0] == None])"
   ]
  },
  {
   "cell_type": "code",
   "execution_count": 308,
   "metadata": {},
   "outputs": [],
   "source": [
    "odf = odf.applymap(tryConvertingToNumber)"
   ]
  },
  {
   "cell_type": "markdown",
   "metadata": {},
   "source": [
    "### Old (Other Dataset) Data Cleaning and Analysis"
   ]
  },
  {
   "cell_type": "code",
   "execution_count": 309,
   "metadata": {
    "scrolled": true
   },
   "outputs": [
    {
     "data": {
      "text/plain": [
       "[1, 2, 3, 4, 5, 7]"
      ]
     },
     "execution_count": 309,
     "metadata": {},
     "output_type": "execute_result"
    }
   ],
   "source": [
    "sortedCauses = sorted(odf[\"Manner_Of_Death\"].unique())\n",
    "\n",
    "sortedCauses"
   ]
  },
  {
   "cell_type": "code",
   "execution_count": 310,
   "metadata": {},
   "outputs": [],
   "source": [
    "oldDeathPcts = getColumnPercentages(odf, \"Manner_Of_Death\")"
   ]
  },
  {
   "cell_type": "code",
   "execution_count": 311,
   "metadata": {},
   "outputs": [
    {
     "name": "stdout",
     "output_type": "stream",
     "text": [
      "Accident: 60.589999999999996%\n",
      "Suicide: 18.2%\n",
      "Homicide: 11.28%\n",
      "Pending investigation: 1.32%\n",
      "Could not determine: 6.279999999999999%\n",
      "Natural: 902.33%\n"
     ]
    }
   ],
   "source": [
    "for i in range(0, len(oldDeathPcts)):\n",
    "    print(f\"{labels[i]}: {oldDeathPcts[i]}%\")"
   ]
  },
  {
   "cell_type": "code",
   "execution_count": 312,
   "metadata": {},
   "outputs": [
    {
     "data": {
      "image/png": "[encoded data removed]",
      "text/plain": [
       "<Figure size 640x480 with 1 Axes>"
      ]
     },
     "metadata": {},
     "output_type": "display_data"
    }
   ],
   "source": [
    "plt.pie(\n",
    "    x=oldDeathPcts,\n",
    "    labels=labels,\n",
    "    rotatelabels=45,\n",
    "    radius=3,\n",
    "    textprops={\n",
    "        \"fontsize\": 12\n",
    "    }\n",
    ")\n",
    "\n",
    "plt.show()"
   ]
  },
  {
   "cell_type": "markdown",
   "metadata": {},
   "source": [
    "**Comparison between 10 years past and 2017 Death rates:**"
   ]
  },
  {
   "cell_type": "code",
   "execution_count": 313,
   "metadata": {
    "scrolled": true
   },
   "outputs": [
    {
     "name": "stdout",
     "output_type": "stream",
     "text": [
      "Accident: 61%(old), 7%(current)\n",
      "Suicide: 19%(old), 3%(current)\n",
      "Homicide: 12%(old), 2%(current)\n",
      "Pending investigation: 2%(old), 1%(current)\n",
      "Could not determine: 7%(old), 1%(current)\n",
      "Natural: 903%(old), 89%(current)\n"
     ]
    }
   ],
   "source": [
    "\n",
    "for i in range(0, min(len(oldDeathPcts), len(deathCausePcts))):\n",
    "    print(f\"{labels[i]}: {math.ceil(oldDeathPcts[i])}%(old), {math.ceil(deathCausePcts[i])}%(current)\")"
   ]
  },
  {
   "cell_type": "code",
   "execution_count": 314,
   "metadata": {},
   "outputs": [
    {
     "data": {
      "text/plain": [
       "6"
      ]
     },
     "execution_count": 314,
     "metadata": {},
     "output_type": "execute_result"
    }
   ],
   "source": [
    "len(deathCausePcts)"
   ]
  },
  {
   "cell_type": "code",
   "execution_count": 315,
   "metadata": {},
   "outputs": [
    {
     "data": {
      "image/png": "[encoded data removed]",
      "text/plain": [
       "<Figure size 640x480 with 1 Axes>"
      ]
     },
     "metadata": {},
     "output_type": "display_data"
    }
   ],
   "source": [
    "n_groups = len(deathCausePcts)\n",
    "\n",
    "# create plot\n",
    "fig, ax = plt.subplots()\n",
    "index = np.arange(n_groups)\n",
    "bar_width = 0.35\n",
    "opacity = 0.8\n",
    "\n",
    "rects1 = plt.bar(index, oldDeathPcts, bar_width,\n",
    "alpha=opacity,\n",
    "color='b',\n",
    "label='2007')\n",
    "\n",
    "rects2 = plt.bar(index + bar_width, deathCausePcts, bar_width,\n",
    "alpha=opacity,\n",
    "color='g',\n",
    "label='2017')\n",
    "\n",
    "plt.xlabel('Person')\n",
    "plt.ylabel('Death Rate')\n",
    "plt.title('Comparison between 10 years')\n",
    "plt.xticks(index + bar_width, ('A', 'B', 'C', 'D'))\n",
    "plt.legend()\n",
    "\n",
    "plt.tight_layout()\n",
    "plt.show()"
   ]
  },
  {
   "cell_type": "code",
   "execution_count": null,
   "metadata": {},
   "outputs": [],
   "source": []
  }
 ],
 "metadata": {
  "kernelspec": {
   "display_name": "Python 3",
   "language": "python",
   "name": "python3"
  },
  "language_info": {
   "codemirror_mode": {
    "name": "ipython",
    "version": 3
   },
   "file_extension": ".py",
   "mimetype": "text/x-python",
   "name": "python",
   "nbconvert_exporter": "python",
   "pygments_lexer": "ipython3",
   "version": "3.7.2"
  }
 },
 "nbformat": 4,
 "nbformat_minor": 2
}
