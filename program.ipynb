{
 "cells": [
  {
   "cell_type": "markdown",
   "metadata": {},
   "source": [
    "# Mortality Dataset Project \n",
    "\n",
    "PROBLEM STATEMENT: Trends/Changes in Mortality\n",
    "\n",
    "\n",
    "**STEPS:**\n",
    "```\n",
    "- Data Loading\n",
    "- Data Cleaning\n",
    "- Descriptive Analysis\n",
    "- EDA\n",
    "```\n",
    "**DATA:**\n",
    "```\n",
    "- Data is taken from CDC.gov\n",
    "```"
   ]
  },
  {
   "cell_type": "code",
   "execution_count": 151,
   "metadata": {},
   "outputs": [],
   "source": [
    "import pandas as pd\n",
    "import numpy as np\n",
    "import re\n",
    "import math\n",
    "\n",
    "import seaborn as sns\n",
    "import matplotlib.pyplot as plt; plt.rcdefaults()\n",
    "import matplotlib.pyplot as plt"
   ]
  },
  {
   "cell_type": "markdown",
   "metadata": {},
   "source": [
    "## Data Loading"
   ]
  },
  {
   "cell_type": "code",
   "execution_count": 152,
   "metadata": {},
   "outputs": [],
   "source": [
    "df = pd.read_csv(\"VS17MORT.csv\", low_memory=False, nrows=500000) # Mortality dataset's DATAFRAME"
   ]
  },
  {
   "cell_type": "code",
   "execution_count": 153,
   "metadata": {},
   "outputs": [
    {
     "data": {
      "text/html": [
       "<div>\n",
       "<style scoped>\n",
       "    .dataframe tbody tr th:only-of-type {\n",
       "        vertical-align: middle;\n",
       "    }\n",
       "\n",
       "    .dataframe tbody tr th {\n",
       "        vertical-align: top;\n",
       "    }\n",
       "\n",
       "    .dataframe thead th {\n",
       "        text-align: right;\n",
       "    }\n",
       "</style>\n",
       "<table border=\"1\" class=\"dataframe\">\n",
       "  <thead>\n",
       "    <tr style=\"text-align: right;\">\n",
       "      <th></th>\n",
       "      <th>Resident_Status</th>\n",
       "      <th>Education</th>\n",
       "      <th>Month_Of_Death</th>\n",
       "      <th>Sex</th>\n",
       "      <th>Age_Key</th>\n",
       "      <th>Age_Value</th>\n",
       "      <th>Age_Sub_Flag</th>\n",
       "      <th>Age_Recode_52</th>\n",
       "      <th>Age_Recode_27</th>\n",
       "      <th>Age_Recode_12</th>\n",
       "      <th>...</th>\n",
       "      <th>RA18</th>\n",
       "      <th>RA19</th>\n",
       "      <th>RA20</th>\n",
       "      <th>Race</th>\n",
       "      <th>Race_Bridged</th>\n",
       "      <th>Race_Imputation</th>\n",
       "      <th>Race_Recode_3</th>\n",
       "      <th>Race_Recode_5</th>\n",
       "      <th>Hispanic_Origin</th>\n",
       "      <th>Hispanic_Origin_Recode</th>\n",
       "    </tr>\n",
       "  </thead>\n",
       "  <tbody>\n",
       "    <tr>\n",
       "      <th>0</th>\n",
       "      <td>1</td>\n",
       "      <td></td>\n",
       "      <td>101</td>\n",
       "      <td>M</td>\n",
       "      <td>1</td>\n",
       "      <td>71</td>\n",
       "      <td></td>\n",
       "      <td>40</td>\n",
       "      <td>20</td>\n",
       "      <td>9</td>\n",
       "      <td>...</td>\n",
       "      <td></td>\n",
       "      <td></td>\n",
       "      <td></td>\n",
       "      <td>1</td>\n",
       "      <td></td>\n",
       "      <td></td>\n",
       "      <td>1</td>\n",
       "      <td>1</td>\n",
       "      <td>100</td>\n",
       "      <td>6</td>\n",
       "    </tr>\n",
       "    <tr>\n",
       "      <th>1</th>\n",
       "      <td>1</td>\n",
       "      <td></td>\n",
       "      <td>101</td>\n",
       "      <td>M</td>\n",
       "      <td>1</td>\n",
       "      <td>74</td>\n",
       "      <td></td>\n",
       "      <td>40</td>\n",
       "      <td>20</td>\n",
       "      <td>9</td>\n",
       "      <td>...</td>\n",
       "      <td></td>\n",
       "      <td></td>\n",
       "      <td></td>\n",
       "      <td>1</td>\n",
       "      <td></td>\n",
       "      <td></td>\n",
       "      <td>1</td>\n",
       "      <td>1</td>\n",
       "      <td>100</td>\n",
       "      <td>6</td>\n",
       "    </tr>\n",
       "    <tr>\n",
       "      <th>2</th>\n",
       "      <td>1</td>\n",
       "      <td></td>\n",
       "      <td>101</td>\n",
       "      <td>M</td>\n",
       "      <td>1</td>\n",
       "      <td>59</td>\n",
       "      <td></td>\n",
       "      <td>37</td>\n",
       "      <td>17</td>\n",
       "      <td>8</td>\n",
       "      <td>...</td>\n",
       "      <td></td>\n",
       "      <td></td>\n",
       "      <td></td>\n",
       "      <td>1</td>\n",
       "      <td></td>\n",
       "      <td></td>\n",
       "      <td>1</td>\n",
       "      <td>1</td>\n",
       "      <td>100</td>\n",
       "      <td>6</td>\n",
       "    </tr>\n",
       "    <tr>\n",
       "      <th>3</th>\n",
       "      <td>1</td>\n",
       "      <td></td>\n",
       "      <td>101</td>\n",
       "      <td>M</td>\n",
       "      <td>1</td>\n",
       "      <td>90</td>\n",
       "      <td></td>\n",
       "      <td>44</td>\n",
       "      <td>24</td>\n",
       "      <td>11</td>\n",
       "      <td>...</td>\n",
       "      <td></td>\n",
       "      <td></td>\n",
       "      <td></td>\n",
       "      <td>3</td>\n",
       "      <td></td>\n",
       "      <td></td>\n",
       "      <td>2</td>\n",
       "      <td>3</td>\n",
       "      <td>100</td>\n",
       "      <td>8</td>\n",
       "    </tr>\n",
       "    <tr>\n",
       "      <th>4</th>\n",
       "      <td>1</td>\n",
       "      <td></td>\n",
       "      <td>101</td>\n",
       "      <td>M</td>\n",
       "      <td>1</td>\n",
       "      <td>66</td>\n",
       "      <td></td>\n",
       "      <td>39</td>\n",
       "      <td>19</td>\n",
       "      <td>9</td>\n",
       "      <td>...</td>\n",
       "      <td></td>\n",
       "      <td></td>\n",
       "      <td></td>\n",
       "      <td>1</td>\n",
       "      <td></td>\n",
       "      <td></td>\n",
       "      <td>1</td>\n",
       "      <td>1</td>\n",
       "      <td>100</td>\n",
       "      <td>6</td>\n",
       "    </tr>\n",
       "  </tbody>\n",
       "</table>\n",
       "<p>5 rows × 75 columns</p>\n",
       "</div>"
      ],
      "text/plain": [
       "   Resident_Status  Education   Month_Of_Death  Sex   Age_Key   Age_Value  \\\n",
       "0                1                         101    M         1          71   \n",
       "1                1                         101    M         1          74   \n",
       "2                1                         101    M         1          59   \n",
       "3                1                         101    M         1          90   \n",
       "4                1                         101    M         1          66   \n",
       "\n",
       "   Age_Sub_Flag   Age_Recode_52   Age_Recode_27   Age_Recode_12  ...  RA18  \\\n",
       "0                            40              20               9  ...         \n",
       "1                            40              20               9  ...         \n",
       "2                            37              17               8  ...         \n",
       "3                            44              24              11  ...         \n",
       "4                            39              19               9  ...         \n",
       "\n",
       "    RA19  RA20   Race   Race_Bridged  Race_Imputation  Race_Recode_3  \\\n",
       "0                   1                                              1   \n",
       "1                   1                                              1   \n",
       "2                   1                                              1   \n",
       "3                   3                                              2   \n",
       "4                   1                                              1   \n",
       "\n",
       "   Race_Recode_5  Hispanic_Origin  Hispanic_Origin_Recode  \n",
       "0              1              100                       6  \n",
       "1              1              100                       6  \n",
       "2              1              100                       6  \n",
       "3              3              100                       8  \n",
       "4              1              100                       6  \n",
       "\n",
       "[5 rows x 75 columns]"
      ]
     },
     "execution_count": 153,
     "metadata": {},
     "output_type": "execute_result"
    }
   ],
   "source": [
    "df.head(5)"
   ]
  },
  {
   "cell_type": "code",
   "execution_count": 154,
   "metadata": {},
   "outputs": [
    {
     "data": {
      "text/plain": [
       "(500000, 75)"
      ]
     },
     "execution_count": 154,
     "metadata": {},
     "output_type": "execute_result"
    }
   ],
   "source": [
    "df.shape"
   ]
  },
  {
   "cell_type": "code",
   "execution_count": 155,
   "metadata": {
    "scrolled": true
   },
   "outputs": [
    {
     "data": {
      "text/plain": [
       "Index(['Resident_Status', ' Education', ' Month_Of_Death', ' Sex', ' Age_Key',\n",
       "       ' Age_Value', ' Age_Sub_Flag', ' Age_Recode_52', ' Age_Recode_27',\n",
       "       ' Age_Recode_12', ' Infant_Age_Recode_22', ' Place_Of_Death',\n",
       "       ' Marital_Status', ' DOW_of_Death', ' Data_Year', ' Injured_At_Work',\n",
       "       ' Manner_Of_Death', ' Method_Of_Disposition', ' Autopsy',\n",
       "       ' Activity_Code', ' Place_Of_Causal_Injury', '  ICD10',\n",
       "       ' Cause_Recode_358', ' Cause_Recode_113', ' Infant_Cause_Recode_130',\n",
       "       ' Cause_Recode_39', ' Entity_Axis_Conditions', ' EAC1', ' EAC2',\n",
       "       ' EAC3', ' EAC4', ' EAC5', ' EAC6', ' EAC7', ' EAC8', ' EAC9', ' EAC10',\n",
       "       ' EAC11', ' EAC12', ' EAC13', ' EAC14', ' EAC15', ' EAC16', ' EAC17',\n",
       "       ' EAC18', ' EAC19', ' EAC20', ' Record_Axis_Conditions', ' RA1', ' RA2',\n",
       "       ' RA3', ' RA4', ' RA5', ' RA6', ' RA7', ' RA8', ' RA9', ' RA10',\n",
       "       ' RA11', ' RA12', ' RA13', ' RA14', ' RA15', ' RA16', ' RA17', ' RA18',\n",
       "       ' RA19', ' RA20', ' Race', ' Race_Bridged', ' Race_Imputation',\n",
       "       ' Race_Recode_3', ' Race_Recode_5', ' Hispanic_Origin',\n",
       "       ' Hispanic_Origin_Recode'],\n",
       "      dtype='object')"
      ]
     },
     "execution_count": 155,
     "metadata": {},
     "output_type": "execute_result"
    }
   ],
   "source": [
    "df.columns"
   ]
  },
  {
   "cell_type": "code",
   "execution_count": 156,
   "metadata": {
    "scrolled": true
   },
   "outputs": [
    {
     "data": {
      "text/plain": [
       "array([' '], dtype=object)"
      ]
     },
     "execution_count": 156,
     "metadata": {},
     "output_type": "execute_result"
    }
   ],
   "source": [
    "df[\" Education\"].unique()"
   ]
  },
  {
   "cell_type": "markdown",
   "metadata": {},
   "source": [
    "## Data Cleaning"
   ]
  },
  {
   "cell_type": "code",
   "execution_count": 157,
   "metadata": {},
   "outputs": [],
   "source": [
    "def removeSpaces(item):\n",
    "    regex = re.compile(\"\\S+\")\n",
    "    if type(item) == str:\n",
    "        rep = regex.findall(item)\n",
    "        return rep[0] if len(rep) else item\n",
    "    return item\n",
    "\n",
    "def cleanColumns(dataFrame):\n",
    "    return dataFrame.rename(columns=lambda x: removeSpaces(x))"
   ]
  },
  {
   "cell_type": "code",
   "execution_count": 158,
   "metadata": {},
   "outputs": [],
   "source": [
    "df = cleanColumns(df)"
   ]
  },
  {
   "cell_type": "code",
   "execution_count": 159,
   "metadata": {},
   "outputs": [
    {
     "data": {
      "text/plain": [
       "Index(['Resident_Status', 'Education', 'Month_Of_Death', 'Sex', 'Age_Key',\n",
       "       'Age_Value', 'Age_Sub_Flag', 'Age_Recode_52', 'Age_Recode_27',\n",
       "       'Age_Recode_12', 'Infant_Age_Recode_22', 'Place_Of_Death',\n",
       "       'Marital_Status', 'DOW_of_Death', 'Data_Year', 'Injured_At_Work',\n",
       "       'Manner_Of_Death', 'Method_Of_Disposition', 'Autopsy', 'Activity_Code',\n",
       "       'Place_Of_Causal_Injury', 'ICD10', 'Cause_Recode_358',\n",
       "       'Cause_Recode_113', 'Infant_Cause_Recode_130', 'Cause_Recode_39',\n",
       "       'Entity_Axis_Conditions', 'EAC1', 'EAC2', 'EAC3', 'EAC4', 'EAC5',\n",
       "       'EAC6', 'EAC7', 'EAC8', 'EAC9', 'EAC10', 'EAC11', 'EAC12', 'EAC13',\n",
       "       'EAC14', 'EAC15', 'EAC16', 'EAC17', 'EAC18', 'EAC19', 'EAC20',\n",
       "       'Record_Axis_Conditions', 'RA1', 'RA2', 'RA3', 'RA4', 'RA5', 'RA6',\n",
       "       'RA7', 'RA8', 'RA9', 'RA10', 'RA11', 'RA12', 'RA13', 'RA14', 'RA15',\n",
       "       'RA16', 'RA17', 'RA18', 'RA19', 'RA20', 'Race', 'Race_Bridged',\n",
       "       'Race_Imputation', 'Race_Recode_3', 'Race_Recode_5', 'Hispanic_Origin',\n",
       "       'Hispanic_Origin_Recode'],\n",
       "      dtype='object')"
      ]
     },
     "execution_count": 159,
     "metadata": {},
     "output_type": "execute_result"
    }
   ],
   "source": [
    "df.columns"
   ]
  },
  {
   "cell_type": "code",
   "execution_count": 160,
   "metadata": {},
   "outputs": [],
   "source": [
    "df = df[df[\"Age_Value\"] < 150]"
   ]
  },
  {
   "cell_type": "code",
   "execution_count": 161,
   "metadata": {},
   "outputs": [
    {
     "data": {
      "text/plain": [
       "         498688\n",
       " W80         43\n",
       " R688        43\n",
       " R090        33\n",
       " N179        32\n",
       "          ...  \n",
       " K559         1\n",
       " K859         1\n",
       " T71          1\n",
       " K767         1\n",
       " N309         1\n",
       "Name: RA11, Length: 250, dtype: int64"
      ]
     },
     "execution_count": 161,
     "metadata": {},
     "output_type": "execute_result"
    }
   ],
   "source": [
    "df[\"RA11\"].value_counts()"
   ]
  },
  {
   "cell_type": "code",
   "execution_count": 162,
   "metadata": {},
   "outputs": [],
   "source": [
    "def getInValuableColumns(dataframe):\n",
    "    features = df.columns\n",
    "    drop = []\n",
    "    for col in features:\n",
    "        feature = dataframe[col]\n",
    "        if ' ' in feature.value_counts() and np.sum(feature[feature == ' '].value_counts())/dataframe.shape[0] > 0.7:\n",
    "            drop.append(col)\n",
    "    return drop"
   ]
  },
  {
   "cell_type": "code",
   "execution_count": 163,
   "metadata": {},
   "outputs": [],
   "source": [
    "# df = df.drop(columns=[x for x in df.columns if len(df[x].unique()) <= 1 or df[x].unique()[0] == None])\n",
    "df = df.drop(columns=getInValuableColumns(df))"
   ]
  },
  {
   "cell_type": "code",
   "execution_count": 164,
   "metadata": {},
   "outputs": [],
   "source": [
    "def cleanEmptyStringValues(_df):\n",
    "    return _df.applymap(lambda x: x if str(x) != ' ' else None)"
   ]
  },
  {
   "cell_type": "code",
   "execution_count": 165,
   "metadata": {},
   "outputs": [],
   "source": [
    "df = cleanEmptyStringValues(df)"
   ]
  },
  {
   "cell_type": "code",
   "execution_count": 166,
   "metadata": {},
   "outputs": [],
   "source": [
    "def fixStringValues(_df):\n",
    "    return _df.applymap(lambda x: removeSpaces(x))"
   ]
  },
  {
   "cell_type": "code",
   "execution_count": 167,
   "metadata": {},
   "outputs": [],
   "source": [
    "df = fixStringValues(df)"
   ]
  },
  {
   "cell_type": "code",
   "execution_count": 168,
   "metadata": {},
   "outputs": [],
   "source": [
    "def replaceNAWithMode(_df):\n",
    "    for column in _df.columns:\n",
    "        try:\n",
    "            _mode = _df[column].mode()[0]\n",
    "            _df[column] = _df[column].fillna(_mode)\n",
    "        except:\n",
    "            pass\n",
    "    return _df"
   ]
  },
  {
   "cell_type": "code",
   "execution_count": 169,
   "metadata": {},
   "outputs": [],
   "source": [
    "df = replaceNAWithMode(df)"
   ]
  },
  {
   "cell_type": "code",
   "execution_count": 170,
   "metadata": {
    "scrolled": true
   },
   "outputs": [
    {
     "data": {
      "text/plain": [
       "Index(['Resident_Status', 'Month_Of_Death', 'Sex', 'Age_Key', 'Age_Value',\n",
       "       'Age_Recode_52', 'Age_Recode_27', 'Age_Recode_12', 'Place_Of_Death',\n",
       "       'Marital_Status', 'DOW_of_Death', 'Data_Year', 'Injured_At_Work',\n",
       "       'Manner_Of_Death', 'Method_Of_Disposition', 'Autopsy', 'ICD10',\n",
       "       'Cause_Recode_358', 'Cause_Recode_113', 'Cause_Recode_39',\n",
       "       'Entity_Axis_Conditions', 'EAC1', 'EAC2', 'EAC3', 'EAC4',\n",
       "       'Record_Axis_Conditions', 'RA1', 'RA2', 'RA3', 'RA4', 'Race',\n",
       "       'Race_Recode_3', 'Race_Recode_5', 'Hispanic_Origin',\n",
       "       'Hispanic_Origin_Recode'],\n",
       "      dtype='object')"
      ]
     },
     "execution_count": 170,
     "metadata": {},
     "output_type": "execute_result"
    }
   ],
   "source": [
    "df.columns"
   ]
  },
  {
   "cell_type": "code",
   "execution_count": 171,
   "metadata": {},
   "outputs": [
    {
     "data": {
      "text/plain": [
       "35"
      ]
     },
     "execution_count": 171,
     "metadata": {},
     "output_type": "execute_result"
    }
   ],
   "source": [
    "df.columns.size"
   ]
  },
  {
   "cell_type": "code",
   "execution_count": 172,
   "metadata": {},
   "outputs": [],
   "source": [
    "def tryConvertingToNumber(value):\n",
    "    try:\n",
    "        val = int(value)\n",
    "        return val\n",
    "    except:\n",
    "        return value\n",
    "\n",
    "df = df.applymap(tryConvertingToNumber)"
   ]
  },
  {
   "cell_type": "code",
   "execution_count": 173,
   "metadata": {},
   "outputs": [
    {
     "data": {
      "text/plain": [
       "Index(['Resident_Status', 'Month_Of_Death', 'Sex', 'Age_Key', 'Age_Value',\n",
       "       'Age_Recode_52', 'Age_Recode_27', 'Age_Recode_12', 'Place_Of_Death',\n",
       "       'Marital_Status', 'DOW_of_Death', 'Data_Year', 'Injured_At_Work',\n",
       "       'Manner_Of_Death', 'Method_Of_Disposition', 'Autopsy', 'ICD10',\n",
       "       'Cause_Recode_358', 'Cause_Recode_113', 'Cause_Recode_39',\n",
       "       'Entity_Axis_Conditions', 'EAC1', 'EAC2', 'EAC3', 'EAC4',\n",
       "       'Record_Axis_Conditions', 'RA1', 'RA2', 'RA3', 'RA4', 'Race',\n",
       "       'Race_Recode_3', 'Race_Recode_5', 'Hispanic_Origin',\n",
       "       'Hispanic_Origin_Recode'],\n",
       "      dtype='object')"
      ]
     },
     "execution_count": 173,
     "metadata": {},
     "output_type": "execute_result"
    }
   ],
   "source": [
    "df.columns"
   ]
  },
  {
   "cell_type": "code",
   "execution_count": 174,
   "metadata": {
    "scrolled": true
   },
   "outputs": [
    {
     "data": {
      "text/html": [
       "<div>\n",
       "<style scoped>\n",
       "    .dataframe tbody tr th:only-of-type {\n",
       "        vertical-align: middle;\n",
       "    }\n",
       "\n",
       "    .dataframe tbody tr th {\n",
       "        vertical-align: top;\n",
       "    }\n",
       "\n",
       "    .dataframe thead th {\n",
       "        text-align: right;\n",
       "    }\n",
       "</style>\n",
       "<table border=\"1\" class=\"dataframe\">\n",
       "  <thead>\n",
       "    <tr style=\"text-align: right;\">\n",
       "      <th></th>\n",
       "      <th>Resident_Status</th>\n",
       "      <th>Month_Of_Death</th>\n",
       "      <th>Sex</th>\n",
       "      <th>Age_Key</th>\n",
       "      <th>Age_Value</th>\n",
       "      <th>Age_Recode_52</th>\n",
       "      <th>Age_Recode_27</th>\n",
       "      <th>Age_Recode_12</th>\n",
       "      <th>Place_Of_Death</th>\n",
       "      <th>Marital_Status</th>\n",
       "      <th>...</th>\n",
       "      <th>Record_Axis_Conditions</th>\n",
       "      <th>RA1</th>\n",
       "      <th>RA2</th>\n",
       "      <th>RA3</th>\n",
       "      <th>RA4</th>\n",
       "      <th>Race</th>\n",
       "      <th>Race_Recode_3</th>\n",
       "      <th>Race_Recode_5</th>\n",
       "      <th>Hispanic_Origin</th>\n",
       "      <th>Hispanic_Origin_Recode</th>\n",
       "    </tr>\n",
       "  </thead>\n",
       "  <tbody>\n",
       "    <tr>\n",
       "      <th>0</th>\n",
       "      <td>1</td>\n",
       "      <td>101</td>\n",
       "      <td>M</td>\n",
       "      <td>1</td>\n",
       "      <td>71</td>\n",
       "      <td>40</td>\n",
       "      <td>20</td>\n",
       "      <td>9</td>\n",
       "      <td>1</td>\n",
       "      <td>M</td>\n",
       "      <td>...</td>\n",
       "      <td>1</td>\n",
       "      <td>G20</td>\n",
       "      <td>I469</td>\n",
       "      <td>I469</td>\n",
       "      <td>I469</td>\n",
       "      <td>1</td>\n",
       "      <td>1</td>\n",
       "      <td>1</td>\n",
       "      <td>100</td>\n",
       "      <td>6</td>\n",
       "    </tr>\n",
       "    <tr>\n",
       "      <th>1</th>\n",
       "      <td>1</td>\n",
       "      <td>101</td>\n",
       "      <td>M</td>\n",
       "      <td>1</td>\n",
       "      <td>74</td>\n",
       "      <td>40</td>\n",
       "      <td>20</td>\n",
       "      <td>9</td>\n",
       "      <td>1</td>\n",
       "      <td>D</td>\n",
       "      <td>...</td>\n",
       "      <td>2</td>\n",
       "      <td>M726</td>\n",
       "      <td>A419</td>\n",
       "      <td>I469</td>\n",
       "      <td>I469</td>\n",
       "      <td>1</td>\n",
       "      <td>1</td>\n",
       "      <td>1</td>\n",
       "      <td>100</td>\n",
       "      <td>6</td>\n",
       "    </tr>\n",
       "    <tr>\n",
       "      <th>2</th>\n",
       "      <td>1</td>\n",
       "      <td>101</td>\n",
       "      <td>M</td>\n",
       "      <td>1</td>\n",
       "      <td>59</td>\n",
       "      <td>37</td>\n",
       "      <td>17</td>\n",
       "      <td>8</td>\n",
       "      <td>4</td>\n",
       "      <td>M</td>\n",
       "      <td>...</td>\n",
       "      <td>2</td>\n",
       "      <td>C159</td>\n",
       "      <td>F179</td>\n",
       "      <td>I469</td>\n",
       "      <td>I469</td>\n",
       "      <td>1</td>\n",
       "      <td>1</td>\n",
       "      <td>1</td>\n",
       "      <td>100</td>\n",
       "      <td>6</td>\n",
       "    </tr>\n",
       "    <tr>\n",
       "      <th>3</th>\n",
       "      <td>1</td>\n",
       "      <td>101</td>\n",
       "      <td>M</td>\n",
       "      <td>1</td>\n",
       "      <td>90</td>\n",
       "      <td>44</td>\n",
       "      <td>24</td>\n",
       "      <td>11</td>\n",
       "      <td>4</td>\n",
       "      <td>M</td>\n",
       "      <td>...</td>\n",
       "      <td>1</td>\n",
       "      <td>C61</td>\n",
       "      <td>I469</td>\n",
       "      <td>I469</td>\n",
       "      <td>I469</td>\n",
       "      <td>3</td>\n",
       "      <td>2</td>\n",
       "      <td>3</td>\n",
       "      <td>100</td>\n",
       "      <td>8</td>\n",
       "    </tr>\n",
       "    <tr>\n",
       "      <th>4</th>\n",
       "      <td>1</td>\n",
       "      <td>101</td>\n",
       "      <td>M</td>\n",
       "      <td>1</td>\n",
       "      <td>66</td>\n",
       "      <td>39</td>\n",
       "      <td>19</td>\n",
       "      <td>9</td>\n",
       "      <td>4</td>\n",
       "      <td>M</td>\n",
       "      <td>...</td>\n",
       "      <td>3</td>\n",
       "      <td>J449</td>\n",
       "      <td>C900</td>\n",
       "      <td>F179</td>\n",
       "      <td>I469</td>\n",
       "      <td>1</td>\n",
       "      <td>1</td>\n",
       "      <td>1</td>\n",
       "      <td>100</td>\n",
       "      <td>6</td>\n",
       "    </tr>\n",
       "  </tbody>\n",
       "</table>\n",
       "<p>5 rows × 35 columns</p>\n",
       "</div>"
      ],
      "text/plain": [
       "   Resident_Status  Month_Of_Death Sex  Age_Key  Age_Value  Age_Recode_52  \\\n",
       "0                1             101   M        1         71             40   \n",
       "1                1             101   M        1         74             40   \n",
       "2                1             101   M        1         59             37   \n",
       "3                1             101   M        1         90             44   \n",
       "4                1             101   M        1         66             39   \n",
       "\n",
       "   Age_Recode_27  Age_Recode_12  Place_Of_Death Marital_Status  ...  \\\n",
       "0             20              9               1              M  ...   \n",
       "1             20              9               1              D  ...   \n",
       "2             17              8               4              M  ...   \n",
       "3             24             11               4              M  ...   \n",
       "4             19              9               4              M  ...   \n",
       "\n",
       "   Record_Axis_Conditions   RA1   RA2   RA3   RA4 Race Race_Recode_3  \\\n",
       "0                       1   G20  I469  I469  I469    1             1   \n",
       "1                       2  M726  A419  I469  I469    1             1   \n",
       "2                       2  C159  F179  I469  I469    1             1   \n",
       "3                       1   C61  I469  I469  I469    3             2   \n",
       "4                       3  J449  C900  F179  I469    1             1   \n",
       "\n",
       "   Race_Recode_5  Hispanic_Origin  Hispanic_Origin_Recode  \n",
       "0              1              100                       6  \n",
       "1              1              100                       6  \n",
       "2              1              100                       6  \n",
       "3              3              100                       8  \n",
       "4              1              100                       6  \n",
       "\n",
       "[5 rows x 35 columns]"
      ]
     },
     "execution_count": 174,
     "metadata": {},
     "output_type": "execute_result"
    }
   ],
   "source": [
    "df.head()"
   ]
  },
  {
   "cell_type": "code",
   "execution_count": 175,
   "metadata": {},
   "outputs": [
    {
     "data": {
      "text/html": [
       "<div>\n",
       "<style scoped>\n",
       "    .dataframe tbody tr th:only-of-type {\n",
       "        vertical-align: middle;\n",
       "    }\n",
       "\n",
       "    .dataframe tbody tr th {\n",
       "        vertical-align: top;\n",
       "    }\n",
       "\n",
       "    .dataframe thead th {\n",
       "        text-align: right;\n",
       "    }\n",
       "</style>\n",
       "<table border=\"1\" class=\"dataframe\">\n",
       "  <thead>\n",
       "    <tr style=\"text-align: right;\">\n",
       "      <th></th>\n",
       "      <th>Resident_Status</th>\n",
       "      <th>Month_Of_Death</th>\n",
       "      <th>Sex</th>\n",
       "      <th>Age_Key</th>\n",
       "      <th>Age_Value</th>\n",
       "      <th>Age_Recode_52</th>\n",
       "      <th>Age_Recode_27</th>\n",
       "      <th>Age_Recode_12</th>\n",
       "      <th>Place_Of_Death</th>\n",
       "      <th>Marital_Status</th>\n",
       "      <th>...</th>\n",
       "      <th>Record_Axis_Conditions</th>\n",
       "      <th>RA1</th>\n",
       "      <th>RA2</th>\n",
       "      <th>RA3</th>\n",
       "      <th>RA4</th>\n",
       "      <th>Race</th>\n",
       "      <th>Race_Recode_3</th>\n",
       "      <th>Race_Recode_5</th>\n",
       "      <th>Hispanic_Origin</th>\n",
       "      <th>Hispanic_Origin_Recode</th>\n",
       "    </tr>\n",
       "  </thead>\n",
       "  <tbody>\n",
       "    <tr>\n",
       "      <th>499995</th>\n",
       "      <td>3</td>\n",
       "      <td>110</td>\n",
       "      <td>M</td>\n",
       "      <td>1</td>\n",
       "      <td>82</td>\n",
       "      <td>42</td>\n",
       "      <td>22</td>\n",
       "      <td>10</td>\n",
       "      <td>6</td>\n",
       "      <td>W</td>\n",
       "      <td>...</td>\n",
       "      <td>2</td>\n",
       "      <td>I251</td>\n",
       "      <td>I10</td>\n",
       "      <td>I469</td>\n",
       "      <td>I469</td>\n",
       "      <td>1</td>\n",
       "      <td>1</td>\n",
       "      <td>1</td>\n",
       "      <td>100</td>\n",
       "      <td>6</td>\n",
       "    </tr>\n",
       "    <tr>\n",
       "      <th>499996</th>\n",
       "      <td>1</td>\n",
       "      <td>110</td>\n",
       "      <td>M</td>\n",
       "      <td>1</td>\n",
       "      <td>84</td>\n",
       "      <td>42</td>\n",
       "      <td>22</td>\n",
       "      <td>10</td>\n",
       "      <td>6</td>\n",
       "      <td>M</td>\n",
       "      <td>...</td>\n",
       "      <td>2</td>\n",
       "      <td>C900</td>\n",
       "      <td>D619</td>\n",
       "      <td>I469</td>\n",
       "      <td>I469</td>\n",
       "      <td>1</td>\n",
       "      <td>1</td>\n",
       "      <td>1</td>\n",
       "      <td>100</td>\n",
       "      <td>6</td>\n",
       "    </tr>\n",
       "    <tr>\n",
       "      <th>499997</th>\n",
       "      <td>1</td>\n",
       "      <td>110</td>\n",
       "      <td>F</td>\n",
       "      <td>1</td>\n",
       "      <td>65</td>\n",
       "      <td>39</td>\n",
       "      <td>19</td>\n",
       "      <td>9</td>\n",
       "      <td>1</td>\n",
       "      <td>M</td>\n",
       "      <td>...</td>\n",
       "      <td>1</td>\n",
       "      <td>C220</td>\n",
       "      <td>I469</td>\n",
       "      <td>I469</td>\n",
       "      <td>I469</td>\n",
       "      <td>2</td>\n",
       "      <td>3</td>\n",
       "      <td>2</td>\n",
       "      <td>100</td>\n",
       "      <td>7</td>\n",
       "    </tr>\n",
       "    <tr>\n",
       "      <th>499998</th>\n",
       "      <td>1</td>\n",
       "      <td>110</td>\n",
       "      <td>F</td>\n",
       "      <td>1</td>\n",
       "      <td>98</td>\n",
       "      <td>45</td>\n",
       "      <td>25</td>\n",
       "      <td>11</td>\n",
       "      <td>6</td>\n",
       "      <td>W</td>\n",
       "      <td>...</td>\n",
       "      <td>1</td>\n",
       "      <td>R628</td>\n",
       "      <td>I469</td>\n",
       "      <td>I469</td>\n",
       "      <td>I469</td>\n",
       "      <td>1</td>\n",
       "      <td>1</td>\n",
       "      <td>1</td>\n",
       "      <td>100</td>\n",
       "      <td>6</td>\n",
       "    </tr>\n",
       "    <tr>\n",
       "      <th>499999</th>\n",
       "      <td>1</td>\n",
       "      <td>110</td>\n",
       "      <td>M</td>\n",
       "      <td>1</td>\n",
       "      <td>60</td>\n",
       "      <td>38</td>\n",
       "      <td>18</td>\n",
       "      <td>8</td>\n",
       "      <td>4</td>\n",
       "      <td>D</td>\n",
       "      <td>...</td>\n",
       "      <td>1</td>\n",
       "      <td>C719</td>\n",
       "      <td>I469</td>\n",
       "      <td>I469</td>\n",
       "      <td>I469</td>\n",
       "      <td>1</td>\n",
       "      <td>1</td>\n",
       "      <td>1</td>\n",
       "      <td>100</td>\n",
       "      <td>6</td>\n",
       "    </tr>\n",
       "  </tbody>\n",
       "</table>\n",
       "<p>5 rows × 35 columns</p>\n",
       "</div>"
      ],
      "text/plain": [
       "        Resident_Status  Month_Of_Death Sex  Age_Key  Age_Value  \\\n",
       "499995                3             110   M        1         82   \n",
       "499996                1             110   M        1         84   \n",
       "499997                1             110   F        1         65   \n",
       "499998                1             110   F        1         98   \n",
       "499999                1             110   M        1         60   \n",
       "\n",
       "        Age_Recode_52  Age_Recode_27  Age_Recode_12  Place_Of_Death  \\\n",
       "499995             42             22             10               6   \n",
       "499996             42             22             10               6   \n",
       "499997             39             19              9               1   \n",
       "499998             45             25             11               6   \n",
       "499999             38             18              8               4   \n",
       "\n",
       "       Marital_Status  ...  Record_Axis_Conditions   RA1   RA2   RA3   RA4  \\\n",
       "499995              W  ...                       2  I251   I10  I469  I469   \n",
       "499996              M  ...                       2  C900  D619  I469  I469   \n",
       "499997              M  ...                       1  C220  I469  I469  I469   \n",
       "499998              W  ...                       1  R628  I469  I469  I469   \n",
       "499999              D  ...                       1  C719  I469  I469  I469   \n",
       "\n",
       "       Race Race_Recode_3  Race_Recode_5  Hispanic_Origin  \\\n",
       "499995    1             1              1              100   \n",
       "499996    1             1              1              100   \n",
       "499997    2             3              2              100   \n",
       "499998    1             1              1              100   \n",
       "499999    1             1              1              100   \n",
       "\n",
       "        Hispanic_Origin_Recode  \n",
       "499995                       6  \n",
       "499996                       6  \n",
       "499997                       7  \n",
       "499998                       6  \n",
       "499999                       6  \n",
       "\n",
       "[5 rows x 35 columns]"
      ]
     },
     "execution_count": 175,
     "metadata": {},
     "output_type": "execute_result"
    }
   ],
   "source": [
    "df.tail()"
   ]
  },
  {
   "cell_type": "markdown",
   "metadata": {},
   "source": [
    "### Actual usable columns for the dataset(s):"
   ]
  },
  {
   "cell_type": "code",
   "execution_count": 176,
   "metadata": {},
   "outputs": [
    {
     "data": {
      "text/plain": [
       "'Usable Columns: 35'"
      ]
     },
     "execution_count": 176,
     "metadata": {},
     "output_type": "execute_result"
    }
   ],
   "source": [
    "f\"Usable Columns: {df.shape[1]}\""
   ]
  },
  {
   "cell_type": "markdown",
   "metadata": {},
   "source": [
    "## Descriptive Statistics"
   ]
  },
  {
   "cell_type": "code",
   "execution_count": 177,
   "metadata": {
    "scrolled": true
   },
   "outputs": [
    {
     "name": "stdout",
     "output_type": "stream",
     "text": [
      "count    499828.000000\n",
      "mean          1.170741\n",
      "std           0.458755\n",
      "min           1.000000\n",
      "25%           1.000000\n",
      "50%           1.000000\n",
      "75%           1.000000\n",
      "max           4.000000\n",
      "Name: Resident_Status, dtype: float64\n",
      "count    499828.000000\n",
      "mean        106.423614\n",
      "std           3.529054\n",
      "min         101.000000\n",
      "25%         103.000000\n",
      "50%         106.000000\n",
      "75%         110.000000\n",
      "max         112.000000\n",
      "Name: Month_Of_Death, dtype: float64\n",
      "count    499828.000000\n",
      "mean          1.022520\n",
      "std           0.283614\n",
      "min           1.000000\n",
      "25%           1.000000\n",
      "50%           1.000000\n",
      "75%           1.000000\n",
      "max           6.000000\n",
      "Name: Age_Key, dtype: float64\n",
      "count    499828.000000\n",
      "mean         73.217579\n",
      "std          18.293630\n",
      "min           1.000000\n",
      "25%          63.000000\n",
      "50%          77.000000\n",
      "75%          87.000000\n",
      "max         116.000000\n",
      "Name: Age_Value, dtype: float64\n",
      "count    499828.000000\n",
      "mean         40.085447\n",
      "std           4.566705\n",
      "min           1.000000\n",
      "25%          38.000000\n",
      "50%          41.000000\n",
      "75%          43.000000\n",
      "max          49.000000\n",
      "Name: Age_Recode_52, dtype: float64\n",
      "count    499828.000000\n",
      "mean         20.193186\n",
      "std           3.870397\n",
      "min           1.000000\n",
      "25%          18.000000\n",
      "50%          21.000000\n",
      "75%          23.000000\n",
      "max          26.000000\n",
      "Name: Age_Recode_27, dtype: float64\n",
      "count    499828.000000\n",
      "mean          9.291664\n",
      "std           1.829963\n",
      "min           1.000000\n",
      "25%           8.000000\n",
      "50%          10.000000\n",
      "75%          11.000000\n",
      "max          11.000000\n",
      "Name: Age_Recode_12, dtype: float64\n",
      "count    499828.000000\n",
      "mean          3.623412\n",
      "std           2.070237\n",
      "min           1.000000\n",
      "25%           1.000000\n",
      "50%           4.000000\n",
      "75%           5.000000\n",
      "max           9.000000\n",
      "Name: Place_Of_Death, dtype: float64\n",
      "count    499828.000000\n",
      "mean          3.998782\n",
      "std           2.002980\n",
      "min           1.000000\n",
      "25%           2.000000\n",
      "50%           4.000000\n",
      "75%           6.000000\n",
      "max           7.000000\n",
      "Name: DOW_of_Death, dtype: float64\n",
      "count    499828.0\n",
      "mean       2017.0\n",
      "std           0.0\n",
      "min        2017.0\n",
      "25%        2017.0\n",
      "50%        2017.0\n",
      "75%        2017.0\n",
      "max        2017.0\n",
      "Name: Data_Year, dtype: float64\n",
      "count    499828.000000\n",
      "mean          6.503413\n",
      "std           1.588827\n",
      "min           1.000000\n",
      "25%           7.000000\n",
      "50%           7.000000\n",
      "75%           7.000000\n",
      "max           7.000000\n",
      "Name: Manner_Of_Death, dtype: float64\n",
      "count    499828.000000\n",
      "mean        214.121652\n",
      "std          93.785834\n",
      "min           6.000000\n",
      "25%         159.000000\n",
      "50%         214.000000\n",
      "75%         266.000000\n",
      "max         456.000000\n",
      "Name: Cause_Recode_358, dtype: float64\n",
      "count    499828.000000\n",
      "mean         68.366782\n",
      "std          30.978729\n",
      "min           1.000000\n",
      "25%          46.000000\n",
      "50%          67.000000\n",
      "75%          89.000000\n",
      "max         135.000000\n",
      "Name: Cause_Recode_113, dtype: float64\n",
      "count    499828.000000\n",
      "mean         24.037627\n",
      "std          10.088083\n",
      "min           1.000000\n",
      "25%          17.000000\n",
      "50%          22.000000\n",
      "75%          37.000000\n",
      "max          42.000000\n",
      "Name: Cause_Recode_39, dtype: float64\n",
      "count    499828.000000\n",
      "mean          3.356677\n",
      "std           1.992598\n",
      "min           1.000000\n",
      "25%           2.000000\n",
      "50%           3.000000\n",
      "75%           4.000000\n",
      "max          15.000000\n",
      "Name: Entity_Axis_Conditions, dtype: float64\n",
      "count    499828.000000\n",
      "mean          3.189355\n",
      "std           1.866495\n",
      "min           1.000000\n",
      "25%           2.000000\n",
      "50%           3.000000\n",
      "75%           4.000000\n",
      "max          14.000000\n",
      "Name: Record_Axis_Conditions, dtype: float64\n",
      "count    499828.000000\n",
      "mean          2.459178\n",
      "std           7.954021\n",
      "min           1.000000\n",
      "25%           1.000000\n",
      "50%           1.000000\n",
      "75%           1.000000\n",
      "max          78.000000\n",
      "Name: Race, dtype: float64\n",
      "count    499828.000000\n",
      "mean          1.269663\n",
      "std           0.625796\n",
      "min           1.000000\n",
      "25%           1.000000\n",
      "50%           1.000000\n",
      "75%           1.000000\n",
      "max           3.000000\n",
      "Name: Race_Recode_3, dtype: float64\n",
      "count    499828.000000\n",
      "mean          1.310045\n",
      "std           0.784105\n",
      "min           1.000000\n",
      "25%           1.000000\n",
      "50%           1.000000\n",
      "75%           1.000000\n",
      "max           4.000000\n",
      "Name: Race_Recode_5, dtype: float64\n",
      "count    499828.000000\n",
      "mean        119.938563\n",
      "std          67.312016\n",
      "min         100.000000\n",
      "25%         100.000000\n",
      "50%         100.000000\n",
      "75%         100.000000\n",
      "max         998.000000\n",
      "Name: Hispanic_Origin, dtype: float64\n",
      "count    499828.000000\n",
      "mean          5.705841\n",
      "std           1.695350\n",
      "min           1.000000\n",
      "25%           6.000000\n",
      "50%           6.000000\n",
      "75%           6.000000\n",
      "max           9.000000\n",
      "Name: Hispanic_Origin_Recode, dtype: float64\n"
     ]
    }
   ],
   "source": [
    "for column in df.columns:\n",
    "    try:\n",
    "        mean = df[column].mean()\n",
    "        if mean > 0:\n",
    "            print(df[column].describe())\n",
    "    except:\n",
    "        pass"
   ]
  },
  {
   "cell_type": "code",
   "execution_count": 178,
   "metadata": {},
   "outputs": [
    {
     "name": "stdout",
     "output_type": "stream",
     "text": [
      "INTER-QUARTILE RANGE (IQR) For Age: 24.0\n"
     ]
    }
   ],
   "source": [
    "Q1 = df[\"Age_Value\"].quantile(0.25)\n",
    "Q3 = df[\"Age_Value\"].quantile(0.75)\n",
    "\n",
    "print(\"INTER-QUARTILE RANGE (IQR) For Age:\", Q3-Q1)"
   ]
  },
  {
   "cell_type": "code",
   "execution_count": 179,
   "metadata": {},
   "outputs": [
    {
     "name": "stdout",
     "output_type": "stream",
     "text": [
      "Life Expectancy regarless of gender: 73.0(mean) 77.0(median) 87(mode)\n"
     ]
    }
   ],
   "source": [
    "print(\"Life Expectancy regarless of gender: {}(mean) {}(median) {}(mode)\".format(round(df[\"Age_Value\"].mean()), df[\"Age_Value\"].median(), df[\"Age_Value\"].mode()[0]))"
   ]
  },
  {
   "cell_type": "code",
   "execution_count": 180,
   "metadata": {},
   "outputs": [
    {
     "name": "stdout",
     "output_type": "stream",
     "text": [
      "Life Expectancy for Males: 70.0(mean) 73.0(median) 86(mode)\n"
     ]
    }
   ],
   "source": [
    "mD = df[df[\"Sex\"] == \"M\"]\n",
    "print(\"Life Expectancy for Males: {}(mean) {}(median) {}(mode)\".format(round(mD[\"Age_Value\"].mean()), mD[\"Age_Value\"].median(), mD[\"Age_Value\"].mode()[0]))"
   ]
  },
  {
   "cell_type": "code",
   "execution_count": 181,
   "metadata": {},
   "outputs": [
    {
     "name": "stdout",
     "output_type": "stream",
     "text": [
      "Life Expectancy for Females: 77.0(mean) 81.0(median) 90(mode)\n"
     ]
    }
   ],
   "source": [
    "fD = df[df[\"Sex\"] == \"F\"]\n",
    "print(\"Life Expectancy for Females: {}(mean) {}(median) {}(mode)\".format(round(fD[\"Age_Value\"].mean()), fD[\"Age_Value\"].median(), fD[\"Age_Value\"].mode()[0]))"
   ]
  },
  {
   "cell_type": "markdown",
   "metadata": {},
   "source": [
    "## Exploratry Data Analysis (EDA)"
   ]
  },
  {
   "cell_type": "markdown",
   "metadata": {},
   "source": [
    "## Age distribution Analysis"
   ]
  },
  {
   "cell_type": "code",
   "execution_count": 296,
   "metadata": {
    "scrolled": false
   },
   "outputs": [
    {
     "data": {
      "image/png": "[encoded data removed]",
      "text/plain": [
       "<Figure size 1000x600 with 1 Axes>"
      ]
     },
     "metadata": {},
     "output_type": "display_data"
    }
   ],
   "source": [
    "sns.set(rc={'figure.figsize':(10,6)})\n",
    "ax = sns.distplot(df[\"Age_Value\"])\n",
    "s = ax.set(xlabel='Age', ylabel='', title='Age Distribution')"
   ]
  },
  {
   "cell_type": "markdown",
   "metadata": {},
   "source": [
    "### If married people die more than unmarried and other related"
   ]
  },
  {
   "cell_type": "code",
   "execution_count": 183,
   "metadata": {},
   "outputs": [],
   "source": [
    "dfMarried = df[(df['Marital_Status'] == 'M') ]"
   ]
  },
  {
   "cell_type": "code",
   "execution_count": 184,
   "metadata": {},
   "outputs": [],
   "source": [
    "dfSingle = df[(df['Marital_Status'] == 'S') ]"
   ]
  },
  {
   "cell_type": "code",
   "execution_count": 185,
   "metadata": {},
   "outputs": [],
   "source": [
    "dfWidow = df[(df['Marital_Status'] == 'W') ]"
   ]
  },
  {
   "cell_type": "code",
   "execution_count": 186,
   "metadata": {},
   "outputs": [],
   "source": [
    "dfDivorce = df[(df['Marital_Status'] == 'D') ]"
   ]
  },
  {
   "cell_type": "code",
   "execution_count": 187,
   "metadata": {},
   "outputs": [],
   "source": [
    "dfUnknown = df[(df['Marital_Status'] == 'U') ]"
   ]
  },
  {
   "cell_type": "code",
   "execution_count": 188,
   "metadata": {},
   "outputs": [
    {
     "data": {
      "text/plain": [
       "'37 %'"
      ]
     },
     "execution_count": 188,
     "metadata": {},
     "output_type": "execute_result"
    }
   ],
   "source": [
    "marriedPer = dfMarried.shape[0] / df.shape[0] * 100\n",
    "str(math.ceil(marriedPer)) + ' %'"
   ]
  },
  {
   "cell_type": "code",
   "execution_count": 189,
   "metadata": {},
   "outputs": [
    {
     "data": {
      "text/plain": [
       "'14 %'"
      ]
     },
     "execution_count": 189,
     "metadata": {},
     "output_type": "execute_result"
    }
   ],
   "source": [
    "singlePer = dfSingle.shape[0] / df.shape[0] * 100\n",
    "str(math.ceil(singlePer)) + ' %'"
   ]
  },
  {
   "cell_type": "code",
   "execution_count": 190,
   "metadata": {},
   "outputs": [
    {
     "data": {
      "text/plain": [
       "'32 %'"
      ]
     },
     "execution_count": 190,
     "metadata": {},
     "output_type": "execute_result"
    }
   ],
   "source": [
    "widowPer = dfWidow.shape[0] / df.shape[0] * 100\n",
    "str(math.ceil(widowPer)) + ' %'"
   ]
  },
  {
   "cell_type": "code",
   "execution_count": 191,
   "metadata": {},
   "outputs": [
    {
     "data": {
      "text/plain": [
       "'17 %'"
      ]
     },
     "execution_count": 191,
     "metadata": {},
     "output_type": "execute_result"
    }
   ],
   "source": [
    "divorcePer = dfDivorce.shape[0] / df.shape[0] * 100\n",
    "str(math.ceil(divorcePer)) + ' %'"
   ]
  },
  {
   "cell_type": "code",
   "execution_count": 192,
   "metadata": {},
   "outputs": [
    {
     "data": {
      "text/plain": [
       "'2 %'"
      ]
     },
     "execution_count": 192,
     "metadata": {},
     "output_type": "execute_result"
    }
   ],
   "source": [
    "unknownPer = dfUnknown.shape[0] / df.shape[0] * 100\n",
    "str(math.ceil(unknownPer)) + ' %'"
   ]
  },
  {
   "cell_type": "code",
   "execution_count": 193,
   "metadata": {},
   "outputs": [
    {
     "data": {
      "image/png": "[encoded data removed]",
      "text/plain": [
       "<Figure size 1000x500 with 1 Axes>"
      ]
     },
     "metadata": {},
     "output_type": "display_data"
    }
   ],
   "source": [
    "\n",
    "objects = ('Married', 'Single', 'Widowed', 'Divorced', 'Unknown')\n",
    "y_pos = np.arange(len(objects))\n",
    "percentages = [marriedPer, singlePer, widowPer, divorcePer, unknownPer]\n",
    "plt.figure(figsize=(10,5))\n",
    "plt.bar(y_pos, percentages, align='center', alpha=0.5)\n",
    "plt.xticks(y_pos, objects)\n",
    "plt.ylabel('Death Percentage')\n",
    "plt.title('Marital Status Death Rate.')\n",
    "\n",
    "plt.show();"
   ]
  },
  {
   "cell_type": "markdown",
   "metadata": {},
   "source": [
    "### What are and will be the most common causes of death (This requires ML and right now is only w/o ML part)"
   ]
  },
  {
   "cell_type": "code",
   "execution_count": 194,
   "metadata": {},
   "outputs": [
    {
     "data": {
      "text/plain": [
       "Index(['Resident_Status', 'Month_Of_Death', 'Sex', 'Age_Key', 'Age_Value',\n",
       "       'Age_Recode_52', 'Age_Recode_27', 'Age_Recode_12', 'Place_Of_Death',\n",
       "       'Marital_Status', 'DOW_of_Death', 'Data_Year', 'Injured_At_Work',\n",
       "       'Manner_Of_Death', 'Method_Of_Disposition', 'Autopsy', 'ICD10',\n",
       "       'Cause_Recode_358', 'Cause_Recode_113', 'Cause_Recode_39',\n",
       "       'Entity_Axis_Conditions', 'EAC1', 'EAC2', 'EAC3', 'EAC4',\n",
       "       'Record_Axis_Conditions', 'RA1', 'RA2', 'RA3', 'RA4', 'Race',\n",
       "       'Race_Recode_3', 'Race_Recode_5', 'Hispanic_Origin',\n",
       "       'Hispanic_Origin_Recode'],\n",
       "      dtype='object')"
      ]
     },
     "execution_count": 194,
     "metadata": {},
     "output_type": "execute_result"
    }
   ],
   "source": [
    "df.columns"
   ]
  },
  {
   "cell_type": "code",
   "execution_count": 195,
   "metadata": {},
   "outputs": [],
   "source": [
    "objects = ['Accident', 'Suicide', 'Homicide', 'Pending investigation', 'Could not determine', 'Self-Inflicted', 'Natural']"
   ]
  },
  {
   "cell_type": "code",
   "execution_count": 196,
   "metadata": {},
   "outputs": [
    {
     "data": {
      "text/plain": [
       "7"
      ]
     },
     "execution_count": 196,
     "metadata": {},
     "output_type": "execute_result"
    }
   ],
   "source": [
    "len(objects)"
   ]
  },
  {
   "cell_type": "code",
   "execution_count": 197,
   "metadata": {},
   "outputs": [],
   "source": [
    "sortedCauseOfDeath = sorted(df[\"Manner_Of_Death\"].unique())"
   ]
  },
  {
   "cell_type": "code",
   "execution_count": 198,
   "metadata": {},
   "outputs": [],
   "source": [
    "labels = [objects[x-1] for x in sortedCauseOfDeath]"
   ]
  },
  {
   "cell_type": "code",
   "execution_count": 199,
   "metadata": {},
   "outputs": [],
   "source": [
    "def getColumnPercentages(_df, column):\n",
    "    return [((_df[_df[column] == uVal].shape[0]/_df[column].shape[0])*100) for uVal in sorted(_df[column].unique())]"
   ]
  },
  {
   "cell_type": "code",
   "execution_count": 200,
   "metadata": {},
   "outputs": [],
   "source": [
    "deathCausePcts = getColumnPercentages(df, \"Manner_Of_Death\")"
   ]
  },
  {
   "cell_type": "code",
   "execution_count": 201,
   "metadata": {},
   "outputs": [
    {
     "data": {
      "text/plain": [
       "6"
      ]
     },
     "execution_count": 201,
     "metadata": {},
     "output_type": "execute_result"
    }
   ],
   "source": [
    "len(deathCausePcts)"
   ]
  },
  {
   "cell_type": "code",
   "execution_count": 202,
   "metadata": {
    "scrolled": true
   },
   "outputs": [
    {
     "name": "stdout",
     "output_type": "stream",
     "text": [
      "Accident: 5.959650119641156%\n",
      "Suicide: 1.826228222508543%\n",
      "Homicide: 0.8338868570788351%\n",
      "Pending investigation: 0.22767832134254185%\n",
      "Could not determine: 0.3755291820386213%\n",
      "Natural: 90.7770272973903%\n"
     ]
    }
   ],
   "source": [
    "for i in range(0, len(deathCausePcts)):\n",
    "    print(f\"{labels[i]}: {deathCausePcts[i]}%\");"
   ]
  },
  {
   "cell_type": "code",
   "execution_count": 203,
   "metadata": {},
   "outputs": [
    {
     "data": {
      "image/png": "[encoded data removed]",
      "text/plain": [
       "<Figure size 1000x500 with 1 Axes>"
      ]
     },
     "metadata": {},
     "output_type": "display_data"
    }
   ],
   "source": [
    "# percentages = [manner1Per, manner2Per, manner3Per, manner4Per, manner5Per, manner6Per, manner7Per]\n",
    "# idx = deathCausePcts.index(0.0)\n",
    "# percentages = deathCausePcts[:idx] + deathCausePcts[idx+1:]\n",
    "# objects = objects[:idx] + objects[idx+1:]\n",
    "plt.figure(figsize=(10,5))\n",
    "plt.pie(\n",
    "    x=deathCausePcts[:3]+deathCausePcts[4:],\n",
    "    labels=labels[:3]+labels[4:],\n",
    "    rotatelabels=45,\n",
    "    radius=2,\n",
    "    textprops={\n",
    "        \"fontsize\": 10\n",
    "    }\n",
    ")\n",
    "plt.title('Death Causes Pie (Excluding Currently Investigating).')\n",
    "plt.show();"
   ]
  },
  {
   "cell_type": "markdown",
   "metadata": {},
   "source": [
    "### Life expectancy for certain age groups"
   ]
  },
  {
   "cell_type": "code",
   "execution_count": 204,
   "metadata": {},
   "outputs": [],
   "source": [
    "def getGroupedValues(dataF, colName, gap, total, isLast = False):\n",
    "    pValue = 0\n",
    "    nValue = gap\n",
    "    values = []\n",
    "    for i in range(0, total):\n",
    "        values.append(dataF[(dataF[colName] >= pValue) & (dataF[colName] < nValue)].shape[0])\n",
    "#         print(f\"{pValue} - {nValue}\")\n",
    "        pValue = nValue\n",
    "        nValue += gap\n",
    "    if isLast:\n",
    "        values.append(dataF[dataF[colName] >= nValue].shape[0])\n",
    "    return values"
   ]
  },
  {
   "cell_type": "code",
   "execution_count": 205,
   "metadata": {
    "scrolled": true
   },
   "outputs": [
    {
     "data": {
      "text/plain": [
       "Index(['Resident_Status', 'Month_Of_Death', 'Sex', 'Age_Key', 'Age_Value',\n",
       "       'Age_Recode_52', 'Age_Recode_27', 'Age_Recode_12', 'Place_Of_Death',\n",
       "       'Marital_Status', 'DOW_of_Death', 'Data_Year', 'Injured_At_Work',\n",
       "       'Manner_Of_Death', 'Method_Of_Disposition', 'Autopsy', 'ICD10',\n",
       "       'Cause_Recode_358', 'Cause_Recode_113', 'Cause_Recode_39',\n",
       "       'Entity_Axis_Conditions', 'EAC1', 'EAC2', 'EAC3', 'EAC4',\n",
       "       'Record_Axis_Conditions', 'RA1', 'RA2', 'RA3', 'RA4', 'Race',\n",
       "       'Race_Recode_3', 'Race_Recode_5', 'Hispanic_Origin',\n",
       "       'Hispanic_Origin_Recode'],\n",
       "      dtype='object')"
      ]
     },
     "execution_count": 205,
     "metadata": {},
     "output_type": "execute_result"
    }
   ],
   "source": [
    "df.columns"
   ]
  },
  {
   "cell_type": "code",
   "execution_count": 206,
   "metadata": {},
   "outputs": [
    {
     "name": "stdout",
     "output_type": "stream",
     "text": [
      "[4174, 3196, 9358, 12165, 19922, 47263, 81026, 102751, 129966, 84356, 25]\n"
     ]
    },
    {
     "data": {
      "image/png": "[encoded data removed]",
      "text/plain": [
       "<Figure size 1000x500 with 1 Axes>"
      ]
     },
     "metadata": {},
     "output_type": "display_data"
    }
   ],
   "source": [
    "year = ['0 - 9', '10 - 19', '20 - 29', '30 - 39', '40 - 49', '50 - 59', '60 - 69', '70 - 79', '80 - 89', '90 - 99', '100 - above']\n",
    "numberOfDeaths = getGroupedValues(df, \"Age_Value\", 10, len(year)-1, True)\n",
    "print(numberOfDeaths)\n",
    "plt.figure(figsize=(10,5))\n",
    "plt.plot(year, numberOfDeaths, color='#6d9be6')\n",
    "plt.xticks(rotation=45)\n",
    "plt.xlabel('Years')\n",
    "plt.ylabel('Total Deaths')\n",
    "plt.title('Life expectancy for certain age groups (regardless of gender).')\n",
    "plt.show()"
   ]
  },
  {
   "cell_type": "markdown",
   "metadata": {},
   "source": [
    "### Death Rate Comparison/Correlation between both genders"
   ]
  },
  {
   "cell_type": "code",
   "execution_count": 207,
   "metadata": {},
   "outputs": [
    {
     "data": {
      "text/plain": [
       "(258799, 35)"
      ]
     },
     "execution_count": 207,
     "metadata": {},
     "output_type": "execute_result"
    }
   ],
   "source": [
    "maleData = df[df[\"Sex\"] == \"M\"]\n",
    "\n",
    "maleData.shape"
   ]
  },
  {
   "cell_type": "code",
   "execution_count": 208,
   "metadata": {},
   "outputs": [
    {
     "data": {
      "text/plain": [
       "(241029, 35)"
      ]
     },
     "execution_count": 208,
     "metadata": {},
     "output_type": "execute_result"
    }
   ],
   "source": [
    "femaleData = df[df[\"Sex\"] == \"F\"]\n",
    "\n",
    "femaleData.shape"
   ]
  },
  {
   "cell_type": "code",
   "execution_count": 209,
   "metadata": {},
   "outputs": [],
   "source": [
    "c_years = year[:-2]\n",
    "c_years.append('90 - 99')\n",
    "c_years.append('100 - above')"
   ]
  },
  {
   "cell_type": "code",
   "execution_count": 210,
   "metadata": {},
   "outputs": [],
   "source": [
    "maleDeaths = getGroupedValues(maleData, \"Age_Value\", 10, len(c_years)-1, True)\n",
    "femaleDeaths = getGroupedValues(femaleData, \"Age_Value\", 10,len(c_years)-1, True)"
   ]
  },
  {
   "cell_type": "code",
   "execution_count": 211,
   "metadata": {},
   "outputs": [
    {
     "data": {
      "image/png": "[encoded data removed]",
      "text/plain": [
       "<Figure size 1000x500 with 1 Axes>"
      ]
     },
     "metadata": {},
     "output_type": "display_data"
    }
   ],
   "source": [
    "plt.figure(figsize=(10,5))\n",
    "plt.plot(c_years, maleDeaths, color='orange')\n",
    "# plt.show()\n",
    "plt.plot(c_years, femaleDeaths, color='#6d9be6')\n",
    "plt.legend(df[\"Sex\"].unique())\n",
    "plt.xticks(rotation=45)\n",
    "plt.xlabel('Years')\n",
    "plt.ylabel('Total Deaths')\n",
    "plt.title('Death Rate Correlation Between Male And Female Data.')\n",
    "plt.show()"
   ]
  },
  {
   "cell_type": "markdown",
   "metadata": {},
   "source": [
    "### How causes of death have changed compared to past 10 years"
   ]
  },
  {
   "cell_type": "code",
   "execution_count": 212,
   "metadata": {},
   "outputs": [
    {
     "data": {
      "text/plain": [
       "Index(['Resident_Status', ' Education', ' Month_Of_Death', ' Sex', ' Age_Key',\n",
       "       ' Age_Value', ' Age_Sub_Flag', ' Age_Recode_52', ' Age_Recode_27',\n",
       "       ' Age_Recode_12', ' Infant_Age_Recode_22', ' Place_Of_Death',\n",
       "       ' Marital_Status', ' DOW_of_Death', ' Data_Year', ' Injured_At_Work',\n",
       "       ' Manner_Of_Death', ' Method_Of_Disposition', ' Autopsy',\n",
       "       ' Activity_Code', ' Place_Of_Causal_Injury', '  ICD10',\n",
       "       ' Cause_Recode_358', ' Cause_Recode_113', ' Infant_Cause_Recode_130',\n",
       "       ' Cause_Recode_39', ' Entity_Axis_Conditions', ' EAC1', ' EAC2',\n",
       "       ' EAC3', ' EAC4', ' EAC5', ' EAC6', ' EAC7', ' EAC8', ' EAC9', ' EAC10',\n",
       "       ' EAC11', ' EAC12', ' EAC13', ' EAC14', ' EAC15', ' EAC16', ' EAC17',\n",
       "       ' EAC18', ' EAC19', ' EAC20', ' Record_Axis_Conditions', ' RA1', ' RA2',\n",
       "       ' RA3', ' RA4', ' RA5', ' RA6', ' RA7', ' RA8', ' RA9', ' RA10',\n",
       "       ' RA11', ' RA12', ' RA13', ' RA14', ' RA15', ' RA16', ' RA17', ' RA18',\n",
       "       ' RA19', ' RA20', ' Race', ' Race_Bridged', ' Race_Imputation',\n",
       "       ' Race_Recode_3', ' Race_Recode_5', ' Hispanic_Origin',\n",
       "       ' Hispanic_Origin_Recode'],\n",
       "      dtype='object')"
      ]
     },
     "execution_count": 212,
     "metadata": {},
     "output_type": "execute_result"
    }
   ],
   "source": [
    "odf = pd.read_csv(\"VS07MORT.csv\", nrows=100000)\n",
    "\n",
    "odf.columns"
   ]
  },
  {
   "cell_type": "code",
   "execution_count": 213,
   "metadata": {},
   "outputs": [
    {
     "data": {
      "text/plain": [
       "(100000, 75)"
      ]
     },
     "execution_count": 213,
     "metadata": {},
     "output_type": "execute_result"
    }
   ],
   "source": [
    "odf.shape"
   ]
  },
  {
   "cell_type": "code",
   "execution_count": 214,
   "metadata": {},
   "outputs": [],
   "source": [
    "odf = cleanColumns(odf)\n",
    "\n",
    "odf = odf.drop(columns=getInValuableColumns(odf))\n",
    "\n",
    "odf = odf.applymap(lambda x: removeSpaces(x))\n",
    "\n",
    "odf = cleanEmptyStringValues(odf)\n",
    "\n",
    "odf = replaceNAWithMode(odf)\n",
    "\n",
    "odf = odf.applymap(tryConvertingToNumber)"
   ]
  },
  {
   "cell_type": "code",
   "execution_count": 215,
   "metadata": {},
   "outputs": [],
   "source": [
    "# odf = odf.drop(columns=[x for x in odf.columns if len(odf[x].unique()) <= 1 and odf[x].unique()[0] == None])"
   ]
  },
  {
   "cell_type": "code",
   "execution_count": 216,
   "metadata": {},
   "outputs": [
    {
     "data": {
      "text/plain": [
       "Index(['Resident_Status', 'Education', 'Month_Of_Death', 'Sex', 'Age_Key',\n",
       "       'Age_Value', 'Age_Sub_Flag', 'Age_Recode_52', 'Age_Recode_27',\n",
       "       'Age_Recode_12', 'Infant_Age_Recode_22', 'Place_Of_Death',\n",
       "       'Marital_Status', 'DOW_of_Death', 'Data_Year', 'Injured_At_Work',\n",
       "       'Manner_Of_Death', 'Method_Of_Disposition', 'Autopsy', 'Activity_Code',\n",
       "       'Place_Of_Causal_Injury', 'ICD10', 'Cause_Recode_358',\n",
       "       'Cause_Recode_113', 'Infant_Cause_Recode_130', 'Cause_Recode_39',\n",
       "       'Entity_Axis_Conditions', 'EAC1', 'EAC2', 'EAC3', 'EAC5', 'EAC6',\n",
       "       'EAC7', 'EAC8', 'EAC9', 'EAC10', 'EAC11', 'EAC12', 'EAC13', 'EAC14',\n",
       "       'EAC15', 'EAC16', 'EAC17', 'EAC18', 'EAC19', 'EAC20',\n",
       "       'Record_Axis_Conditions', 'RA1', 'RA2', 'RA3', 'RA5', 'RA6', 'RA7',\n",
       "       'RA8', 'RA9', 'RA10', 'RA11', 'RA12', 'RA13', 'RA14', 'RA15', 'RA16',\n",
       "       'RA17', 'RA18', 'RA19', 'RA20', 'Race', 'Race_Bridged',\n",
       "       'Race_Imputation', 'Race_Recode_3', 'Race_Recode_5', 'Hispanic_Origin',\n",
       "       'Hispanic_Origin_Recode'],\n",
       "      dtype='object')"
      ]
     },
     "execution_count": 216,
     "metadata": {},
     "output_type": "execute_result"
    }
   ],
   "source": [
    "odf.columns"
   ]
  },
  {
   "cell_type": "code",
   "execution_count": 217,
   "metadata": {
    "scrolled": true
   },
   "outputs": [
    {
     "data": {
      "text/plain": [
       "73"
      ]
     },
     "execution_count": 217,
     "metadata": {},
     "output_type": "execute_result"
    }
   ],
   "source": [
    "odf.columns.size"
   ]
  },
  {
   "cell_type": "markdown",
   "metadata": {},
   "source": [
    "### Old (Other Dataset) Data Cleaning and Analysis"
   ]
  },
  {
   "cell_type": "code",
   "execution_count": 218,
   "metadata": {
    "scrolled": true
   },
   "outputs": [
    {
     "data": {
      "text/plain": [
       "[1, 2, 3, 4, 5, 7]"
      ]
     },
     "execution_count": 218,
     "metadata": {},
     "output_type": "execute_result"
    }
   ],
   "source": [
    "sortedCauses = sorted(odf[\"Manner_Of_Death\"].unique())\n",
    "\n",
    "sortedCauses"
   ]
  },
  {
   "cell_type": "code",
   "execution_count": 219,
   "metadata": {},
   "outputs": [],
   "source": [
    "oldDeathPcts = getColumnPercentages(odf, \"Manner_Of_Death\")"
   ]
  },
  {
   "cell_type": "code",
   "execution_count": 220,
   "metadata": {},
   "outputs": [
    {
     "name": "stdout",
     "output_type": "stream",
     "text": [
      "Accident: 6.059%\n",
      "Suicide: 1.82%\n",
      "Homicide: 1.1280000000000001%\n",
      "Pending investigation: 0.132%\n",
      "Could not determine: 0.628%\n",
      "Natural: 90.23299999999999%\n"
     ]
    }
   ],
   "source": [
    "for i in range(0, len(oldDeathPcts)):\n",
    "    print(f\"{labels[i]}: {oldDeathPcts[i]}%\")"
   ]
  },
  {
   "cell_type": "code",
   "execution_count": 221,
   "metadata": {},
   "outputs": [
    {
     "data": {
      "image/png": "[encoded data removed]",
      "text/plain": [
       "<Figure size 1000x500 with 1 Axes>"
      ]
     },
     "metadata": {},
     "output_type": "display_data"
    }
   ],
   "source": [
    "plt.figure(figsize=(10,5))\n",
    "plt.pie(\n",
    "    x=oldDeathPcts[:3]+oldDeathPcts[4:],\n",
    "    labels=labels[:3]+labels[4:],\n",
    "    rotatelabels=45,\n",
    "    radius=2,\n",
    "    textprops={\n",
    "        \"fontsize\": 12\n",
    "    }\n",
    ")\n",
    "\n",
    "plt.show()"
   ]
  },
  {
   "cell_type": "markdown",
   "metadata": {},
   "source": [
    "### Comparison between 10 years past and 2017 Death rates:"
   ]
  },
  {
   "cell_type": "code",
   "execution_count": 222,
   "metadata": {
    "scrolled": true
   },
   "outputs": [
    {
     "name": "stdout",
     "output_type": "stream",
     "text": [
      "Accident: 7%(old), 6%(current)\n",
      "Suicide: 2%(old), 2%(current)\n",
      "Homicide: 2%(old), 1%(current)\n",
      "Pending investigation: 1%(old), 1%(current)\n",
      "Could not determine: 1%(old), 1%(current)\n",
      "Natural: 91%(old), 91%(current)\n"
     ]
    }
   ],
   "source": [
    "for i in range(0, min(len(oldDeathPcts), len(deathCausePcts))):\n",
    "    print(f\"{labels[i]}: {math.ceil(oldDeathPcts[i])}%(old), {math.ceil(deathCausePcts[i])}%(current)\")"
   ]
  },
  {
   "cell_type": "code",
   "execution_count": 223,
   "metadata": {},
   "outputs": [
    {
     "data": {
      "text/plain": [
       "6"
      ]
     },
     "execution_count": 223,
     "metadata": {},
     "output_type": "execute_result"
    }
   ],
   "source": [
    "len(deathCausePcts)"
   ]
  },
  {
   "cell_type": "markdown",
   "metadata": {},
   "source": [
    "## Last 10 year Death Cause Percentage Comparison"
   ]
  },
  {
   "cell_type": "code",
   "execution_count": 224,
   "metadata": {
    "scrolled": false
   },
   "outputs": [
    {
     "data": {
      "image/png": "[encoded data removed]",
      "text/plain": [
       "<Figure size 1000x700 with 1 Axes>"
      ]
     },
     "metadata": {},
     "output_type": "display_data"
    }
   ],
   "source": [
    "n_groups = len(deathCausePcts)\n",
    "\n",
    "# create plot\n",
    "fig, ax = plt.subplots(figsize=(10,7))\n",
    "index = np.arange(n_groups)\n",
    "bar_width = 0.35\n",
    "opacity = 0.8\n",
    "\n",
    "rects1 = plt.bar(index, oldDeathPcts, bar_width,\n",
    "alpha=opacity,\n",
    "color='b',\n",
    "label='2007')\n",
    "\n",
    "rects2 = plt.bar(index + bar_width, deathCausePcts, bar_width,\n",
    "alpha=opacity,\n",
    "color='g',\n",
    "label='2017')\n",
    "plt.xlabel('Person')\n",
    "plt.ylabel('Death Rate')\n",
    "plt.title('Comparison between 10 years')\n",
    "plt.xticks(index + bar_width, ('Accident', 'Suicide', 'Homicide', 'In Investigation', 'Could not determine', 'Natural'))\n",
    "plt.legend()\n",
    "\n",
    "plt.tight_layout()\n",
    "plt.show()"
   ]
  },
  {
   "cell_type": "markdown",
   "metadata": {},
   "source": [
    "### Death of people which Injured at work"
   ]
  },
  {
   "cell_type": "code",
   "execution_count": 225,
   "metadata": {},
   "outputs": [
    {
     "data": {
      "text/plain": [
       "'0.16105540305865218 %'"
      ]
     },
     "execution_count": 225,
     "metadata": {},
     "output_type": "execute_result"
    }
   ],
   "source": [
    "dfInjuredAtWork = df[(df['Injured_At_Work'] == 'Y') ]\n",
    "injuredAtWorkPer = dfInjuredAtWork.shape[0] / df.shape[0] * 100\n",
    "str(injuredAtWorkPer) + ' %'\n"
   ]
  },
  {
   "cell_type": "code",
   "execution_count": 226,
   "metadata": {},
   "outputs": [
    {
     "data": {
      "text/plain": [
       "'8.473514889121859 %'"
      ]
     },
     "execution_count": 226,
     "metadata": {},
     "output_type": "execute_result"
    }
   ],
   "source": [
    "dfNotInjuredAtWork = df[(df['Injured_At_Work'] == 'N') ]\n",
    "notInjuredAtWorkPer = dfNotInjuredAtWork.shape[0] / df.shape[0] * 100\n",
    "str(notInjuredAtWorkPer) + ' %'"
   ]
  },
  {
   "cell_type": "code",
   "execution_count": 227,
   "metadata": {},
   "outputs": [
    {
     "data": {
      "text/plain": [
       "'91.36542970781949 %'"
      ]
     },
     "execution_count": 227,
     "metadata": {},
     "output_type": "execute_result"
    }
   ],
   "source": [
    "\n",
    "dfUnknownInjuredAtWork = df[(df['Injured_At_Work'] == 'U') ]\n",
    "unknownInjuredAtWorkPer = dfUnknownInjuredAtWork.shape[0] / df.shape[0] * 100\n",
    "str(unknownInjuredAtWorkPer) + ' %'"
   ]
  },
  {
   "cell_type": "markdown",
   "metadata": {},
   "source": [
    "## Percentages of people who did and did not die at work"
   ]
  },
  {
   "cell_type": "code",
   "execution_count": 228,
   "metadata": {},
   "outputs": [
    {
     "data": {
      "image/png": "[encoded data removed]",
      "text/plain": [
       "<Figure size 700x700 with 1 Axes>"
      ]
     },
     "metadata": {},
     "output_type": "display_data"
    }
   ],
   "source": [
    "names='At Work', 'Not At Work'\n",
    "\n",
    "my_circle=plt.Circle( (0,0), 0.7, color='white')\n",
    "size= [injuredAtWorkPer, notInjuredAtWorkPer]\n",
    "# Custom colors --> colors will cycle\n",
    "plt.figure(figsize=(7,7))\n",
    "plt.pie(size, labels=names, colors=['#70a542','#5b84c7','gray'])\n",
    "p=plt.gcf()\n",
    "p.gca().add_artist(my_circle)\n",
    "plt.title(\"Death at work comparison\")\n",
    "plt.show()\n"
   ]
  },
  {
   "cell_type": "markdown",
   "metadata": {},
   "source": [
    "### Finding Most common disease using International Statistical Classification of Diseases and Related Health Problems"
   ]
  },
  {
   "cell_type": "code",
   "execution_count": 229,
   "metadata": {},
   "outputs": [
    {
     "data": {
      "text/html": [
       "<div>\n",
       "<style scoped>\n",
       "    .dataframe tbody tr th:only-of-type {\n",
       "        vertical-align: middle;\n",
       "    }\n",
       "\n",
       "    .dataframe tbody tr th {\n",
       "        vertical-align: top;\n",
       "    }\n",
       "\n",
       "    .dataframe thead th {\n",
       "        text-align: right;\n",
       "    }\n",
       "</style>\n",
       "<table border=\"1\" class=\"dataframe\">\n",
       "  <thead>\n",
       "    <tr style=\"text-align: right;\">\n",
       "      <th></th>\n",
       "      <th>Resident_Status</th>\n",
       "      <th>Month_Of_Death</th>\n",
       "      <th>Sex</th>\n",
       "      <th>Age_Key</th>\n",
       "      <th>Age_Value</th>\n",
       "      <th>Age_Recode_52</th>\n",
       "      <th>Age_Recode_27</th>\n",
       "      <th>Age_Recode_12</th>\n",
       "      <th>Place_Of_Death</th>\n",
       "      <th>Marital_Status</th>\n",
       "      <th>...</th>\n",
       "      <th>Record_Axis_Conditions</th>\n",
       "      <th>RA1</th>\n",
       "      <th>RA2</th>\n",
       "      <th>RA3</th>\n",
       "      <th>RA4</th>\n",
       "      <th>Race</th>\n",
       "      <th>Race_Recode_3</th>\n",
       "      <th>Race_Recode_5</th>\n",
       "      <th>Hispanic_Origin</th>\n",
       "      <th>Hispanic_Origin_Recode</th>\n",
       "    </tr>\n",
       "  </thead>\n",
       "  <tbody>\n",
       "    <tr>\n",
       "      <th>0</th>\n",
       "      <td>1</td>\n",
       "      <td>101</td>\n",
       "      <td>M</td>\n",
       "      <td>1</td>\n",
       "      <td>71</td>\n",
       "      <td>40</td>\n",
       "      <td>20</td>\n",
       "      <td>9</td>\n",
       "      <td>1</td>\n",
       "      <td>M</td>\n",
       "      <td>...</td>\n",
       "      <td>1</td>\n",
       "      <td>G20</td>\n",
       "      <td>I469</td>\n",
       "      <td>I469</td>\n",
       "      <td>I469</td>\n",
       "      <td>1</td>\n",
       "      <td>1</td>\n",
       "      <td>1</td>\n",
       "      <td>100</td>\n",
       "      <td>6</td>\n",
       "    </tr>\n",
       "    <tr>\n",
       "      <th>1</th>\n",
       "      <td>1</td>\n",
       "      <td>101</td>\n",
       "      <td>M</td>\n",
       "      <td>1</td>\n",
       "      <td>74</td>\n",
       "      <td>40</td>\n",
       "      <td>20</td>\n",
       "      <td>9</td>\n",
       "      <td>1</td>\n",
       "      <td>D</td>\n",
       "      <td>...</td>\n",
       "      <td>2</td>\n",
       "      <td>M726</td>\n",
       "      <td>A419</td>\n",
       "      <td>I469</td>\n",
       "      <td>I469</td>\n",
       "      <td>1</td>\n",
       "      <td>1</td>\n",
       "      <td>1</td>\n",
       "      <td>100</td>\n",
       "      <td>6</td>\n",
       "    </tr>\n",
       "    <tr>\n",
       "      <th>2</th>\n",
       "      <td>1</td>\n",
       "      <td>101</td>\n",
       "      <td>M</td>\n",
       "      <td>1</td>\n",
       "      <td>59</td>\n",
       "      <td>37</td>\n",
       "      <td>17</td>\n",
       "      <td>8</td>\n",
       "      <td>4</td>\n",
       "      <td>M</td>\n",
       "      <td>...</td>\n",
       "      <td>2</td>\n",
       "      <td>C159</td>\n",
       "      <td>F179</td>\n",
       "      <td>I469</td>\n",
       "      <td>I469</td>\n",
       "      <td>1</td>\n",
       "      <td>1</td>\n",
       "      <td>1</td>\n",
       "      <td>100</td>\n",
       "      <td>6</td>\n",
       "    </tr>\n",
       "    <tr>\n",
       "      <th>3</th>\n",
       "      <td>1</td>\n",
       "      <td>101</td>\n",
       "      <td>M</td>\n",
       "      <td>1</td>\n",
       "      <td>90</td>\n",
       "      <td>44</td>\n",
       "      <td>24</td>\n",
       "      <td>11</td>\n",
       "      <td>4</td>\n",
       "      <td>M</td>\n",
       "      <td>...</td>\n",
       "      <td>1</td>\n",
       "      <td>C61</td>\n",
       "      <td>I469</td>\n",
       "      <td>I469</td>\n",
       "      <td>I469</td>\n",
       "      <td>3</td>\n",
       "      <td>2</td>\n",
       "      <td>3</td>\n",
       "      <td>100</td>\n",
       "      <td>8</td>\n",
       "    </tr>\n",
       "    <tr>\n",
       "      <th>4</th>\n",
       "      <td>1</td>\n",
       "      <td>101</td>\n",
       "      <td>M</td>\n",
       "      <td>1</td>\n",
       "      <td>66</td>\n",
       "      <td>39</td>\n",
       "      <td>19</td>\n",
       "      <td>9</td>\n",
       "      <td>4</td>\n",
       "      <td>M</td>\n",
       "      <td>...</td>\n",
       "      <td>3</td>\n",
       "      <td>J449</td>\n",
       "      <td>C900</td>\n",
       "      <td>F179</td>\n",
       "      <td>I469</td>\n",
       "      <td>1</td>\n",
       "      <td>1</td>\n",
       "      <td>1</td>\n",
       "      <td>100</td>\n",
       "      <td>6</td>\n",
       "    </tr>\n",
       "  </tbody>\n",
       "</table>\n",
       "<p>5 rows × 35 columns</p>\n",
       "</div>"
      ],
      "text/plain": [
       "   Resident_Status  Month_Of_Death Sex  Age_Key  Age_Value  Age_Recode_52  \\\n",
       "0                1             101   M        1         71             40   \n",
       "1                1             101   M        1         74             40   \n",
       "2                1             101   M        1         59             37   \n",
       "3                1             101   M        1         90             44   \n",
       "4                1             101   M        1         66             39   \n",
       "\n",
       "   Age_Recode_27  Age_Recode_12  Place_Of_Death Marital_Status  ...  \\\n",
       "0             20              9               1              M  ...   \n",
       "1             20              9               1              D  ...   \n",
       "2             17              8               4              M  ...   \n",
       "3             24             11               4              M  ...   \n",
       "4             19              9               4              M  ...   \n",
       "\n",
       "   Record_Axis_Conditions   RA1   RA2   RA3   RA4 Race Race_Recode_3  \\\n",
       "0                       1   G20  I469  I469  I469    1             1   \n",
       "1                       2  M726  A419  I469  I469    1             1   \n",
       "2                       2  C159  F179  I469  I469    1             1   \n",
       "3                       1   C61  I469  I469  I469    3             2   \n",
       "4                       3  J449  C900  F179  I469    1             1   \n",
       "\n",
       "   Race_Recode_5  Hispanic_Origin  Hispanic_Origin_Recode  \n",
       "0              1              100                       6  \n",
       "1              1              100                       6  \n",
       "2              1              100                       6  \n",
       "3              3              100                       8  \n",
       "4              1              100                       6  \n",
       "\n",
       "[5 rows x 35 columns]"
      ]
     },
     "execution_count": 229,
     "metadata": {},
     "output_type": "execute_result"
    }
   ],
   "source": [
    "df.head()"
   ]
  },
  {
   "cell_type": "code",
   "execution_count": 230,
   "metadata": {},
   "outputs": [
    {
     "data": {
      "text/plain": [
       "I251    5.840409\n",
       "G309    5.240003\n",
       "C349    4.526757\n",
       "J449    4.265467\n",
       "I219    3.636851\n",
       "I250    2.595493\n",
       "I500    2.307194\n",
       "F03     2.278184\n",
       "I64     1.905656\n",
       "C509    1.590347\n",
       "J189    1.571341\n",
       "C259    1.553734\n",
       "C189    1.392279\n",
       "G20     1.190009\n",
       "C61     1.189209\n",
       "I10     1.062966\n",
       "I119    1.024552\n",
       "I48     0.982538\n",
       "C80     0.918116\n",
       "K703    0.904911\n",
       "Name: ICD10, dtype: float64"
      ]
     },
     "execution_count": 230,
     "metadata": {},
     "output_type": "execute_result"
    }
   ],
   "source": [
    "icd10 = (df.ICD10.value_counts()/df.ICD10.shape[0]* 100)[0:20]\n",
    "icd10"
   ]
  },
  {
   "cell_type": "code",
   "execution_count": 231,
   "metadata": {},
   "outputs": [
    {
     "data": {
      "text/plain": [
       "array([5.8404091 , 5.24000256, 4.5267572 , 4.26546732, 3.63685108,\n",
       "       2.59549285, 2.30719367, 2.2781837 , 1.90565555, 1.59034708,\n",
       "       1.57134054, 1.55373448, 1.39227894, 1.19000936, 1.18920909,\n",
       "       1.06296566, 1.02455245, 0.98253799, 0.91811583, 0.90491129])"
      ]
     },
     "execution_count": 231,
     "metadata": {},
     "output_type": "execute_result"
    }
   ],
   "source": [
    "icd10.values"
   ]
  },
  {
   "cell_type": "code",
   "execution_count": 232,
   "metadata": {},
   "outputs": [
    {
     "data": {
      "image/png": "[encoded data removed]",
      "text/plain": [
       "<Figure size 1000x500 with 1 Axes>"
      ]
     },
     "metadata": {},
     "output_type": "display_data"
    }
   ],
   "source": [
    "\n",
    "#objects = ('Married', 'Single', 'Widowed', 'Divorced', 'Unknown')\n",
    "y_pos = np.arange(len(icd10.index))\n",
    "#percentages = [marriedPer, singlePer, widowPer, divorcePer, unknownPer]\n",
    "\n",
    "plt.figure(figsize=(10,5))\n",
    "plt.bar(y_pos, icd10.values, align='center', alpha=0.5)\n",
    "plt.xticks(y_pos, icd10.index, rotation=60)\n",
    "plt.ylabel('Death Percentage')\n",
    "plt.title(' International Statistical Classification of Diseases ')\n",
    "plt.show();"
   ]
  },
  {
   "cell_type": "markdown",
   "metadata": {},
   "source": [
    "According to the data, \n",
    "**C44** is related to **Chronic obstructive pulmonary disease and Skin Cancer**\n",
    "\n",
    "Link to [Wikipedia](https://en.wikipedia.org/wiki/ICD-10_Chapter_II:_Neoplasms#(C40%E2%80%93C41)_Malignant_neoplasms,_bone_and_articular_cartilage) / [C44](https://en.wikipedia.org/wiki/Chronic_obstructive_pulmonary_disease)\n",
    "\n",
    "*second*: **C349** was the second most common disease of death among the deceased and is related to **Malignant neoplasm of bronchus and lung cancer**.\n",
    "\n",
    "Link to [Wikipedia](https://en.wikipedia.org/wiki/ICD-10_Chapter_II:_Neoplasms#(C30%E2%80%93C39)_Malignant_neoplasms,_respiratory_system_and_intrathoracic_organs) / [C34](https://en.wikipedia.org/wiki/Lung_cancer) series belongs to"
   ]
  },
  {
   "cell_type": "markdown",
   "metadata": {},
   "source": [
    "### Distribution for Age of People who committed suicide"
   ]
  },
  {
   "cell_type": "code",
   "execution_count": null,
   "metadata": {},
   "outputs": [],
   "source": []
  },
  {
   "cell_type": "code",
   "execution_count": 233,
   "metadata": {
    "scrolled": true
   },
   "outputs": [
    {
     "data": {
      "text/plain": [
       "array([ 32,  22,  34,  16,  31,  21,  17,  81,  19,  75,  25,  43,  35,\n",
       "        29,  26,  67,  20,  62,  54,  70,  23,  56,  82,  45,  80,  14,\n",
       "        66,  61,  50,  47,  39,  13,  27,  71,  44,  57,  65,  18,  28,\n",
       "        30,  59,  55,  40,  24,  51,  46,  37,  41,  49,  64,  58,  33,\n",
       "        42,  15,  48,  86,  90,  38,  52,  60,  63,  36,  88,  77,  73,\n",
       "        68,  72,  69,  78,  74,  84,  76,  83,  87,  53,  85,  91,  89,\n",
       "       100,  79,  92,  11,  10,  12,  94,   9,  93,  95,  96,  97,  98,\n",
       "        99, 101])"
      ]
     },
     "execution_count": 233,
     "metadata": {},
     "output_type": "execute_result"
    }
   ],
   "source": [
    "df[df[\"Manner_Of_Death\"] == 2][\"Age_Value\"].unique()"
   ]
  },
  {
   "cell_type": "code",
   "execution_count": 234,
   "metadata": {
    "scrolled": false
   },
   "outputs": [
    {
     "data": {
      "image/png": "[encoded data removed]",
      "text/plain": [
       "<Figure size 1000x600 with 1 Axes>"
      ]
     },
     "metadata": {},
     "output_type": "display_data"
    }
   ],
   "source": [
    "ax = sns.distplot(df[df[\"Manner_Of_Death\"] == 2][\"Age_Value\"], kde_kws={'clip': (0, 200)})"
   ]
  },
  {
   "cell_type": "markdown",
   "metadata": {},
   "source": [
    "## Transforming data (For Machine Learning Training)"
   ]
  },
  {
   "cell_type": "code",
   "execution_count": 235,
   "metadata": {},
   "outputs": [],
   "source": [
    "# Models\n",
    "from sklearn.ensemble import RandomForestClassifier\n",
    "from sklearn.svm import SVC\n",
    "\n",
    "# Metrics and utility\n",
    "from sklearn.metrics import accuracy_score\n",
    "import pickle\n",
    "from sklearn.model_selection import train_test_split, RandomizedSearchCV"
   ]
  },
  {
   "cell_type": "code",
   "execution_count": 236,
   "metadata": {},
   "outputs": [
    {
     "data": {
      "text/plain": [
       "(499828, 35)"
      ]
     },
     "execution_count": 236,
     "metadata": {},
     "output_type": "execute_result"
    }
   ],
   "source": [
    "df.shape"
   ]
  },
  {
   "cell_type": "markdown",
   "metadata": {},
   "source": [
    "### Predicting Gender based on details of the person's death (Binary Classification)"
   ]
  },
  {
   "cell_type": "code",
   "execution_count": 237,
   "metadata": {},
   "outputs": [],
   "source": [
    "def mapStringToNumbers(feature):\n",
    "    unq = feature.unique().tolist()\n",
    "    return (feature.apply(unq.index), unq)"
   ]
  },
  {
   "cell_type": "code",
   "execution_count": 238,
   "metadata": {},
   "outputs": [],
   "source": [
    "def mapFeature(feature):\n",
    "    return mapStringToNumbers(feature)[0] if feature.dtype == type(object) else feature"
   ]
  },
  {
   "cell_type": "code",
   "execution_count": 239,
   "metadata": {},
   "outputs": [
    {
     "data": {
      "text/plain": [
       "Index(['Resident_Status', 'Month_Of_Death', 'Sex', 'Age_Key', 'Age_Value',\n",
       "       'Age_Recode_52', 'Age_Recode_27', 'Age_Recode_12', 'Place_Of_Death',\n",
       "       'Marital_Status', 'DOW_of_Death', 'Data_Year', 'Injured_At_Work',\n",
       "       'Manner_Of_Death', 'Method_Of_Disposition', 'Autopsy', 'ICD10',\n",
       "       'Cause_Recode_358', 'Cause_Recode_113', 'Cause_Recode_39',\n",
       "       'Entity_Axis_Conditions', 'EAC1', 'EAC2', 'EAC3', 'EAC4',\n",
       "       'Record_Axis_Conditions', 'RA1', 'RA2', 'RA3', 'RA4', 'Race',\n",
       "       'Race_Recode_3', 'Race_Recode_5', 'Hispanic_Origin',\n",
       "       'Hispanic_Origin_Recode'],\n",
       "      dtype='object')"
      ]
     },
     "execution_count": 239,
     "metadata": {},
     "output_type": "execute_result"
    }
   ],
   "source": [
    "df.columns"
   ]
  },
  {
   "cell_type": "code",
   "execution_count": 240,
   "metadata": {},
   "outputs": [],
   "source": [
    "invalCols = [\n",
    "    \"EAC1\",\n",
    "    \"EAC2\",\n",
    "    \"EAC3\",\n",
    "    \"ICD10\",\n",
    "    \"Age_Key\",\n",
    "    \"Age_Recode_52\",\n",
    "    \"Age_Recode_27\",\n",
    "    \"Age_Recode_12\",\n",
    "    \"Data_Year\",\n",
    "    \"Cause_Recode_39\",\n",
    "    \"Cause_Recode_358\",\n",
    "    \"Cause_Recode_113\",\n",
    "    \"Cause_Recode_39\",\n",
    "    \"RA1\",\n",
    "    \"RA2\",\n",
    "    \"RA3\",\n",
    "    \"Race_Recode_3\",\n",
    "    \"Race_Recode_5\",\n",
    "    \"Hispanic_Origin_Recode\",\n",
    "]"
   ]
  },
  {
   "cell_type": "code",
   "execution_count": 241,
   "metadata": {},
   "outputs": [],
   "source": [
    "features = df.loc[:, :\"Manner_Of_Death\"].apply(mapFeature)"
   ]
  },
  {
   "cell_type": "code",
   "execution_count": 242,
   "metadata": {},
   "outputs": [
    {
     "data": {
      "text/plain": [
       "14"
      ]
     },
     "execution_count": 242,
     "metadata": {},
     "output_type": "execute_result"
    }
   ],
   "source": [
    "len(features.columns)"
   ]
  },
  {
   "cell_type": "code",
   "execution_count": 243,
   "metadata": {},
   "outputs": [],
   "source": [
    "target = features[\"Sex\"]"
   ]
  },
  {
   "cell_type": "code",
   "execution_count": 244,
   "metadata": {},
   "outputs": [],
   "source": [
    "features = features.drop(columns=[\"Sex\"])"
   ]
  },
  {
   "cell_type": "code",
   "execution_count": 245,
   "metadata": {},
   "outputs": [],
   "source": [
    "X_train, X_test, y_train, y_test = train_test_split(features, target, test_size=0.2, random_state=42)"
   ]
  },
  {
   "cell_type": "code",
   "execution_count": 246,
   "metadata": {},
   "outputs": [],
   "source": [
    "clf = RandomForestClassifier(max_depth=12, n_estimators=20, random_state=42)\n",
    "martialPredictor = clf.fit(X_train, y_train)"
   ]
  },
  {
   "cell_type": "code",
   "execution_count": 247,
   "metadata": {},
   "outputs": [],
   "source": [
    "maritalPrediction = martialPredictor.predict(X_test)"
   ]
  },
  {
   "cell_type": "markdown",
   "metadata": {},
   "source": [
    "### ACCURACY"
   ]
  },
  {
   "cell_type": "code",
   "execution_count": 248,
   "metadata": {
    "scrolled": false
   },
   "outputs": [
    {
     "data": {
      "text/plain": [
       "'67 %'"
      ]
     },
     "execution_count": 248,
     "metadata": {},
     "output_type": "execute_result"
    }
   ],
   "source": [
    "\"{:0.0f} %\".format(accuracy_score(y_test, maritalPrediction)*100)"
   ]
  },
  {
   "cell_type": "code",
   "execution_count": 249,
   "metadata": {},
   "outputs": [
    {
     "name": "stdout",
     "output_type": "stream",
     "text": [
      "{'n_estimators': [200, 400, 600, 800, 1000, 1200, 1400, 1600, 1800, 2000], 'max_features': ['auto', 'sqrt'], 'max_depth': [10, 20, 30, 40, 50, 60, 70, 80, 90, 100, 110, None], 'min_samples_split': [2, 5, 10], 'min_samples_leaf': [1, 2, 4], 'bootstrap': [True, False]}\n"
     ]
    }
   ],
   "source": [
    "n_estimators = [int(x) for x in np.linspace(start = 200, stop = 2000, num = 10)]\n",
    "\n",
    "max_features = ['auto', 'sqrt']\n",
    "\n",
    "max_depth = [int(x) for x in np.linspace(10, 110, num = 11)]\n",
    "max_depth.append(None)\n",
    "\n",
    "min_samples_split = [2, 5, 10]\n",
    "\n",
    "min_samples_leaf = [1, 2, 4]\n",
    "\n",
    "bootstrap = [True, False]\n",
    "\n",
    "random_grid = {'n_estimators': n_estimators,\n",
    "               'max_features': max_features,\n",
    "               'max_depth': max_depth,\n",
    "               'min_samples_split': min_samples_split,\n",
    "               'min_samples_leaf': min_samples_leaf,\n",
    "               'bootstrap': bootstrap}\n",
    "print(random_grid)"
   ]
  },
  {
   "cell_type": "code",
   "execution_count": 250,
   "metadata": {},
   "outputs": [],
   "source": [
    "# rcf = RandomizedSearchCV(estimator=clf, param_distributions=random_grid, n_iter = 100, cv = 3, verbose=2, random_state=42, n_jobs = -1)"
   ]
  },
  {
   "cell_type": "code",
   "execution_count": 251,
   "metadata": {},
   "outputs": [],
   "source": [
    "# rcf.fit(X_train, y_train)"
   ]
  },
  {
   "cell_type": "markdown",
   "metadata": {},
   "source": [
    "### Loading and Saving model training"
   ]
  },
  {
   "cell_type": "code",
   "execution_count": 252,
   "metadata": {},
   "outputs": [],
   "source": [
    "# pickle.dump(rcf, open(\"random_forest_optimized.pkl\", \"wb\"))"
   ]
  },
  {
   "cell_type": "code",
   "execution_count": 253,
   "metadata": {},
   "outputs": [],
   "source": [
    "# pk = pickle.load(open(\"random_forest_optimized.pkl\", \"rb\"))"
   ]
  },
  {
   "cell_type": "code",
   "execution_count": 254,
   "metadata": {
    "scrolled": true
   },
   "outputs": [],
   "source": [
    "# maritalPrediction = pk.predict(X_test)"
   ]
  },
  {
   "cell_type": "code",
   "execution_count": 255,
   "metadata": {
    "scrolled": true
   },
   "outputs": [],
   "source": [
    "# \"{:0.0f}.0 %\".format(accuracy_score(maritalPrediction, y_test)*100)"
   ]
  },
  {
   "cell_type": "code",
   "execution_count": 256,
   "metadata": {},
   "outputs": [
    {
     "data": {
      "text/plain": [
       "Index(['Resident_Status', 'Month_Of_Death', 'Sex', 'Age_Key', 'Age_Value',\n",
       "       'Age_Recode_52', 'Age_Recode_27', 'Age_Recode_12', 'Place_Of_Death',\n",
       "       'Marital_Status', 'DOW_of_Death', 'Data_Year', 'Injured_At_Work',\n",
       "       'Manner_Of_Death', 'Method_Of_Disposition', 'Autopsy', 'ICD10',\n",
       "       'Cause_Recode_358', 'Cause_Recode_113', 'Cause_Recode_39',\n",
       "       'Entity_Axis_Conditions', 'EAC1', 'EAC2', 'EAC3', 'EAC4',\n",
       "       'Record_Axis_Conditions', 'RA1', 'RA2', 'RA3', 'RA4', 'Race',\n",
       "       'Race_Recode_3', 'Race_Recode_5', 'Hispanic_Origin',\n",
       "       'Hispanic_Origin_Recode'],\n",
       "      dtype='object')"
      ]
     },
     "execution_count": 256,
     "metadata": {},
     "output_type": "execute_result"
    }
   ],
   "source": [
    "df.columns"
   ]
  },
  {
   "cell_type": "code",
   "execution_count": 257,
   "metadata": {},
   "outputs": [
    {
     "data": {
      "text/plain": [
       "[1, 2, 3, 4, 5, 6, 7, 18, 28, 38, 48, 58, 68, 78]"
      ]
     },
     "execution_count": 257,
     "metadata": {},
     "output_type": "execute_result"
    }
   ],
   "source": [
    "sorted(df[\"Race\"].unique())"
   ]
  },
  {
   "cell_type": "markdown",
   "metadata": {},
   "source": [
    "### Predict age according to condititons"
   ]
  },
  {
   "cell_type": "code",
   "execution_count": 258,
   "metadata": {},
   "outputs": [],
   "source": [
    "from sklearn.linear_model import LinearRegression\n",
    "from sklearn.ensemble import RandomForestRegressor\n",
    "from sklearn.metrics import r2_score"
   ]
  },
  {
   "cell_type": "code",
   "execution_count": 259,
   "metadata": {},
   "outputs": [],
   "source": [
    "atFeatures = df.loc[:, \"Sex\": \"Marital_Status\"].apply(mapFeature)"
   ]
  },
  {
   "cell_type": "code",
   "execution_count": 260,
   "metadata": {
    "scrolled": true
   },
   "outputs": [
    {
     "data": {
      "text/plain": [
       "Index(['Resident_Status', 'Month_Of_Death', 'Sex', 'Age_Key', 'Age_Value',\n",
       "       'Age_Recode_52', 'Age_Recode_27', 'Age_Recode_12', 'Place_Of_Death',\n",
       "       'Marital_Status', 'DOW_of_Death', 'Data_Year', 'Injured_At_Work',\n",
       "       'Manner_Of_Death', 'Method_Of_Disposition', 'Autopsy', 'ICD10',\n",
       "       'Cause_Recode_358', 'Cause_Recode_113', 'Cause_Recode_39',\n",
       "       'Entity_Axis_Conditions', 'EAC1', 'EAC2', 'EAC3', 'EAC4',\n",
       "       'Record_Axis_Conditions', 'RA1', 'RA2', 'RA3', 'RA4', 'Race',\n",
       "       'Race_Recode_3', 'Race_Recode_5', 'Hispanic_Origin',\n",
       "       'Hispanic_Origin_Recode'],\n",
       "      dtype='object')"
      ]
     },
     "execution_count": 260,
     "metadata": {},
     "output_type": "execute_result"
    }
   ],
   "source": [
    "df.columns"
   ]
  },
  {
   "cell_type": "code",
   "execution_count": 261,
   "metadata": {},
   "outputs": [],
   "source": [
    "atFeatures = atFeatures.drop(columns=[\"Place_Of_Death\"])"
   ]
  },
  {
   "cell_type": "code",
   "execution_count": 262,
   "metadata": {
    "scrolled": false
   },
   "outputs": [
    {
     "data": {
      "text/plain": [
       "Index(['Sex', 'Age_Key', 'Age_Value', 'Age_Recode_52', 'Age_Recode_27',\n",
       "       'Age_Recode_12', 'Marital_Status'],\n",
       "      dtype='object')"
      ]
     },
     "execution_count": 262,
     "metadata": {},
     "output_type": "execute_result"
    }
   ],
   "source": [
    "atFeatures.columns"
   ]
  },
  {
   "cell_type": "code",
   "execution_count": 263,
   "metadata": {},
   "outputs": [],
   "source": [
    "atTarget = atFeatures[\"Age_Value\"]"
   ]
  },
  {
   "cell_type": "code",
   "execution_count": 264,
   "metadata": {},
   "outputs": [],
   "source": [
    "atFeatures = atFeatures.drop(columns=[\"Age_Value\"])"
   ]
  },
  {
   "cell_type": "code",
   "execution_count": 265,
   "metadata": {},
   "outputs": [],
   "source": [
    "X_train, X_test, y_train, y_test = train_test_split(atFeatures, atTarget, test_size=0.33, random_state=42)"
   ]
  },
  {
   "cell_type": "code",
   "execution_count": 266,
   "metadata": {},
   "outputs": [],
   "source": [
    "# atPredictor = LinearRegression(fit_intercept=True, n_jobs=4).fit(X_train, y_train)\n",
    "atPredictor = RandomForestRegressor(max_depth=14, n_estimators=20, random_state=42).fit(X_train, y_train)"
   ]
  },
  {
   "cell_type": "code",
   "execution_count": 267,
   "metadata": {},
   "outputs": [],
   "source": [
    "atPredictions = list(map(int, atPredictor.predict(X_test)))"
   ]
  },
  {
   "cell_type": "code",
   "execution_count": 268,
   "metadata": {},
   "outputs": [
    {
     "data": {
      "text/plain": [
       "[57,\n",
       " 72,\n",
       " 72,\n",
       " 81,\n",
       " 86,\n",
       " 86,\n",
       " 77,\n",
       " 91,\n",
       " 62,\n",
       " 26,\n",
       " 76,\n",
       " 76,\n",
       " 62,\n",
       " 96,\n",
       " 72,\n",
       " 42,\n",
       " 26,\n",
       " 101,\n",
       " 3,\n",
       " 91,\n",
       " 72,\n",
       " 57,\n",
       " 57,\n",
       " 91,\n",
       " 91,\n",
       " 87,\n",
       " 72,\n",
       " 62,\n",
       " 57,\n",
       " 82,\n",
       " 86,\n",
       " 91,\n",
       " 4,\n",
       " 72,\n",
       " 36,\n",
       " 62,\n",
       " 72,\n",
       " 67,\n",
       " 72,\n",
       " 87,\n",
       " 100,\n",
       " 96,\n",
       " 26,\n",
       " 71,\n",
       " 77,\n",
       " 77,\n",
       " 91,\n",
       " 91,\n",
       " 87,\n",
       " 91,\n",
       " 82,\n",
       " 52,\n",
       " 87,\n",
       " 62,\n",
       " 71,\n",
       " 47,\n",
       " 96,\n",
       " 86,\n",
       " 52,\n",
       " 86,\n",
       " 91,\n",
       " 57,\n",
       " 81,\n",
       " 62,\n",
       " 82,\n",
       " 91,\n",
       " 52,\n",
       " 57,\n",
       " 42,\n",
       " 91,\n",
       " 86,\n",
       " 82,\n",
       " 47,\n",
       " 72,\n",
       " 91,\n",
       " 86,\n",
       " 87,\n",
       " 91,\n",
       " 66,\n",
       " 52,\n",
       " 62,\n",
       " 77,\n",
       " 52,\n",
       " 81,\n",
       " 77,\n",
       " 62,\n",
       " 82,\n",
       " 87,\n",
       " 77,\n",
       " 52,\n",
       " 76,\n",
       " 52,\n",
       " 87,\n",
       " 76,\n",
       " 67,\n",
       " 81,\n",
       " 81,\n",
       " 91,\n",
       " 3,\n",
       " 67,\n",
       " 67,\n",
       " 86,\n",
       " 86,\n",
       " 77,\n",
       " 62,\n",
       " 72,\n",
       " 72,\n",
       " 96,\n",
       " 91,\n",
       " 67,\n",
       " 81,\n",
       " 91,\n",
       " 37,\n",
       " 57,\n",
       " 87,\n",
       " 87,\n",
       " 77,\n",
       " 62,\n",
       " 82,\n",
       " 87,\n",
       " 87,\n",
       " 57,\n",
       " 57,\n",
       " 96,\n",
       " 67,\n",
       " 71,\n",
       " 72,\n",
       " 52,\n",
       " 72,\n",
       " 67,\n",
       " 96,\n",
       " 91,\n",
       " 62,\n",
       " 67,\n",
       " 77,\n",
       " 76,\n",
       " 91,\n",
       " 57,\n",
       " 66,\n",
       " 67,\n",
       " 86,\n",
       " 86,\n",
       " 86,\n",
       " 61,\n",
       " 57,\n",
       " 82,\n",
       " 82,\n",
       " 42,\n",
       " 22,\n",
       " 87,\n",
       " 62,\n",
       " 72,\n",
       " 76,\n",
       " 87,\n",
       " 91,\n",
       " 36,\n",
       " 87,\n",
       " 22,\n",
       " 91,\n",
       " 62,\n",
       " 81,\n",
       " 81,\n",
       " 62,\n",
       " 91,\n",
       " 77,\n",
       " 72,\n",
       " 1,\n",
       " 91,\n",
       " 47,\n",
       " 71,\n",
       " 67,\n",
       " 82,\n",
       " 91,\n",
       " 62,\n",
       " 82,\n",
       " 47,\n",
       " 31,\n",
       " 31,\n",
       " 82,\n",
       " 62,\n",
       " 86,\n",
       " 86,\n",
       " 81,\n",
       " 57,\n",
       " 62,\n",
       " 37,\n",
       " 62,\n",
       " 77,\n",
       " 87,\n",
       " 67,\n",
       " 72,\n",
       " 57,\n",
       " 62,\n",
       " 82,\n",
       " 71,\n",
       " 77,\n",
       " 76,\n",
       " 67,\n",
       " 82,\n",
       " 96,\n",
       " 91,\n",
       " 81,\n",
       " 67,\n",
       " 62,\n",
       " 77,\n",
       " 91,\n",
       " 82,\n",
       " 91,\n",
       " 91,\n",
       " 72,\n",
       " 96,\n",
       " 101,\n",
       " 91,\n",
       " 22,\n",
       " 76,\n",
       " 96,\n",
       " 72,\n",
       " 62,\n",
       " 91,\n",
       " 81,\n",
       " 82,\n",
       " 12,\n",
       " 47,\n",
       " 87,\n",
       " 82,\n",
       " 96,\n",
       " 72,\n",
       " 47,\n",
       " 91,\n",
       " 91,\n",
       " 47,\n",
       " 67,\n",
       " 86,\n",
       " 96,\n",
       " 82,\n",
       " 86,\n",
       " 67,\n",
       " 91,\n",
       " 82,\n",
       " 57,\n",
       " 77,\n",
       " 86,\n",
       " 62,\n",
       " 77,\n",
       " 62,\n",
       " 67,\n",
       " 91,\n",
       " 71,\n",
       " 101,\n",
       " 87,\n",
       " 82,\n",
       " 57,\n",
       " 96,\n",
       " 82,\n",
       " 87,\n",
       " 86,\n",
       " 76,\n",
       " 72,\n",
       " 77,\n",
       " 101,\n",
       " 67,\n",
       " 91,\n",
       " 62,\n",
       " 81,\n",
       " 87,\n",
       " 96,\n",
       " 66,\n",
       " 67,\n",
       " 86,\n",
       " 82,\n",
       " 82,\n",
       " 91,\n",
       " 91,\n",
       " 61,\n",
       " 62,\n",
       " 87,\n",
       " 76,\n",
       " 91,\n",
       " 81,\n",
       " 77,\n",
       " 57,\n",
       " 22,\n",
       " 77,\n",
       " 72,\n",
       " 57,\n",
       " 76,\n",
       " 67,\n",
       " 57,\n",
       " 52,\n",
       " 87,\n",
       " 96,\n",
       " 37,\n",
       " 57,\n",
       " 82,\n",
       " 91,\n",
       " 36,\n",
       " 91,\n",
       " 86,\n",
       " 32,\n",
       " 91,\n",
       " 67,\n",
       " 91,\n",
       " 16,\n",
       " 67,\n",
       " 81,\n",
       " 31,\n",
       " 67,\n",
       " 77,\n",
       " 91,\n",
       " 91,\n",
       " 47,\n",
       " 72,\n",
       " 42,\n",
       " 67,\n",
       " 91,\n",
       " 72,\n",
       " 67,\n",
       " 77,\n",
       " 67,\n",
       " 86,\n",
       " 86,\n",
       " 81,\n",
       " 37,\n",
       " 57,\n",
       " 42,\n",
       " 16,\n",
       " 77,\n",
       " 62,\n",
       " 87,\n",
       " 31,\n",
       " 52,\n",
       " 72,\n",
       " 61,\n",
       " 57,\n",
       " 86,\n",
       " 91,\n",
       " 67,\n",
       " 57,\n",
       " 91,\n",
       " 91,\n",
       " 72,\n",
       " 72,\n",
       " 47,\n",
       " 91,\n",
       " 62,\n",
       " 62,\n",
       " 52,\n",
       " 86,\n",
       " 76,\n",
       " 72,\n",
       " 77,\n",
       " 82,\n",
       " 16,\n",
       " 67,\n",
       " 47,\n",
       " 57,\n",
       " 96,\n",
       " 86,\n",
       " 87,\n",
       " 76,\n",
       " 22,\n",
       " 77,\n",
       " 81,\n",
       " 82,\n",
       " 101,\n",
       " 91,\n",
       " 86,\n",
       " 91,\n",
       " 36,\n",
       " 87,\n",
       " 77,\n",
       " 62,\n",
       " 91,\n",
       " 91,\n",
       " 47,\n",
       " 52,\n",
       " 67,\n",
       " 96,\n",
       " 91,\n",
       " 101,\n",
       " 91,\n",
       " 62,\n",
       " 86,\n",
       " 76,\n",
       " 62,\n",
       " 91,\n",
       " 87,\n",
       " 62,\n",
       " 77,\n",
       " 1,\n",
       " 91,\n",
       " 62,\n",
       " 72,\n",
       " 86,\n",
       " 82,\n",
       " 67,\n",
       " 71,\n",
       " 76,\n",
       " 72,\n",
       " 86,\n",
       " 62,\n",
       " 77,\n",
       " 61,\n",
       " 86,\n",
       " 57,\n",
       " 72,\n",
       " 96,\n",
       " 82,\n",
       " 72,\n",
       " 67,\n",
       " 32,\n",
       " 87,\n",
       " 87,\n",
       " 57,\n",
       " 67,\n",
       " 72,\n",
       " 86,\n",
       " 86,\n",
       " 96,\n",
       " 91,\n",
       " 47,\n",
       " 77,\n",
       " 62,\n",
       " 72,\n",
       " 57,\n",
       " 81,\n",
       " 96,\n",
       " 82,\n",
       " 57,\n",
       " 72,\n",
       " 72,\n",
       " 42,\n",
       " 62,\n",
       " 82,\n",
       " 91,\n",
       " 77,\n",
       " 87,\n",
       " 87,\n",
       " 81,\n",
       " 77,\n",
       " 47,\n",
       " 91,\n",
       " 36,\n",
       " 71,\n",
       " 67,\n",
       " 82,\n",
       " 52,\n",
       " 81,\n",
       " 91,\n",
       " 86,\n",
       " 72,\n",
       " 91,\n",
       " 81,\n",
       " 87,\n",
       " 77,\n",
       " 52,\n",
       " 36,\n",
       " 82,\n",
       " 67,\n",
       " 86,\n",
       " 72,\n",
       " 72,\n",
       " 86,\n",
       " 86,\n",
       " 87,\n",
       " 72,\n",
       " 26,\n",
       " 72,\n",
       " 67,\n",
       " 87,\n",
       " 47,\n",
       " 57,\n",
       " 67,\n",
       " 47,\n",
       " 16,\n",
       " 77,\n",
       " 67,\n",
       " 52,\n",
       " 62,\n",
       " 67,\n",
       " 91,\n",
       " 72,\n",
       " 57,\n",
       " 91,\n",
       " 72,\n",
       " 37,\n",
       " 71,\n",
       " 91,\n",
       " 37,\n",
       " 76,\n",
       " 62,\n",
       " 62,\n",
       " 57,\n",
       " 76,\n",
       " 86,\n",
       " 72,\n",
       " 47,\n",
       " 96,\n",
       " 96,\n",
       " 82,\n",
       " 91,\n",
       " 82,\n",
       " 52,\n",
       " 67,\n",
       " 91,\n",
       " 91,\n",
       " 72,\n",
       " 62,\n",
       " 72,\n",
       " 86,\n",
       " 91,\n",
       " 42,\n",
       " 67,\n",
       " 87,\n",
       " 91,\n",
       " 57,\n",
       " 62,\n",
       " 71,\n",
       " 61,\n",
       " 87,\n",
       " 96,\n",
       " 77,\n",
       " 72,\n",
       " 87,\n",
       " 91,\n",
       " 72,\n",
       " 96,\n",
       " 57,\n",
       " 52,\n",
       " 32,\n",
       " 77,\n",
       " 87,\n",
       " 81,\n",
       " 77,\n",
       " 62,\n",
       " 91,\n",
       " 77,\n",
       " 96,\n",
       " 57,\n",
       " 77,\n",
       " 22,\n",
       " 61,\n",
       " 77,\n",
       " 77,\n",
       " 57,\n",
       " 86,\n",
       " 77,\n",
       " 67,\n",
       " 66,\n",
       " 67,\n",
       " 77,\n",
       " 67,\n",
       " 47,\n",
       " 91,\n",
       " 82,\n",
       " 91,\n",
       " 62,\n",
       " 62,\n",
       " 62,\n",
       " 9,\n",
       " 72,\n",
       " 62,\n",
       " 82,\n",
       " 91,\n",
       " 82,\n",
       " 82,\n",
       " 86,\n",
       " 82,\n",
       " 52,\n",
       " 71,\n",
       " 86,\n",
       " 91,\n",
       " 76,\n",
       " 47,\n",
       " 47,\n",
       " 62,\n",
       " 61,\n",
       " 61,\n",
       " 66,\n",
       " 77,\n",
       " 91,\n",
       " 17,\n",
       " 62,\n",
       " 17,\n",
       " 91,\n",
       " 105,\n",
       " 72,\n",
       " 96,\n",
       " 47,\n",
       " 62,\n",
       " 82,\n",
       " 62,\n",
       " 77,\n",
       " 42,\n",
       " 77,\n",
       " 71,\n",
       " 86,\n",
       " 91,\n",
       " 82,\n",
       " 67,\n",
       " 77,\n",
       " 96,\n",
       " 87,\n",
       " 71,\n",
       " 81,\n",
       " 66,\n",
       " 62,\n",
       " 77,\n",
       " 62,\n",
       " 87,\n",
       " 57,\n",
       " 87,\n",
       " 82,\n",
       " 72,\n",
       " 86,\n",
       " 91,\n",
       " 77,\n",
       " 82,\n",
       " 23,\n",
       " 72,\n",
       " 87,\n",
       " 77,\n",
       " 82,\n",
       " 91,\n",
       " 82,\n",
       " 77,\n",
       " 81,\n",
       " 71,\n",
       " 77,\n",
       " 62,\n",
       " 86,\n",
       " 57,\n",
       " 57,\n",
       " 81,\n",
       " 47,\n",
       " 81,\n",
       " 42,\n",
       " 77,\n",
       " 86,\n",
       " 67,\n",
       " 77,\n",
       " 67,\n",
       " 96,\n",
       " 77,\n",
       " 87,\n",
       " 71,\n",
       " 76,\n",
       " 42,\n",
       " 82,\n",
       " 81,\n",
       " 52,\n",
       " 67,\n",
       " 72,\n",
       " 82,\n",
       " 76,\n",
       " 101,\n",
       " 57,\n",
       " 57,\n",
       " 62,\n",
       " 91,\n",
       " 72,\n",
       " 66,\n",
       " 72,\n",
       " 62,\n",
       " 87,\n",
       " 67,\n",
       " 67,\n",
       " 67,\n",
       " 87,\n",
       " 81,\n",
       " 37,\n",
       " 36,\n",
       " 67,\n",
       " 82,\n",
       " 1,\n",
       " 96,\n",
       " 91,\n",
       " 91,\n",
       " 87,\n",
       " 96,\n",
       " 72,\n",
       " 57,\n",
       " 52,\n",
       " 42,\n",
       " 72,\n",
       " 91,\n",
       " 87,\n",
       " 77,\n",
       " 7,\n",
       " 26,\n",
       " 77,\n",
       " 91,\n",
       " 61,\n",
       " 52,\n",
       " 67,\n",
       " 26,\n",
       " 91,\n",
       " 82,\n",
       " 77,\n",
       " 12,\n",
       " 86,\n",
       " 86,\n",
       " 72,\n",
       " 61,\n",
       " 96,\n",
       " 42,\n",
       " 62,\n",
       " 91,\n",
       " 67,\n",
       " 76,\n",
       " 57,\n",
       " 22,\n",
       " 67,\n",
       " 96,\n",
       " 76,\n",
       " 87,\n",
       " 82,\n",
       " 82,\n",
       " 82,\n",
       " 82,\n",
       " 4,\n",
       " 91,\n",
       " 81,\n",
       " 86,\n",
       " 77,\n",
       " 76,\n",
       " 72,\n",
       " 76,\n",
       " 86,\n",
       " 87,\n",
       " 52,\n",
       " 91,\n",
       " 82,\n",
       " 66,\n",
       " 82,\n",
       " 87,\n",
       " 62,\n",
       " 72,\n",
       " 96,\n",
       " 82,\n",
       " 96,\n",
       " 52,\n",
       " 82,\n",
       " 77,\n",
       " 82,\n",
       " 62,\n",
       " 71,\n",
       " 71,\n",
       " 86,\n",
       " 82,\n",
       " 26,\n",
       " 62,\n",
       " 76,\n",
       " 52,\n",
       " 81,\n",
       " 67,\n",
       " 96,\n",
       " 86,\n",
       " 71,\n",
       " 82,\n",
       " 1,\n",
       " 62,\n",
       " 87,\n",
       " 72,\n",
       " 91,\n",
       " 72,\n",
       " 82,\n",
       " 52,\n",
       " 72,\n",
       " 52,\n",
       " 82,\n",
       " 57,\n",
       " 62,\n",
       " 62,\n",
       " 57,\n",
       " 52,\n",
       " 82,\n",
       " 72,\n",
       " 86,\n",
       " 77,\n",
       " 86,\n",
       " 17,\n",
       " 72,\n",
       " 77,\n",
       " 66,\n",
       " 32,\n",
       " 91,\n",
       " 87,\n",
       " 47,\n",
       " 71,\n",
       " 91,\n",
       " 86,\n",
       " 82,\n",
       " 82,\n",
       " 26,\n",
       " 62,\n",
       " 91,\n",
       " 87,\n",
       " 87,\n",
       " 72,\n",
       " 82,\n",
       " 87,\n",
       " 76,\n",
       " 91,\n",
       " 57,\n",
       " 86,\n",
       " 87,\n",
       " 87,\n",
       " 72,\n",
       " 91,\n",
       " 91,\n",
       " 82,\n",
       " 91,\n",
       " 82,\n",
       " 96,\n",
       " 76,\n",
       " 62,\n",
       " 82,\n",
       " 57,\n",
       " 72,\n",
       " 62,\n",
       " 82,\n",
       " 81,\n",
       " 57,\n",
       " 61,\n",
       " 91,\n",
       " 62,\n",
       " 61,\n",
       " 72,\n",
       " 77,\n",
       " 91,\n",
       " 12,\n",
       " 77,\n",
       " 82,\n",
       " 72,\n",
       " 57,\n",
       " 61,\n",
       " 72,\n",
       " 57,\n",
       " 57,\n",
       " 82,\n",
       " 82,\n",
       " 57,\n",
       " 91,\n",
       " 72,\n",
       " 72,\n",
       " 86,\n",
       " 86,\n",
       " 77,\n",
       " 57,\n",
       " 47,\n",
       " 96,\n",
       " 81,\n",
       " 91,\n",
       " 76,\n",
       " 72,\n",
       " 72,\n",
       " 87,\n",
       " 91,\n",
       " 62,\n",
       " 81,\n",
       " 62,\n",
       " 77,\n",
       " 76,\n",
       " 2,\n",
       " 52,\n",
       " 86,\n",
       " 67,\n",
       " 82,\n",
       " 77,\n",
       " 31,\n",
       " 86,\n",
       " 12,\n",
       " 72,\n",
       " 67,\n",
       " 57,\n",
       " 91,\n",
       " 77,\n",
       " 57,\n",
       " 62,\n",
       " 87,\n",
       " 86,\n",
       " 37,\n",
       " 77,\n",
       " 76,\n",
       " 52,\n",
       " 81,\n",
       " 86,\n",
       " 91,\n",
       " 57,\n",
       " 96,\n",
       " 81,\n",
       " 36,\n",
       " 57,\n",
       " 87,\n",
       " 67,\n",
       " 62,\n",
       " 82,\n",
       " 61,\n",
       " 82,\n",
       " 72,\n",
       " 72,\n",
       " 67,\n",
       " 72,\n",
       " 37,\n",
       " 37,\n",
       " 91,\n",
       " 101,\n",
       " 87,\n",
       " 62,\n",
       " 57,\n",
       " 67,\n",
       " 57,\n",
       " 96,\n",
       " 67,\n",
       " 87,\n",
       " 57,\n",
       " 77,\n",
       " 81,\n",
       " 96,\n",
       " 82,\n",
       " 91,\n",
       " 91,\n",
       " 82,\n",
       " 77,\n",
       " 87,\n",
       " 91,\n",
       " 71,\n",
       " 52,\n",
       " 86,\n",
       " 86,\n",
       " 81,\n",
       " 76,\n",
       " 77,\n",
       " 82,\n",
       " 67,\n",
       " 37,\n",
       " 76,\n",
       " 61,\n",
       " 91,\n",
       " 87,\n",
       " 77,\n",
       " 87,\n",
       " 72,\n",
       " 77,\n",
       " 47,\n",
       " 57,\n",
       " 82,\n",
       " 72,\n",
       " 67,\n",
       " 62,\n",
       " 4,\n",
       " 87,\n",
       " 57,\n",
       " 52,\n",
       " 62,\n",
       " 82,\n",
       " 86,\n",
       " 72,\n",
       " 77,\n",
       " 96,\n",
       " 72,\n",
       " 96,\n",
       " 101,\n",
       " 86,\n",
       " 62,\n",
       " 72,\n",
       " 82,\n",
       " 91,\n",
       " 47,\n",
       " 81,\n",
       " 77,\n",
       " 72,\n",
       " 62,\n",
       " 37,\n",
       " 57,\n",
       " 71,\n",
       " 91,\n",
       " 86,\n",
       " 42,\n",
       " 52,\n",
       " 77,\n",
       " 91,\n",
       " 82,\n",
       " 82,\n",
       " 9,\n",
       " 87,\n",
       " 57,\n",
       " 91,\n",
       " 82,\n",
       " 77,\n",
       " 91,\n",
       " 101,\n",
       " 96,\n",
       " 67,\n",
       " 7,\n",
       " 57,\n",
       " 26,\n",
       " 76,\n",
       " 61,\n",
       " ...]"
      ]
     },
     "execution_count": 268,
     "metadata": {},
     "output_type": "execute_result"
    }
   ],
   "source": [
    "atPredictions"
   ]
  },
  {
   "cell_type": "markdown",
   "metadata": {},
   "source": [
    "#### ACCURACY"
   ]
  },
  {
   "cell_type": "code",
   "execution_count": 269,
   "metadata": {
    "scrolled": true
   },
   "outputs": [
    {
     "data": {
      "text/plain": [
       "'20.83 %'"
      ]
     },
     "execution_count": 269,
     "metadata": {},
     "output_type": "execute_result"
    }
   ],
   "source": [
    "f\"{round(accuracy_score(y_test, atPredictions) * 100, 2) } %\""
   ]
  },
  {
   "cell_type": "markdown",
   "metadata": {},
   "source": [
    "### Clustering"
   ]
  },
  {
   "cell_type": "code",
   "execution_count": 270,
   "metadata": {},
   "outputs": [],
   "source": [
    "from sklearn.cluster import KMeans"
   ]
  },
  {
   "cell_type": "code",
   "execution_count": 271,
   "metadata": {},
   "outputs": [
    {
     "data": {
      "text/plain": [
       "array([ 1,  3,  5,  4,  7, 68,  2, 38,  6, 28, 48, 18, 78, 58])"
      ]
     },
     "execution_count": 271,
     "metadata": {},
     "output_type": "execute_result"
    }
   ],
   "source": [
    "df[\"Race\"].unique()"
   ]
  },
  {
   "cell_type": "code",
   "execution_count": 272,
   "metadata": {},
   "outputs": [
    {
     "data": {
      "text/plain": [
       "1     413695\n",
       "2      48652\n",
       "4       7723\n",
       "7       7208\n",
       "3       6126\n",
       "68      3979\n",
       "5       3519\n",
       "48      2939\n",
       "28      2548\n",
       "18      2016\n",
       "78       748\n",
       "38       323\n",
       "6        182\n",
       "58       170\n",
       "Name: Race, dtype: int64"
      ]
     },
     "execution_count": 272,
     "metadata": {},
     "output_type": "execute_result"
    }
   ],
   "source": [
    "df[\"Race\"].value_counts()"
   ]
  },
  {
   "cell_type": "code",
   "execution_count": 273,
   "metadata": {},
   "outputs": [],
   "source": [
    "X = df.apply(mapFeature)"
   ]
  },
  {
   "cell_type": "code",
   "execution_count": 274,
   "metadata": {},
   "outputs": [],
   "source": [
    "predictor = KMeans(n_clusters=4, random_state=0).fit(X)"
   ]
  },
  {
   "cell_type": "code",
   "execution_count": 275,
   "metadata": {},
   "outputs": [],
   "source": [
    "y_means = predictor.predict(X)"
   ]
  },
  {
   "cell_type": "code",
   "execution_count": 276,
   "metadata": {},
   "outputs": [],
   "source": [
    "centers = predictor.cluster_centers_"
   ]
  },
  {
   "cell_type": "code",
   "execution_count": 277,
   "metadata": {},
   "outputs": [
    {
     "data": {
      "text/plain": [
       "Index(['Resident_Status', 'Month_Of_Death', 'Sex', 'Age_Key', 'Age_Value',\n",
       "       'Age_Recode_52', 'Age_Recode_27', 'Age_Recode_12', 'Place_Of_Death',\n",
       "       'Marital_Status', 'DOW_of_Death', 'Data_Year', 'Injured_At_Work',\n",
       "       'Manner_Of_Death', 'Method_Of_Disposition', 'Autopsy', 'ICD10',\n",
       "       'Cause_Recode_358', 'Cause_Recode_113', 'Cause_Recode_39',\n",
       "       'Entity_Axis_Conditions', 'EAC1', 'EAC2', 'EAC3', 'EAC4',\n",
       "       'Record_Axis_Conditions', 'RA1', 'RA2', 'RA3', 'RA4', 'Race',\n",
       "       'Race_Recode_3', 'Race_Recode_5', 'Hispanic_Origin',\n",
       "       'Hispanic_Origin_Recode'],\n",
       "      dtype='object')"
      ]
     },
     "execution_count": 277,
     "metadata": {},
     "output_type": "execute_result"
    }
   ],
   "source": [
    "X.columns"
   ]
  },
  {
   "cell_type": "code",
   "execution_count": 278,
   "metadata": {},
   "outputs": [
    {
     "data": {
      "image/png": "[encoded data removed]",
      "text/plain": [
       "<Figure size 1000x600 with 1 Axes>"
      ]
     },
     "metadata": {},
     "output_type": "display_data"
    }
   ],
   "source": [
    "plt.scatter(X.loc[:, \"Age_Value\"], X.loc[:, \"Age_Key\"], c=y_means, s=50, cmap='viridis')\n",
    "plt.scatter(centers[:, 4], centers[:, 3], c='black', s=200, alpha=0.5);"
   ]
  },
  {
   "cell_type": "code",
   "execution_count": 279,
   "metadata": {},
   "outputs": [
    {
     "data": {
      "text/plain": [
       "Resident_Status             0.0\n",
       "Month_Of_Death              7.0\n",
       "Age_Key                     0.0\n",
       "Age_Value                  24.0\n",
       "Age_Recode_52               5.0\n",
       "Age_Recode_27               5.0\n",
       "Age_Recode_12               3.0\n",
       "Place_Of_Death              4.0\n",
       "DOW_of_Death                4.0\n",
       "Data_Year                   0.0\n",
       "Manner_Of_Death             0.0\n",
       "Cause_Recode_358          107.0\n",
       "Cause_Recode_113           43.0\n",
       "Cause_Recode_39            20.0\n",
       "Entity_Axis_Conditions      2.0\n",
       "Record_Axis_Conditions      2.0\n",
       "Race                        0.0\n",
       "Race_Recode_3               0.0\n",
       "Race_Recode_5               0.0\n",
       "Hispanic_Origin             0.0\n",
       "Hispanic_Origin_Recode      0.0\n",
       "dtype: float64"
      ]
     },
     "execution_count": 279,
     "metadata": {},
     "output_type": "execute_result"
    }
   ],
   "source": [
    "Q1 = df.quantile(0.25)\n",
    "Q3 = df.quantile(0.75)\n",
    "\n",
    "IQR = Q3-Q1\n",
    "\n",
    "IQR\n",
    "\n",
    "# print(df < (Q1 - 1.5 * IQR)) |(df > (Q3 + 1.5 * IQR))"
   ]
  },
  {
   "cell_type": "markdown",
   "metadata": {},
   "source": [
    "### Race Prediction (2017)"
   ]
  },
  {
   "cell_type": "code",
   "execution_count": 280,
   "metadata": {},
   "outputs": [],
   "source": [
    "features = df.loc[:,\"RA1\":\"Race\"].apply(mapFeature)"
   ]
  },
  {
   "cell_type": "code",
   "execution_count": 281,
   "metadata": {},
   "outputs": [
    {
     "data": {
      "text/html": [
       "<div>\n",
       "<style scoped>\n",
       "    .dataframe tbody tr th:only-of-type {\n",
       "        vertical-align: middle;\n",
       "    }\n",
       "\n",
       "    .dataframe tbody tr th {\n",
       "        vertical-align: top;\n",
       "    }\n",
       "\n",
       "    .dataframe thead th {\n",
       "        text-align: right;\n",
       "    }\n",
       "</style>\n",
       "<table border=\"1\" class=\"dataframe\">\n",
       "  <thead>\n",
       "    <tr style=\"text-align: right;\">\n",
       "      <th></th>\n",
       "      <th>RA1</th>\n",
       "      <th>RA2</th>\n",
       "      <th>RA3</th>\n",
       "      <th>RA4</th>\n",
       "      <th>Race</th>\n",
       "    </tr>\n",
       "  </thead>\n",
       "  <tbody>\n",
       "    <tr>\n",
       "      <th>0</th>\n",
       "      <td>0</td>\n",
       "      <td>0</td>\n",
       "      <td>0</td>\n",
       "      <td>0</td>\n",
       "      <td>1</td>\n",
       "    </tr>\n",
       "    <tr>\n",
       "      <th>1</th>\n",
       "      <td>1</td>\n",
       "      <td>1</td>\n",
       "      <td>0</td>\n",
       "      <td>0</td>\n",
       "      <td>1</td>\n",
       "    </tr>\n",
       "    <tr>\n",
       "      <th>2</th>\n",
       "      <td>2</td>\n",
       "      <td>2</td>\n",
       "      <td>0</td>\n",
       "      <td>0</td>\n",
       "      <td>1</td>\n",
       "    </tr>\n",
       "    <tr>\n",
       "      <th>3</th>\n",
       "      <td>3</td>\n",
       "      <td>0</td>\n",
       "      <td>0</td>\n",
       "      <td>0</td>\n",
       "      <td>3</td>\n",
       "    </tr>\n",
       "    <tr>\n",
       "      <th>4</th>\n",
       "      <td>4</td>\n",
       "      <td>3</td>\n",
       "      <td>1</td>\n",
       "      <td>0</td>\n",
       "      <td>1</td>\n",
       "    </tr>\n",
       "    <tr>\n",
       "      <th>...</th>\n",
       "      <td>...</td>\n",
       "      <td>...</td>\n",
       "      <td>...</td>\n",
       "      <td>...</td>\n",
       "      <td>...</td>\n",
       "    </tr>\n",
       "    <tr>\n",
       "      <th>499995</th>\n",
       "      <td>9</td>\n",
       "      <td>44</td>\n",
       "      <td>0</td>\n",
       "      <td>0</td>\n",
       "      <td>1</td>\n",
       "    </tr>\n",
       "    <tr>\n",
       "      <th>499996</th>\n",
       "      <td>145</td>\n",
       "      <td>22</td>\n",
       "      <td>0</td>\n",
       "      <td>0</td>\n",
       "      <td>1</td>\n",
       "    </tr>\n",
       "    <tr>\n",
       "      <th>499997</th>\n",
       "      <td>73</td>\n",
       "      <td>0</td>\n",
       "      <td>0</td>\n",
       "      <td>0</td>\n",
       "      <td>2</td>\n",
       "    </tr>\n",
       "    <tr>\n",
       "      <th>499998</th>\n",
       "      <td>368</td>\n",
       "      <td>0</td>\n",
       "      <td>0</td>\n",
       "      <td>0</td>\n",
       "      <td>1</td>\n",
       "    </tr>\n",
       "    <tr>\n",
       "      <th>499999</th>\n",
       "      <td>27</td>\n",
       "      <td>0</td>\n",
       "      <td>0</td>\n",
       "      <td>0</td>\n",
       "      <td>1</td>\n",
       "    </tr>\n",
       "  </tbody>\n",
       "</table>\n",
       "<p>499828 rows × 5 columns</p>\n",
       "</div>"
      ],
      "text/plain": [
       "        RA1  RA2  RA3  RA4  Race\n",
       "0         0    0    0    0     1\n",
       "1         1    1    0    0     1\n",
       "2         2    2    0    0     1\n",
       "3         3    0    0    0     3\n",
       "4         4    3    1    0     1\n",
       "...     ...  ...  ...  ...   ...\n",
       "499995    9   44    0    0     1\n",
       "499996  145   22    0    0     1\n",
       "499997   73    0    0    0     2\n",
       "499998  368    0    0    0     1\n",
       "499999   27    0    0    0     1\n",
       "\n",
       "[499828 rows x 5 columns]"
      ]
     },
     "execution_count": 281,
     "metadata": {},
     "output_type": "execute_result"
    }
   ],
   "source": [
    "features"
   ]
  },
  {
   "cell_type": "code",
   "execution_count": 282,
   "metadata": {},
   "outputs": [],
   "source": [
    "target = features[\"Race\"]"
   ]
  },
  {
   "cell_type": "code",
   "execution_count": 283,
   "metadata": {},
   "outputs": [],
   "source": [
    "features = features.drop(columns=[\"Race\"])"
   ]
  },
  {
   "cell_type": "code",
   "execution_count": 284,
   "metadata": {},
   "outputs": [],
   "source": [
    "X_train, X_test, y_train, y_test = train_test_split(features, target, test_size=0.2, random_state=42)"
   ]
  },
  {
   "cell_type": "code",
   "execution_count": 285,
   "metadata": {},
   "outputs": [],
   "source": [
    "clf = RandomForestClassifier(max_depth=14, n_estimators=20, random_state=42)\n",
    "racePredictor = clf.fit(X_train, y_train)\n",
    "racePrediction = racePredictor.predict(X_test)"
   ]
  },
  {
   "cell_type": "code",
   "execution_count": 286,
   "metadata": {},
   "outputs": [
    {
     "data": {
      "text/plain": [
       "'82.44 %'"
      ]
     },
     "execution_count": 286,
     "metadata": {},
     "output_type": "execute_result"
    }
   ],
   "source": [
    "f\"{round(accuracy_score(y_test, racePrediction) * 100, 2)} %\""
   ]
  },
  {
   "cell_type": "markdown",
   "metadata": {},
   "source": [
    "### Person Race Prediction (2007)"
   ]
  },
  {
   "cell_type": "code",
   "execution_count": 287,
   "metadata": {},
   "outputs": [],
   "source": [
    "oldFeatures = odf.loc[:,\"RA1\":\"Race\"].apply(mapFeature)"
   ]
  },
  {
   "cell_type": "code",
   "execution_count": 288,
   "metadata": {
    "scrolled": false
   },
   "outputs": [
    {
     "data": {
      "text/html": [
       "<div>\n",
       "<style scoped>\n",
       "    .dataframe tbody tr th:only-of-type {\n",
       "        vertical-align: middle;\n",
       "    }\n",
       "\n",
       "    .dataframe tbody tr th {\n",
       "        vertical-align: top;\n",
       "    }\n",
       "\n",
       "    .dataframe thead th {\n",
       "        text-align: right;\n",
       "    }\n",
       "</style>\n",
       "<table border=\"1\" class=\"dataframe\">\n",
       "  <thead>\n",
       "    <tr style=\"text-align: right;\">\n",
       "      <th></th>\n",
       "      <th>RA1</th>\n",
       "      <th>RA2</th>\n",
       "      <th>RA3</th>\n",
       "      <th>RA5</th>\n",
       "      <th>RA6</th>\n",
       "      <th>RA7</th>\n",
       "      <th>RA8</th>\n",
       "      <th>RA9</th>\n",
       "      <th>RA10</th>\n",
       "      <th>RA11</th>\n",
       "      <th>RA12</th>\n",
       "      <th>RA13</th>\n",
       "      <th>RA14</th>\n",
       "      <th>RA15</th>\n",
       "      <th>RA16</th>\n",
       "      <th>RA17</th>\n",
       "      <th>RA18</th>\n",
       "      <th>RA19</th>\n",
       "      <th>RA20</th>\n",
       "      <th>Race</th>\n",
       "    </tr>\n",
       "  </thead>\n",
       "  <tbody>\n",
       "    <tr>\n",
       "      <th>0</th>\n",
       "      <td>0</td>\n",
       "      <td>0</td>\n",
       "      <td>0</td>\n",
       "      <td>0</td>\n",
       "      <td>0</td>\n",
       "      <td>0</td>\n",
       "      <td>0</td>\n",
       "      <td>0</td>\n",
       "      <td>0</td>\n",
       "      <td>0</td>\n",
       "      <td>0</td>\n",
       "      <td>0</td>\n",
       "      <td>0</td>\n",
       "      <td>0</td>\n",
       "      <td>0</td>\n",
       "      <td>0</td>\n",
       "      <td>0</td>\n",
       "      <td>0</td>\n",
       "      <td>0</td>\n",
       "      <td>1</td>\n",
       "    </tr>\n",
       "    <tr>\n",
       "      <th>1</th>\n",
       "      <td>1</td>\n",
       "      <td>1</td>\n",
       "      <td>0</td>\n",
       "      <td>0</td>\n",
       "      <td>0</td>\n",
       "      <td>0</td>\n",
       "      <td>0</td>\n",
       "      <td>0</td>\n",
       "      <td>0</td>\n",
       "      <td>0</td>\n",
       "      <td>0</td>\n",
       "      <td>0</td>\n",
       "      <td>0</td>\n",
       "      <td>0</td>\n",
       "      <td>0</td>\n",
       "      <td>0</td>\n",
       "      <td>0</td>\n",
       "      <td>0</td>\n",
       "      <td>0</td>\n",
       "      <td>1</td>\n",
       "    </tr>\n",
       "    <tr>\n",
       "      <th>2</th>\n",
       "      <td>2</td>\n",
       "      <td>0</td>\n",
       "      <td>0</td>\n",
       "      <td>0</td>\n",
       "      <td>0</td>\n",
       "      <td>0</td>\n",
       "      <td>0</td>\n",
       "      <td>0</td>\n",
       "      <td>0</td>\n",
       "      <td>0</td>\n",
       "      <td>0</td>\n",
       "      <td>0</td>\n",
       "      <td>0</td>\n",
       "      <td>0</td>\n",
       "      <td>0</td>\n",
       "      <td>0</td>\n",
       "      <td>0</td>\n",
       "      <td>0</td>\n",
       "      <td>0</td>\n",
       "      <td>1</td>\n",
       "    </tr>\n",
       "    <tr>\n",
       "      <th>3</th>\n",
       "      <td>3</td>\n",
       "      <td>2</td>\n",
       "      <td>0</td>\n",
       "      <td>0</td>\n",
       "      <td>0</td>\n",
       "      <td>0</td>\n",
       "      <td>0</td>\n",
       "      <td>0</td>\n",
       "      <td>0</td>\n",
       "      <td>0</td>\n",
       "      <td>0</td>\n",
       "      <td>0</td>\n",
       "      <td>0</td>\n",
       "      <td>0</td>\n",
       "      <td>0</td>\n",
       "      <td>0</td>\n",
       "      <td>0</td>\n",
       "      <td>0</td>\n",
       "      <td>0</td>\n",
       "      <td>1</td>\n",
       "    </tr>\n",
       "    <tr>\n",
       "      <th>4</th>\n",
       "      <td>4</td>\n",
       "      <td>0</td>\n",
       "      <td>0</td>\n",
       "      <td>0</td>\n",
       "      <td>0</td>\n",
       "      <td>0</td>\n",
       "      <td>0</td>\n",
       "      <td>0</td>\n",
       "      <td>0</td>\n",
       "      <td>0</td>\n",
       "      <td>0</td>\n",
       "      <td>0</td>\n",
       "      <td>0</td>\n",
       "      <td>0</td>\n",
       "      <td>0</td>\n",
       "      <td>0</td>\n",
       "      <td>0</td>\n",
       "      <td>0</td>\n",
       "      <td>0</td>\n",
       "      <td>2</td>\n",
       "    </tr>\n",
       "    <tr>\n",
       "      <th>...</th>\n",
       "      <td>...</td>\n",
       "      <td>...</td>\n",
       "      <td>...</td>\n",
       "      <td>...</td>\n",
       "      <td>...</td>\n",
       "      <td>...</td>\n",
       "      <td>...</td>\n",
       "      <td>...</td>\n",
       "      <td>...</td>\n",
       "      <td>...</td>\n",
       "      <td>...</td>\n",
       "      <td>...</td>\n",
       "      <td>...</td>\n",
       "      <td>...</td>\n",
       "      <td>...</td>\n",
       "      <td>...</td>\n",
       "      <td>...</td>\n",
       "      <td>...</td>\n",
       "      <td>...</td>\n",
       "      <td>...</td>\n",
       "    </tr>\n",
       "    <tr>\n",
       "      <th>99995</th>\n",
       "      <td>436</td>\n",
       "      <td>0</td>\n",
       "      <td>0</td>\n",
       "      <td>0</td>\n",
       "      <td>0</td>\n",
       "      <td>0</td>\n",
       "      <td>0</td>\n",
       "      <td>0</td>\n",
       "      <td>0</td>\n",
       "      <td>0</td>\n",
       "      <td>0</td>\n",
       "      <td>0</td>\n",
       "      <td>0</td>\n",
       "      <td>0</td>\n",
       "      <td>0</td>\n",
       "      <td>0</td>\n",
       "      <td>0</td>\n",
       "      <td>0</td>\n",
       "      <td>0</td>\n",
       "      <td>1</td>\n",
       "    </tr>\n",
       "    <tr>\n",
       "      <th>99996</th>\n",
       "      <td>310</td>\n",
       "      <td>276</td>\n",
       "      <td>187</td>\n",
       "      <td>11</td>\n",
       "      <td>0</td>\n",
       "      <td>0</td>\n",
       "      <td>0</td>\n",
       "      <td>0</td>\n",
       "      <td>0</td>\n",
       "      <td>0</td>\n",
       "      <td>0</td>\n",
       "      <td>0</td>\n",
       "      <td>0</td>\n",
       "      <td>0</td>\n",
       "      <td>0</td>\n",
       "      <td>0</td>\n",
       "      <td>0</td>\n",
       "      <td>0</td>\n",
       "      <td>0</td>\n",
       "      <td>2</td>\n",
       "    </tr>\n",
       "    <tr>\n",
       "      <th>99997</th>\n",
       "      <td>24</td>\n",
       "      <td>2</td>\n",
       "      <td>74</td>\n",
       "      <td>0</td>\n",
       "      <td>0</td>\n",
       "      <td>0</td>\n",
       "      <td>0</td>\n",
       "      <td>0</td>\n",
       "      <td>0</td>\n",
       "      <td>0</td>\n",
       "      <td>0</td>\n",
       "      <td>0</td>\n",
       "      <td>0</td>\n",
       "      <td>0</td>\n",
       "      <td>0</td>\n",
       "      <td>0</td>\n",
       "      <td>0</td>\n",
       "      <td>0</td>\n",
       "      <td>0</td>\n",
       "      <td>1</td>\n",
       "    </tr>\n",
       "    <tr>\n",
       "      <th>99998</th>\n",
       "      <td>39</td>\n",
       "      <td>28</td>\n",
       "      <td>0</td>\n",
       "      <td>0</td>\n",
       "      <td>0</td>\n",
       "      <td>0</td>\n",
       "      <td>0</td>\n",
       "      <td>0</td>\n",
       "      <td>0</td>\n",
       "      <td>0</td>\n",
       "      <td>0</td>\n",
       "      <td>0</td>\n",
       "      <td>0</td>\n",
       "      <td>0</td>\n",
       "      <td>0</td>\n",
       "      <td>0</td>\n",
       "      <td>0</td>\n",
       "      <td>0</td>\n",
       "      <td>0</td>\n",
       "      <td>1</td>\n",
       "    </tr>\n",
       "    <tr>\n",
       "      <th>99999</th>\n",
       "      <td>17</td>\n",
       "      <td>0</td>\n",
       "      <td>0</td>\n",
       "      <td>0</td>\n",
       "      <td>0</td>\n",
       "      <td>0</td>\n",
       "      <td>0</td>\n",
       "      <td>0</td>\n",
       "      <td>0</td>\n",
       "      <td>0</td>\n",
       "      <td>0</td>\n",
       "      <td>0</td>\n",
       "      <td>0</td>\n",
       "      <td>0</td>\n",
       "      <td>0</td>\n",
       "      <td>0</td>\n",
       "      <td>0</td>\n",
       "      <td>0</td>\n",
       "      <td>0</td>\n",
       "      <td>1</td>\n",
       "    </tr>\n",
       "  </tbody>\n",
       "</table>\n",
       "<p>100000 rows × 20 columns</p>\n",
       "</div>"
      ],
      "text/plain": [
       "       RA1  RA2  RA3  RA5  RA6  RA7  RA8  RA9  RA10  RA11  RA12  RA13  RA14  \\\n",
       "0        0    0    0    0    0    0    0    0     0     0     0     0     0   \n",
       "1        1    1    0    0    0    0    0    0     0     0     0     0     0   \n",
       "2        2    0    0    0    0    0    0    0     0     0     0     0     0   \n",
       "3        3    2    0    0    0    0    0    0     0     0     0     0     0   \n",
       "4        4    0    0    0    0    0    0    0     0     0     0     0     0   \n",
       "...    ...  ...  ...  ...  ...  ...  ...  ...   ...   ...   ...   ...   ...   \n",
       "99995  436    0    0    0    0    0    0    0     0     0     0     0     0   \n",
       "99996  310  276  187   11    0    0    0    0     0     0     0     0     0   \n",
       "99997   24    2   74    0    0    0    0    0     0     0     0     0     0   \n",
       "99998   39   28    0    0    0    0    0    0     0     0     0     0     0   \n",
       "99999   17    0    0    0    0    0    0    0     0     0     0     0     0   \n",
       "\n",
       "       RA15  RA16  RA17  RA18  RA19  RA20  Race  \n",
       "0         0     0     0     0     0     0     1  \n",
       "1         0     0     0     0     0     0     1  \n",
       "2         0     0     0     0     0     0     1  \n",
       "3         0     0     0     0     0     0     1  \n",
       "4         0     0     0     0     0     0     2  \n",
       "...     ...   ...   ...   ...   ...   ...   ...  \n",
       "99995     0     0     0     0     0     0     1  \n",
       "99996     0     0     0     0     0     0     2  \n",
       "99997     0     0     0     0     0     0     1  \n",
       "99998     0     0     0     0     0     0     1  \n",
       "99999     0     0     0     0     0     0     1  \n",
       "\n",
       "[100000 rows x 20 columns]"
      ]
     },
     "execution_count": 288,
     "metadata": {},
     "output_type": "execute_result"
    }
   ],
   "source": [
    "oldFeatures"
   ]
  },
  {
   "cell_type": "code",
   "execution_count": 289,
   "metadata": {},
   "outputs": [],
   "source": [
    "oldTar = oldFeatures[\"Race\"]"
   ]
  },
  {
   "cell_type": "code",
   "execution_count": 290,
   "metadata": {},
   "outputs": [],
   "source": [
    "oldFeatures = oldFeatures.drop(columns=[\"Race\"])"
   ]
  },
  {
   "cell_type": "code",
   "execution_count": 291,
   "metadata": {},
   "outputs": [],
   "source": [
    "X_train, X_test, y_train, y_test = train_test_split(oldFeatures, oldTar, test_size=0.2, random_state=42)"
   ]
  },
  {
   "cell_type": "code",
   "execution_count": 292,
   "metadata": {},
   "outputs": [],
   "source": [
    "clf = RandomForestClassifier(max_depth=14, n_estimators=20, random_state=42)\n",
    "racePredictor = clf.fit(X_train, y_train)\n",
    "racePrediction = racePredictor.predict(X_test)"
   ]
  },
  {
   "cell_type": "markdown",
   "metadata": {},
   "source": [
    "### ACCURACY"
   ]
  },
  {
   "cell_type": "code",
   "execution_count": 293,
   "metadata": {},
   "outputs": [
    {
     "data": {
      "text/plain": [
       "'84.16 %'"
      ]
     },
     "execution_count": 293,
     "metadata": {},
     "output_type": "execute_result"
    }
   ],
   "source": [
    "f\"{accuracy_score(y_test, racePrediction) * 100} %\""
   ]
  },
  {
   "cell_type": "code",
   "execution_count": 294,
   "metadata": {},
   "outputs": [
    {
     "data": {
      "text/plain": [
       "Resident_Status            int64\n",
       "Month_Of_Death             int64\n",
       "Sex                       object\n",
       "Age_Key                    int64\n",
       "Age_Value                  int64\n",
       "Age_Recode_52              int64\n",
       "Age_Recode_27              int64\n",
       "Age_Recode_12              int64\n",
       "Place_Of_Death             int64\n",
       "Marital_Status            object\n",
       "DOW_of_Death               int64\n",
       "Data_Year                  int64\n",
       "Injured_At_Work           object\n",
       "Manner_Of_Death            int64\n",
       "Method_Of_Disposition     object\n",
       "Autopsy                   object\n",
       "ICD10                     object\n",
       "Cause_Recode_358           int64\n",
       "Cause_Recode_113           int64\n",
       "Cause_Recode_39            int64\n",
       "Entity_Axis_Conditions     int64\n",
       "EAC1                      object\n",
       "EAC2                      object\n",
       "EAC3                      object\n",
       "EAC4                      object\n",
       "Record_Axis_Conditions     int64\n",
       "RA1                       object\n",
       "RA2                       object\n",
       "RA3                       object\n",
       "RA4                       object\n",
       "Race                       int64\n",
       "Race_Recode_3              int64\n",
       "Race_Recode_5              int64\n",
       "Hispanic_Origin            int64\n",
       "Hispanic_Origin_Recode     int64\n",
       "dtype: object"
      ]
     },
     "execution_count": 294,
     "metadata": {},
     "output_type": "execute_result"
    }
   ],
   "source": [
    "df.dtypes"
   ]
  }
 ],
 "metadata": {
  "kernelspec": {
   "display_name": "Python 3",
   "language": "python",
   "name": "python3"
  },
  "language_info": {
   "codemirror_mode": {
    "name": "ipython",
    "version": 3
   },
   "file_extension": ".py",
   "mimetype": "text/x-python",
   "name": "python",
   "nbconvert_exporter": "python",
   "pygments_lexer": "ipython3",
   "version": "3.6.9"
  }
 },
 "nbformat": 4,
 "nbformat_minor": 2
}
