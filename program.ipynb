{
 "cells": [
  {
   "cell_type": "markdown",
   "metadata": {},
   "source": [
    "# Mortality Dataset Project \n",
    "\n",
    "PROBLEM STATEMENT: Trends/Changes in Mortality\n",
    "\n",
    "\n",
    "**STEPS:**\n",
    "```\n",
    "- Data Loading\n",
    "- Data Cleaning\n",
    "- Descriptive Analysis\n",
    "- EDA\n",
    "```\n",
    "**DATA:**\n",
    "```\n",
    "- Data is taken from CDC.gov\n",
    "```"
   ]
  },
  {
   "cell_type": "code",
   "execution_count": 17,
   "metadata": {},
   "outputs": [],
   "source": [
    "import pandas as pd\n",
    "import numpy as np\n",
    "import re\n",
    "import math\n",
    "\n",
    "import matplotlib.pyplot as plt; plt.rcdefaults()\n",
    "import matplotlib.pyplot as plt"
   ]
  },
  {
   "cell_type": "markdown",
   "metadata": {},
   "source": [
    "## Data Loading"
   ]
  },
  {
   "cell_type": "code",
   "execution_count": 18,
   "metadata": {},
   "outputs": [],
   "source": [
    "df = pd.read_csv(\"VS17MORT.csv\", low_memory=False, nrows=100000) # Mortality dataset's DATAFRAME"
   ]
  },
  {
   "cell_type": "code",
   "execution_count": 19,
   "metadata": {},
   "outputs": [
    {
     "data": {
      "text/html": [
       "<div>\n",
       "<style scoped>\n",
       "    .dataframe tbody tr th:only-of-type {\n",
       "        vertical-align: middle;\n",
       "    }\n",
       "\n",
       "    .dataframe tbody tr th {\n",
       "        vertical-align: top;\n",
       "    }\n",
       "\n",
       "    .dataframe thead th {\n",
       "        text-align: right;\n",
       "    }\n",
       "</style>\n",
       "<table border=\"1\" class=\"dataframe\">\n",
       "  <thead>\n",
       "    <tr style=\"text-align: right;\">\n",
       "      <th></th>\n",
       "      <th>Resident_Status</th>\n",
       "      <th>Education</th>\n",
       "      <th>Month_Of_Death</th>\n",
       "      <th>Sex</th>\n",
       "      <th>Age_Key</th>\n",
       "      <th>Age_Value</th>\n",
       "      <th>Age_Sub_Flag</th>\n",
       "      <th>Age_Recode_52</th>\n",
       "      <th>Age_Recode_27</th>\n",
       "      <th>Age_Recode_12</th>\n",
       "      <th>...</th>\n",
       "      <th>RA18</th>\n",
       "      <th>RA19</th>\n",
       "      <th>RA20</th>\n",
       "      <th>Race</th>\n",
       "      <th>Race_Bridged</th>\n",
       "      <th>Race_Imputation</th>\n",
       "      <th>Race_Recode_3</th>\n",
       "      <th>Race_Recode_5</th>\n",
       "      <th>Hispanic_Origin</th>\n",
       "      <th>Hispanic_Origin_Recode</th>\n",
       "    </tr>\n",
       "  </thead>\n",
       "  <tbody>\n",
       "    <tr>\n",
       "      <td>0</td>\n",
       "      <td>1</td>\n",
       "      <td></td>\n",
       "      <td>101</td>\n",
       "      <td>M</td>\n",
       "      <td>1</td>\n",
       "      <td>71</td>\n",
       "      <td></td>\n",
       "      <td>40</td>\n",
       "      <td>20</td>\n",
       "      <td>9</td>\n",
       "      <td>...</td>\n",
       "      <td></td>\n",
       "      <td></td>\n",
       "      <td></td>\n",
       "      <td>1</td>\n",
       "      <td></td>\n",
       "      <td></td>\n",
       "      <td>1</td>\n",
       "      <td>1</td>\n",
       "      <td>100</td>\n",
       "      <td>6</td>\n",
       "    </tr>\n",
       "    <tr>\n",
       "      <td>1</td>\n",
       "      <td>1</td>\n",
       "      <td></td>\n",
       "      <td>101</td>\n",
       "      <td>M</td>\n",
       "      <td>1</td>\n",
       "      <td>74</td>\n",
       "      <td></td>\n",
       "      <td>40</td>\n",
       "      <td>20</td>\n",
       "      <td>9</td>\n",
       "      <td>...</td>\n",
       "      <td></td>\n",
       "      <td></td>\n",
       "      <td></td>\n",
       "      <td>1</td>\n",
       "      <td></td>\n",
       "      <td></td>\n",
       "      <td>1</td>\n",
       "      <td>1</td>\n",
       "      <td>100</td>\n",
       "      <td>6</td>\n",
       "    </tr>\n",
       "    <tr>\n",
       "      <td>2</td>\n",
       "      <td>1</td>\n",
       "      <td></td>\n",
       "      <td>101</td>\n",
       "      <td>M</td>\n",
       "      <td>1</td>\n",
       "      <td>59</td>\n",
       "      <td></td>\n",
       "      <td>37</td>\n",
       "      <td>17</td>\n",
       "      <td>8</td>\n",
       "      <td>...</td>\n",
       "      <td></td>\n",
       "      <td></td>\n",
       "      <td></td>\n",
       "      <td>1</td>\n",
       "      <td></td>\n",
       "      <td></td>\n",
       "      <td>1</td>\n",
       "      <td>1</td>\n",
       "      <td>100</td>\n",
       "      <td>6</td>\n",
       "    </tr>\n",
       "    <tr>\n",
       "      <td>3</td>\n",
       "      <td>1</td>\n",
       "      <td></td>\n",
       "      <td>101</td>\n",
       "      <td>M</td>\n",
       "      <td>1</td>\n",
       "      <td>90</td>\n",
       "      <td></td>\n",
       "      <td>44</td>\n",
       "      <td>24</td>\n",
       "      <td>11</td>\n",
       "      <td>...</td>\n",
       "      <td></td>\n",
       "      <td></td>\n",
       "      <td></td>\n",
       "      <td>3</td>\n",
       "      <td></td>\n",
       "      <td></td>\n",
       "      <td>2</td>\n",
       "      <td>3</td>\n",
       "      <td>100</td>\n",
       "      <td>8</td>\n",
       "    </tr>\n",
       "    <tr>\n",
       "      <td>4</td>\n",
       "      <td>1</td>\n",
       "      <td></td>\n",
       "      <td>101</td>\n",
       "      <td>M</td>\n",
       "      <td>1</td>\n",
       "      <td>66</td>\n",
       "      <td></td>\n",
       "      <td>39</td>\n",
       "      <td>19</td>\n",
       "      <td>9</td>\n",
       "      <td>...</td>\n",
       "      <td></td>\n",
       "      <td></td>\n",
       "      <td></td>\n",
       "      <td>1</td>\n",
       "      <td></td>\n",
       "      <td></td>\n",
       "      <td>1</td>\n",
       "      <td>1</td>\n",
       "      <td>100</td>\n",
       "      <td>6</td>\n",
       "    </tr>\n",
       "  </tbody>\n",
       "</table>\n",
       "<p>5 rows × 75 columns</p>\n",
       "</div>"
      ],
      "text/plain": [
       "   Resident_Status  Education   Month_Of_Death  Sex   Age_Key   Age_Value  \\\n",
       "0                1                         101    M         1          71   \n",
       "1                1                         101    M         1          74   \n",
       "2                1                         101    M         1          59   \n",
       "3                1                         101    M         1          90   \n",
       "4                1                         101    M         1          66   \n",
       "\n",
       "   Age_Sub_Flag   Age_Recode_52   Age_Recode_27   Age_Recode_12  ...  RA18  \\\n",
       "0                            40              20               9  ...         \n",
       "1                            40              20               9  ...         \n",
       "2                            37              17               8  ...         \n",
       "3                            44              24              11  ...         \n",
       "4                            39              19               9  ...         \n",
       "\n",
       "    RA19  RA20   Race   Race_Bridged  Race_Imputation  Race_Recode_3  \\\n",
       "0                   1                                              1   \n",
       "1                   1                                              1   \n",
       "2                   1                                              1   \n",
       "3                   3                                              2   \n",
       "4                   1                                              1   \n",
       "\n",
       "   Race_Recode_5  Hispanic_Origin  Hispanic_Origin_Recode  \n",
       "0              1              100                       6  \n",
       "1              1              100                       6  \n",
       "2              1              100                       6  \n",
       "3              3              100                       8  \n",
       "4              1              100                       6  \n",
       "\n",
       "[5 rows x 75 columns]"
      ]
     },
     "execution_count": 19,
     "metadata": {},
     "output_type": "execute_result"
    }
   ],
   "source": [
    "df.head(5)"
   ]
  },
  {
   "cell_type": "code",
   "execution_count": 20,
   "metadata": {},
   "outputs": [
    {
     "data": {
      "text/plain": [
       "(100000, 75)"
      ]
     },
     "execution_count": 20,
     "metadata": {},
     "output_type": "execute_result"
    }
   ],
   "source": [
    "df.shape"
   ]
  },
  {
   "cell_type": "code",
   "execution_count": 21,
   "metadata": {
    "scrolled": true
   },
   "outputs": [
    {
     "data": {
      "text/plain": [
       "Index(['Resident_Status', ' Education', ' Month_Of_Death', ' Sex', ' Age_Key',\n",
       "       ' Age_Value', ' Age_Sub_Flag', ' Age_Recode_52', ' Age_Recode_27',\n",
       "       ' Age_Recode_12', ' Infant_Age_Recode_22', ' Place_Of_Death',\n",
       "       ' Marital_Status', ' DOW_of_Death', ' Data_Year', ' Injured_At_Work',\n",
       "       ' Manner_Of_Death', ' Method_Of_Disposition', ' Autopsy',\n",
       "       ' Activity_Code', ' Place_Of_Causal_Injury', '  ICD10',\n",
       "       ' Cause_Recode_358', ' Cause_Recode_113', ' Infant_Cause_Recode_130',\n",
       "       ' Cause_Recode_39', ' Entity_Axis_Conditions', ' EAC1', ' EAC2',\n",
       "       ' EAC3', ' EAC4', ' EAC5', ' EAC6', ' EAC7', ' EAC8', ' EAC9', ' EAC10',\n",
       "       ' EAC11', ' EAC12', ' EAC13', ' EAC14', ' EAC15', ' EAC16', ' EAC17',\n",
       "       ' EAC18', ' EAC19', ' EAC20', ' Record_Axis_Conditions', ' RA1', ' RA2',\n",
       "       ' RA3', ' RA4', ' RA5', ' RA6', ' RA7', ' RA8', ' RA9', ' RA10',\n",
       "       ' RA11', ' RA12', ' RA13', ' RA14', ' RA15', ' RA16', ' RA17', ' RA18',\n",
       "       ' RA19', ' RA20', ' Race', ' Race_Bridged', ' Race_Imputation',\n",
       "       ' Race_Recode_3', ' Race_Recode_5', ' Hispanic_Origin',\n",
       "       ' Hispanic_Origin_Recode'],\n",
       "      dtype='object')"
      ]
     },
     "execution_count": 21,
     "metadata": {},
     "output_type": "execute_result"
    }
   ],
   "source": [
    "df.columns"
   ]
  },
  {
   "cell_type": "code",
   "execution_count": 22,
   "metadata": {
    "scrolled": true
   },
   "outputs": [
    {
     "data": {
      "text/plain": [
       "array([' '], dtype=object)"
      ]
     },
     "execution_count": 22,
     "metadata": {},
     "output_type": "execute_result"
    }
   ],
   "source": [
    "df[\" Education\"].unique()"
   ]
  },
  {
   "cell_type": "markdown",
   "metadata": {},
   "source": [
    "## Data Cleaning"
   ]
  },
  {
   "cell_type": "code",
   "execution_count": 23,
   "metadata": {},
   "outputs": [],
   "source": [
    "def removeSpaces(item):\n",
    "    regex = re.compile(\"\\S+\")\n",
    "    if type(item) == str:\n",
    "        rep = regex.findall(item)\n",
    "        return rep[0] if len(rep) else item\n",
    "    return item\n",
    "\n",
    "def cleanColumns(dataFrame):\n",
    "    return dataFrame.rename(columns=lambda x: removeSpaces(x))"
   ]
  },
  {
   "cell_type": "code",
   "execution_count": 24,
   "metadata": {},
   "outputs": [],
   "source": [
    "df = cleanColumns(df)"
   ]
  },
  {
   "cell_type": "code",
   "execution_count": 25,
   "metadata": {},
   "outputs": [
    {
     "data": {
      "text/plain": [
       "Index(['Resident_Status', 'Education', 'Month_Of_Death', 'Sex', 'Age_Key',\n",
       "       'Age_Value', 'Age_Sub_Flag', 'Age_Recode_52', 'Age_Recode_27',\n",
       "       'Age_Recode_12', 'Infant_Age_Recode_22', 'Place_Of_Death',\n",
       "       'Marital_Status', 'DOW_of_Death', 'Data_Year', 'Injured_At_Work',\n",
       "       'Manner_Of_Death', 'Method_Of_Disposition', 'Autopsy', 'Activity_Code',\n",
       "       'Place_Of_Causal_Injury', 'ICD10', 'Cause_Recode_358',\n",
       "       'Cause_Recode_113', 'Infant_Cause_Recode_130', 'Cause_Recode_39',\n",
       "       'Entity_Axis_Conditions', 'EAC1', 'EAC2', 'EAC3', 'EAC4', 'EAC5',\n",
       "       'EAC6', 'EAC7', 'EAC8', 'EAC9', 'EAC10', 'EAC11', 'EAC12', 'EAC13',\n",
       "       'EAC14', 'EAC15', 'EAC16', 'EAC17', 'EAC18', 'EAC19', 'EAC20',\n",
       "       'Record_Axis_Conditions', 'RA1', 'RA2', 'RA3', 'RA4', 'RA5', 'RA6',\n",
       "       'RA7', 'RA8', 'RA9', 'RA10', 'RA11', 'RA12', 'RA13', 'RA14', 'RA15',\n",
       "       'RA16', 'RA17', 'RA18', 'RA19', 'RA20', 'Race', 'Race_Bridged',\n",
       "       'Race_Imputation', 'Race_Recode_3', 'Race_Recode_5', 'Hispanic_Origin',\n",
       "       'Hispanic_Origin_Recode'],\n",
       "      dtype='object')"
      ]
     },
     "execution_count": 25,
     "metadata": {},
     "output_type": "execute_result"
    }
   ],
   "source": [
    "df.columns"
   ]
  },
  {
   "cell_type": "code",
   "execution_count": 26,
   "metadata": {},
   "outputs": [
    {
     "data": {
      "text/plain": [
       "         99869\n",
       " R688       17\n",
       " N390        5\n",
       " N288        5\n",
       " R579        4\n",
       "         ...  \n",
       " R17         1\n",
       " R31         1\n",
       " T424        1\n",
       " R630        1\n",
       " R739        1\n",
       "Name: RA11, Length: 73, dtype: int64"
      ]
     },
     "execution_count": 26,
     "metadata": {},
     "output_type": "execute_result"
    }
   ],
   "source": [
    "df[\"RA11\"].value_counts()"
   ]
  },
  {
   "cell_type": "code",
   "execution_count": 27,
   "metadata": {},
   "outputs": [],
   "source": [
    "def getInValuableColumns(dataframe):\n",
    "    features = df.columns\n",
    "    drop = []\n",
    "    for col in features:\n",
    "        feature = dataframe[col]\n",
    "        if ' ' in feature.value_counts() and np.sum(feature[feature == ' '].value_counts())/dataframe.shape[0] > 0.7:\n",
    "            drop.append(col)\n",
    "    return drop"
   ]
  },
  {
   "cell_type": "code",
   "execution_count": 28,
   "metadata": {},
   "outputs": [],
   "source": [
    "# df = df.drop(columns=[x for x in df.columns if len(df[x].unique()) <= 1 or df[x].unique()[0] == None])\n",
    "df = df.drop(columns=getInValuableColumns(df))"
   ]
  },
  {
   "cell_type": "code",
   "execution_count": 29,
   "metadata": {},
   "outputs": [],
   "source": [
    "def cleanEmptyStringValues(_df):\n",
    "    return _df.applymap(lambda x: x if str(x) != ' ' else None)"
   ]
  },
  {
   "cell_type": "code",
   "execution_count": 30,
   "metadata": {},
   "outputs": [],
   "source": [
    "df = cleanEmptyStringValues(df)"
   ]
  },
  {
   "cell_type": "code",
   "execution_count": 31,
   "metadata": {},
   "outputs": [],
   "source": [
    "def fixStringValues(_df):\n",
    "    return _df.applymap(lambda x: removeSpaces(x))"
   ]
  },
  {
   "cell_type": "code",
   "execution_count": 32,
   "metadata": {},
   "outputs": [],
   "source": [
    "df = fixStringValues(df)"
   ]
  },
  {
   "cell_type": "code",
   "execution_count": 33,
   "metadata": {},
   "outputs": [],
   "source": [
    "def replaceNAWithMode(_df):\n",
    "    for column in _df.columns:\n",
    "        try:\n",
    "            _mode = _df[column].mode()[0]\n",
    "            _df[column] = _df[column].fillna(_mode)\n",
    "        except:\n",
    "            pass\n",
    "    return _df"
   ]
  },
  {
   "cell_type": "code",
   "execution_count": 34,
   "metadata": {},
   "outputs": [],
   "source": [
    "df = replaceNAWithMode(df)"
   ]
  },
  {
   "cell_type": "code",
   "execution_count": 35,
   "metadata": {
    "scrolled": true
   },
   "outputs": [
    {
     "data": {
      "text/plain": [
       "Index(['Resident_Status', 'Month_Of_Death', 'Sex', 'Age_Key', 'Age_Value',\n",
       "       'Age_Recode_52', 'Age_Recode_27', 'Age_Recode_12', 'Place_Of_Death',\n",
       "       'Marital_Status', 'DOW_of_Death', 'Data_Year', 'Injured_At_Work',\n",
       "       'Manner_Of_Death', 'Method_Of_Disposition', 'Autopsy', 'ICD10',\n",
       "       'Cause_Recode_358', 'Cause_Recode_113', 'Cause_Recode_39',\n",
       "       'Entity_Axis_Conditions', 'EAC1', 'EAC2', 'EAC3',\n",
       "       'Record_Axis_Conditions', 'RA1', 'RA2', 'RA3', 'Race', 'Race_Recode_3',\n",
       "       'Race_Recode_5', 'Hispanic_Origin', 'Hispanic_Origin_Recode'],\n",
       "      dtype='object')"
      ]
     },
     "execution_count": 35,
     "metadata": {},
     "output_type": "execute_result"
    }
   ],
   "source": [
    "df.columns"
   ]
  },
  {
   "cell_type": "code",
   "execution_count": 36,
   "metadata": {},
   "outputs": [
    {
     "data": {
      "text/plain": [
       "33"
      ]
     },
     "execution_count": 36,
     "metadata": {},
     "output_type": "execute_result"
    }
   ],
   "source": [
    "df.columns.size"
   ]
  },
  {
   "cell_type": "code",
   "execution_count": 37,
   "metadata": {},
   "outputs": [],
   "source": [
    "def tryConvertingToNumber(value):\n",
    "    try:\n",
    "        val = int(value)\n",
    "        return val\n",
    "    except:\n",
    "        return value\n",
    "\n",
    "df = df.applymap(tryConvertingToNumber)"
   ]
  },
  {
   "cell_type": "code",
   "execution_count": 38,
   "metadata": {},
   "outputs": [
    {
     "data": {
      "text/plain": [
       "Index(['Resident_Status', 'Month_Of_Death', 'Sex', 'Age_Key', 'Age_Value',\n",
       "       'Age_Recode_52', 'Age_Recode_27', 'Age_Recode_12', 'Place_Of_Death',\n",
       "       'Marital_Status', 'DOW_of_Death', 'Data_Year', 'Injured_At_Work',\n",
       "       'Manner_Of_Death', 'Method_Of_Disposition', 'Autopsy', 'ICD10',\n",
       "       'Cause_Recode_358', 'Cause_Recode_113', 'Cause_Recode_39',\n",
       "       'Entity_Axis_Conditions', 'EAC1', 'EAC2', 'EAC3',\n",
       "       'Record_Axis_Conditions', 'RA1', 'RA2', 'RA3', 'Race', 'Race_Recode_3',\n",
       "       'Race_Recode_5', 'Hispanic_Origin', 'Hispanic_Origin_Recode'],\n",
       "      dtype='object')"
      ]
     },
     "execution_count": 38,
     "metadata": {},
     "output_type": "execute_result"
    }
   ],
   "source": [
    "df.columns"
   ]
  },
  {
   "cell_type": "code",
   "execution_count": 39,
   "metadata": {
    "scrolled": true
   },
   "outputs": [
    {
     "data": {
      "text/html": [
       "<div>\n",
       "<style scoped>\n",
       "    .dataframe tbody tr th:only-of-type {\n",
       "        vertical-align: middle;\n",
       "    }\n",
       "\n",
       "    .dataframe tbody tr th {\n",
       "        vertical-align: top;\n",
       "    }\n",
       "\n",
       "    .dataframe thead th {\n",
       "        text-align: right;\n",
       "    }\n",
       "</style>\n",
       "<table border=\"1\" class=\"dataframe\">\n",
       "  <thead>\n",
       "    <tr style=\"text-align: right;\">\n",
       "      <th></th>\n",
       "      <th>Resident_Status</th>\n",
       "      <th>Month_Of_Death</th>\n",
       "      <th>Sex</th>\n",
       "      <th>Age_Key</th>\n",
       "      <th>Age_Value</th>\n",
       "      <th>Age_Recode_52</th>\n",
       "      <th>Age_Recode_27</th>\n",
       "      <th>Age_Recode_12</th>\n",
       "      <th>Place_Of_Death</th>\n",
       "      <th>Marital_Status</th>\n",
       "      <th>...</th>\n",
       "      <th>EAC3</th>\n",
       "      <th>Record_Axis_Conditions</th>\n",
       "      <th>RA1</th>\n",
       "      <th>RA2</th>\n",
       "      <th>RA3</th>\n",
       "      <th>Race</th>\n",
       "      <th>Race_Recode_3</th>\n",
       "      <th>Race_Recode_5</th>\n",
       "      <th>Hispanic_Origin</th>\n",
       "      <th>Hispanic_Origin_Recode</th>\n",
       "    </tr>\n",
       "  </thead>\n",
       "  <tbody>\n",
       "    <tr>\n",
       "      <td>0</td>\n",
       "      <td>1</td>\n",
       "      <td>101</td>\n",
       "      <td>M</td>\n",
       "      <td>1</td>\n",
       "      <td>71</td>\n",
       "      <td>40</td>\n",
       "      <td>20</td>\n",
       "      <td>9</td>\n",
       "      <td>1</td>\n",
       "      <td>M</td>\n",
       "      <td>...</td>\n",
       "      <td>31I10</td>\n",
       "      <td>1</td>\n",
       "      <td>G20</td>\n",
       "      <td>F179</td>\n",
       "      <td>I469</td>\n",
       "      <td>1</td>\n",
       "      <td>1</td>\n",
       "      <td>1</td>\n",
       "      <td>100</td>\n",
       "      <td>6</td>\n",
       "    </tr>\n",
       "    <tr>\n",
       "      <td>1</td>\n",
       "      <td>1</td>\n",
       "      <td>101</td>\n",
       "      <td>M</td>\n",
       "      <td>1</td>\n",
       "      <td>74</td>\n",
       "      <td>40</td>\n",
       "      <td>20</td>\n",
       "      <td>9</td>\n",
       "      <td>1</td>\n",
       "      <td>D</td>\n",
       "      <td>...</td>\n",
       "      <td>31I10</td>\n",
       "      <td>2</td>\n",
       "      <td>M726</td>\n",
       "      <td>A419</td>\n",
       "      <td>I469</td>\n",
       "      <td>1</td>\n",
       "      <td>1</td>\n",
       "      <td>1</td>\n",
       "      <td>100</td>\n",
       "      <td>6</td>\n",
       "    </tr>\n",
       "    <tr>\n",
       "      <td>2</td>\n",
       "      <td>1</td>\n",
       "      <td>101</td>\n",
       "      <td>M</td>\n",
       "      <td>1</td>\n",
       "      <td>59</td>\n",
       "      <td>37</td>\n",
       "      <td>17</td>\n",
       "      <td>8</td>\n",
       "      <td>4</td>\n",
       "      <td>M</td>\n",
       "      <td>...</td>\n",
       "      <td>31I10</td>\n",
       "      <td>2</td>\n",
       "      <td>C159</td>\n",
       "      <td>F179</td>\n",
       "      <td>I469</td>\n",
       "      <td>1</td>\n",
       "      <td>1</td>\n",
       "      <td>1</td>\n",
       "      <td>100</td>\n",
       "      <td>6</td>\n",
       "    </tr>\n",
       "    <tr>\n",
       "      <td>3</td>\n",
       "      <td>1</td>\n",
       "      <td>101</td>\n",
       "      <td>M</td>\n",
       "      <td>1</td>\n",
       "      <td>90</td>\n",
       "      <td>44</td>\n",
       "      <td>24</td>\n",
       "      <td>11</td>\n",
       "      <td>4</td>\n",
       "      <td>M</td>\n",
       "      <td>...</td>\n",
       "      <td>31I10</td>\n",
       "      <td>1</td>\n",
       "      <td>C61</td>\n",
       "      <td>F179</td>\n",
       "      <td>I469</td>\n",
       "      <td>3</td>\n",
       "      <td>2</td>\n",
       "      <td>3</td>\n",
       "      <td>100</td>\n",
       "      <td>8</td>\n",
       "    </tr>\n",
       "    <tr>\n",
       "      <td>4</td>\n",
       "      <td>1</td>\n",
       "      <td>101</td>\n",
       "      <td>M</td>\n",
       "      <td>1</td>\n",
       "      <td>66</td>\n",
       "      <td>39</td>\n",
       "      <td>19</td>\n",
       "      <td>9</td>\n",
       "      <td>4</td>\n",
       "      <td>M</td>\n",
       "      <td>...</td>\n",
       "      <td>62F179</td>\n",
       "      <td>3</td>\n",
       "      <td>J449</td>\n",
       "      <td>C900</td>\n",
       "      <td>F179</td>\n",
       "      <td>1</td>\n",
       "      <td>1</td>\n",
       "      <td>1</td>\n",
       "      <td>100</td>\n",
       "      <td>6</td>\n",
       "    </tr>\n",
       "  </tbody>\n",
       "</table>\n",
       "<p>5 rows × 33 columns</p>\n",
       "</div>"
      ],
      "text/plain": [
       "   Resident_Status  Month_Of_Death Sex  Age_Key  Age_Value  Age_Recode_52  \\\n",
       "0                1             101   M        1         71             40   \n",
       "1                1             101   M        1         74             40   \n",
       "2                1             101   M        1         59             37   \n",
       "3                1             101   M        1         90             44   \n",
       "4                1             101   M        1         66             39   \n",
       "\n",
       "   Age_Recode_27  Age_Recode_12  Place_Of_Death Marital_Status  ...    EAC3  \\\n",
       "0             20              9               1              M  ...   31I10   \n",
       "1             20              9               1              D  ...   31I10   \n",
       "2             17              8               4              M  ...   31I10   \n",
       "3             24             11               4              M  ...   31I10   \n",
       "4             19              9               4              M  ...  62F179   \n",
       "\n",
       "   Record_Axis_Conditions   RA1   RA2   RA3 Race Race_Recode_3  Race_Recode_5  \\\n",
       "0                       1   G20  F179  I469    1             1              1   \n",
       "1                       2  M726  A419  I469    1             1              1   \n",
       "2                       2  C159  F179  I469    1             1              1   \n",
       "3                       1   C61  F179  I469    3             2              3   \n",
       "4                       3  J449  C900  F179    1             1              1   \n",
       "\n",
       "   Hispanic_Origin  Hispanic_Origin_Recode  \n",
       "0              100                       6  \n",
       "1              100                       6  \n",
       "2              100                       6  \n",
       "3              100                       8  \n",
       "4              100                       6  \n",
       "\n",
       "[5 rows x 33 columns]"
      ]
     },
     "execution_count": 39,
     "metadata": {},
     "output_type": "execute_result"
    }
   ],
   "source": [
    "df.head()"
   ]
  },
  {
   "cell_type": "code",
   "execution_count": 40,
   "metadata": {},
   "outputs": [
    {
     "data": {
      "text/html": [
       "<div>\n",
       "<style scoped>\n",
       "    .dataframe tbody tr th:only-of-type {\n",
       "        vertical-align: middle;\n",
       "    }\n",
       "\n",
       "    .dataframe tbody tr th {\n",
       "        vertical-align: top;\n",
       "    }\n",
       "\n",
       "    .dataframe thead th {\n",
       "        text-align: right;\n",
       "    }\n",
       "</style>\n",
       "<table border=\"1\" class=\"dataframe\">\n",
       "  <thead>\n",
       "    <tr style=\"text-align: right;\">\n",
       "      <th></th>\n",
       "      <th>Resident_Status</th>\n",
       "      <th>Month_Of_Death</th>\n",
       "      <th>Sex</th>\n",
       "      <th>Age_Key</th>\n",
       "      <th>Age_Value</th>\n",
       "      <th>Age_Recode_52</th>\n",
       "      <th>Age_Recode_27</th>\n",
       "      <th>Age_Recode_12</th>\n",
       "      <th>Place_Of_Death</th>\n",
       "      <th>Marital_Status</th>\n",
       "      <th>...</th>\n",
       "      <th>EAC3</th>\n",
       "      <th>Record_Axis_Conditions</th>\n",
       "      <th>RA1</th>\n",
       "      <th>RA2</th>\n",
       "      <th>RA3</th>\n",
       "      <th>Race</th>\n",
       "      <th>Race_Recode_3</th>\n",
       "      <th>Race_Recode_5</th>\n",
       "      <th>Hispanic_Origin</th>\n",
       "      <th>Hispanic_Origin_Recode</th>\n",
       "    </tr>\n",
       "  </thead>\n",
       "  <tbody>\n",
       "    <tr>\n",
       "      <td>99995</td>\n",
       "      <td>1</td>\n",
       "      <td>103</td>\n",
       "      <td>F</td>\n",
       "      <td>1</td>\n",
       "      <td>97</td>\n",
       "      <td>45</td>\n",
       "      <td>25</td>\n",
       "      <td>11</td>\n",
       "      <td>1</td>\n",
       "      <td>W</td>\n",
       "      <td>...</td>\n",
       "      <td>22J960</td>\n",
       "      <td>5</td>\n",
       "      <td>I350</td>\n",
       "      <td>A419</td>\n",
       "      <td>I499</td>\n",
       "      <td>1</td>\n",
       "      <td>1</td>\n",
       "      <td>1</td>\n",
       "      <td>100</td>\n",
       "      <td>6</td>\n",
       "    </tr>\n",
       "    <tr>\n",
       "      <td>99996</td>\n",
       "      <td>1</td>\n",
       "      <td>103</td>\n",
       "      <td>F</td>\n",
       "      <td>1</td>\n",
       "      <td>76</td>\n",
       "      <td>41</td>\n",
       "      <td>21</td>\n",
       "      <td>10</td>\n",
       "      <td>5</td>\n",
       "      <td>S</td>\n",
       "      <td>...</td>\n",
       "      <td>31I10</td>\n",
       "      <td>2</td>\n",
       "      <td>I251</td>\n",
       "      <td>I500</td>\n",
       "      <td>I469</td>\n",
       "      <td>1</td>\n",
       "      <td>1</td>\n",
       "      <td>1</td>\n",
       "      <td>100</td>\n",
       "      <td>6</td>\n",
       "    </tr>\n",
       "    <tr>\n",
       "      <td>99997</td>\n",
       "      <td>1</td>\n",
       "      <td>103</td>\n",
       "      <td>F</td>\n",
       "      <td>1</td>\n",
       "      <td>90</td>\n",
       "      <td>44</td>\n",
       "      <td>24</td>\n",
       "      <td>11</td>\n",
       "      <td>4</td>\n",
       "      <td>D</td>\n",
       "      <td>...</td>\n",
       "      <td>31I10</td>\n",
       "      <td>2</td>\n",
       "      <td>I251</td>\n",
       "      <td>I500</td>\n",
       "      <td>I469</td>\n",
       "      <td>1</td>\n",
       "      <td>1</td>\n",
       "      <td>1</td>\n",
       "      <td>210</td>\n",
       "      <td>1</td>\n",
       "    </tr>\n",
       "    <tr>\n",
       "      <td>99998</td>\n",
       "      <td>2</td>\n",
       "      <td>102</td>\n",
       "      <td>M</td>\n",
       "      <td>1</td>\n",
       "      <td>55</td>\n",
       "      <td>37</td>\n",
       "      <td>17</td>\n",
       "      <td>8</td>\n",
       "      <td>1</td>\n",
       "      <td>D</td>\n",
       "      <td>...</td>\n",
       "      <td>31I10</td>\n",
       "      <td>1</td>\n",
       "      <td>C349</td>\n",
       "      <td>F179</td>\n",
       "      <td>I469</td>\n",
       "      <td>1</td>\n",
       "      <td>1</td>\n",
       "      <td>1</td>\n",
       "      <td>100</td>\n",
       "      <td>6</td>\n",
       "    </tr>\n",
       "    <tr>\n",
       "      <td>99999</td>\n",
       "      <td>1</td>\n",
       "      <td>103</td>\n",
       "      <td>M</td>\n",
       "      <td>1</td>\n",
       "      <td>71</td>\n",
       "      <td>40</td>\n",
       "      <td>20</td>\n",
       "      <td>9</td>\n",
       "      <td>4</td>\n",
       "      <td>D</td>\n",
       "      <td>...</td>\n",
       "      <td>31I10</td>\n",
       "      <td>1</td>\n",
       "      <td>E142</td>\n",
       "      <td>F179</td>\n",
       "      <td>I469</td>\n",
       "      <td>1</td>\n",
       "      <td>1</td>\n",
       "      <td>1</td>\n",
       "      <td>210</td>\n",
       "      <td>1</td>\n",
       "    </tr>\n",
       "  </tbody>\n",
       "</table>\n",
       "<p>5 rows × 33 columns</p>\n",
       "</div>"
      ],
      "text/plain": [
       "       Resident_Status  Month_Of_Death Sex  Age_Key  Age_Value  Age_Recode_52  \\\n",
       "99995                1             103   F        1         97             45   \n",
       "99996                1             103   F        1         76             41   \n",
       "99997                1             103   F        1         90             44   \n",
       "99998                2             102   M        1         55             37   \n",
       "99999                1             103   M        1         71             40   \n",
       "\n",
       "       Age_Recode_27  Age_Recode_12  Place_Of_Death Marital_Status  ...  \\\n",
       "99995             25             11               1              W  ...   \n",
       "99996             21             10               5              S  ...   \n",
       "99997             24             11               4              D  ...   \n",
       "99998             17              8               1              D  ...   \n",
       "99999             20              9               4              D  ...   \n",
       "\n",
       "         EAC3  Record_Axis_Conditions   RA1   RA2   RA3 Race Race_Recode_3  \\\n",
       "99995  22J960                       5  I350  A419  I499    1             1   \n",
       "99996   31I10                       2  I251  I500  I469    1             1   \n",
       "99997   31I10                       2  I251  I500  I469    1             1   \n",
       "99998   31I10                       1  C349  F179  I469    1             1   \n",
       "99999   31I10                       1  E142  F179  I469    1             1   \n",
       "\n",
       "       Race_Recode_5  Hispanic_Origin  Hispanic_Origin_Recode  \n",
       "99995              1              100                       6  \n",
       "99996              1              100                       6  \n",
       "99997              1              210                       1  \n",
       "99998              1              100                       6  \n",
       "99999              1              210                       1  \n",
       "\n",
       "[5 rows x 33 columns]"
      ]
     },
     "execution_count": 40,
     "metadata": {},
     "output_type": "execute_result"
    }
   ],
   "source": [
    "df.tail()"
   ]
  },
  {
   "cell_type": "markdown",
   "metadata": {},
   "source": [
    "### Actual usable columns for the dataset(s):"
   ]
  },
  {
   "cell_type": "code",
   "execution_count": 41,
   "metadata": {},
   "outputs": [
    {
     "data": {
      "text/plain": [
       "'Usable Columns: 33'"
      ]
     },
     "execution_count": 41,
     "metadata": {},
     "output_type": "execute_result"
    }
   ],
   "source": [
    "f\"Usable Columns: {df.shape[1]}\""
   ]
  },
  {
   "cell_type": "markdown",
   "metadata": {},
   "source": [
    "## Descriptive Statistics"
   ]
  },
  {
   "cell_type": "code",
   "execution_count": 42,
   "metadata": {
    "scrolled": true
   },
   "outputs": [
    {
     "name": "stdout",
     "output_type": "stream",
     "text": [
      "count    100000.000000\n",
      "mean          1.242160\n",
      "std           0.501279\n",
      "min           1.000000\n",
      "25%           1.000000\n",
      "50%           1.000000\n",
      "75%           1.000000\n",
      "max           4.000000\n",
      "Name: Resident_Status, dtype: float64\n",
      "count    100000.000000\n",
      "mean        105.943550\n",
      "std           3.655122\n",
      "min         101.000000\n",
      "25%         103.000000\n",
      "50%         106.000000\n",
      "75%         109.000000\n",
      "max         112.000000\n",
      "Name: Month_Of_Death, dtype: float64\n",
      "count    100000.000000\n",
      "mean          1.021740\n",
      "std           0.272228\n",
      "min           1.000000\n",
      "25%           1.000000\n",
      "50%           1.000000\n",
      "75%           1.000000\n",
      "max           9.000000\n",
      "Name: Age_Key, dtype: float64\n",
      "count    100000.000000\n",
      "mean         71.433610\n",
      "std          18.939738\n",
      "min           1.000000\n",
      "25%          62.000000\n",
      "50%          74.000000\n",
      "75%          85.000000\n",
      "max         999.000000\n",
      "Name: Age_Value, dtype: float64\n",
      "count    100000.000000\n",
      "mean         39.719780\n",
      "std           4.496265\n",
      "min           1.000000\n",
      "25%          38.000000\n",
      "50%          40.000000\n",
      "75%          43.000000\n",
      "max          52.000000\n",
      "Name: Age_Recode_52, dtype: float64\n",
      "count    100000.000000\n",
      "mean         19.826390\n",
      "std           3.821389\n",
      "min           1.000000\n",
      "25%          18.000000\n",
      "50%          20.000000\n",
      "75%          23.000000\n",
      "max          27.000000\n",
      "Name: Age_Recode_27, dtype: float64\n",
      "count    100000.000000\n",
      "mean          9.129540\n",
      "std           1.824799\n",
      "min           1.000000\n",
      "25%           8.000000\n",
      "50%           9.000000\n",
      "75%          11.000000\n",
      "max          12.000000\n",
      "Name: Age_Recode_12, dtype: float64\n",
      "count    100000.000000\n",
      "mean          3.491620\n",
      "std           2.021448\n",
      "min           1.000000\n",
      "25%           1.000000\n",
      "50%           4.000000\n",
      "75%           5.000000\n",
      "max           9.000000\n",
      "Name: Place_Of_Death, dtype: float64\n",
      "count    100000.000000\n",
      "mean          3.983400\n",
      "std           2.006506\n",
      "min           1.000000\n",
      "25%           2.000000\n",
      "50%           4.000000\n",
      "75%           6.000000\n",
      "max           7.000000\n",
      "Name: DOW_of_Death, dtype: float64\n",
      "count    100000.0\n",
      "mean       2017.0\n",
      "std           0.0\n",
      "min        2017.0\n",
      "25%        2017.0\n",
      "50%        2017.0\n",
      "75%        2017.0\n",
      "max        2017.0\n",
      "Name: Data_Year, dtype: float64\n",
      "count    100000.000000\n",
      "mean          6.545930\n",
      "std           1.509958\n",
      "min           1.000000\n",
      "25%           7.000000\n",
      "50%           7.000000\n",
      "75%           7.000000\n",
      "max           7.000000\n",
      "Name: Manner_Of_Death, dtype: float64\n",
      "count    100000.000000\n",
      "mean        217.411730\n",
      "std          94.561048\n",
      "min           6.000000\n",
      "25%         159.000000\n",
      "50%         215.000000\n",
      "75%         267.000000\n",
      "max         456.000000\n",
      "Name: Cause_Recode_358, dtype: float64\n",
      "count    100000.000000\n",
      "mean         69.430930\n",
      "std          31.063431\n",
      "min           1.000000\n",
      "25%          46.000000\n",
      "50%          68.000000\n",
      "75%          90.000000\n",
      "max         135.000000\n",
      "Name: Cause_Recode_113, dtype: float64\n",
      "count    100000.000000\n",
      "mean         24.474830\n",
      "std          10.041428\n",
      "min           1.000000\n",
      "25%          17.000000\n",
      "50%          22.000000\n",
      "75%          37.000000\n",
      "max          42.000000\n",
      "Name: Cause_Recode_39, dtype: float64\n",
      "count    100000.000000\n",
      "mean          2.842390\n",
      "std           1.841506\n",
      "min           1.000000\n",
      "25%           1.000000\n",
      "50%           2.000000\n",
      "75%           4.000000\n",
      "max          14.000000\n",
      "Name: Entity_Axis_Conditions, dtype: float64\n",
      "count    100000.000000\n",
      "mean          2.713010\n",
      "std           1.731028\n",
      "min           1.000000\n",
      "25%           1.000000\n",
      "50%           2.000000\n",
      "75%           4.000000\n",
      "max          14.000000\n",
      "Name: Record_Axis_Conditions, dtype: float64\n",
      "count    100000.00000\n",
      "mean          1.46644\n",
      "std           3.83851\n",
      "min           1.00000\n",
      "25%           1.00000\n",
      "50%           1.00000\n",
      "75%           1.00000\n",
      "max          78.00000\n",
      "Name: Race, dtype: float64\n",
      "count    100000.000000\n",
      "mean          1.351130\n",
      "std           0.744112\n",
      "min           1.000000\n",
      "25%           1.000000\n",
      "50%           1.000000\n",
      "75%           1.000000\n",
      "max           3.000000\n",
      "Name: Race_Recode_3, dtype: float64\n",
      "count    100000.00000\n",
      "mean          1.22151\n",
      "std           0.50512\n",
      "min           1.00000\n",
      "25%           1.00000\n",
      "50%           1.00000\n",
      "75%           1.00000\n",
      "max           4.00000\n",
      "Name: Race_Recode_5, dtype: float64\n",
      "count    100000.000000\n",
      "mean        104.614970\n",
      "std          44.645262\n",
      "min         100.000000\n",
      "25%         100.000000\n",
      "50%         100.000000\n",
      "75%         100.000000\n",
      "max         998.000000\n",
      "Name: Hispanic_Origin, dtype: float64\n",
      "count    100000.000000\n",
      "mean          6.116670\n",
      "std           0.861037\n",
      "min           1.000000\n",
      "25%           6.000000\n",
      "50%           6.000000\n",
      "75%           6.000000\n",
      "max           9.000000\n",
      "Name: Hispanic_Origin_Recode, dtype: float64\n"
     ]
    }
   ],
   "source": [
    "for column in df.columns:\n",
    "    try:\n",
    "        mean = df[column].mean()\n",
    "        if mean > 0:\n",
    "            print(df[column].describe())\n",
    "    except:\n",
    "        pass"
   ]
  },
  {
   "cell_type": "code",
   "execution_count": 43,
   "metadata": {},
   "outputs": [
    {
     "name": "stdout",
     "output_type": "stream",
     "text": [
      "INTER-QUARTILE RANGE (IQR) For Age: 23.0\n"
     ]
    }
   ],
   "source": [
    "Q1 = df[\"Age_Value\"].quantile(0.25)\n",
    "Q3 = df[\"Age_Value\"].quantile(0.75)\n",
    "\n",
    "print(\"INTER-QUARTILE RANGE (IQR) For Age:\", Q3-Q1)"
   ]
  },
  {
   "cell_type": "code",
   "execution_count": 44,
   "metadata": {},
   "outputs": [
    {
     "name": "stdout",
     "output_type": "stream",
     "text": [
      "Life Expectancy regarless of gender: 71.0(mean) 74.0(median) 82(mode)\n"
     ]
    }
   ],
   "source": [
    "print(\"Life Expectancy regarless of gender: {}(mean) {}(median) {}(mode)\".format(round(df[\"Age_Value\"].mean()), df[\"Age_Value\"].median(), df[\"Age_Value\"].mode()[0]))"
   ]
  },
  {
   "cell_type": "code",
   "execution_count": 45,
   "metadata": {},
   "outputs": [
    {
     "name": "stdout",
     "output_type": "stream",
     "text": [
      "Life Expectancy for Males: 69.0(mean) 71.0(median) 74(mode)\n"
     ]
    }
   ],
   "source": [
    "mD = df[df[\"Sex\"] == \"M\"]\n",
    "print(\"Life Expectancy for Males: {}(mean) {}(median) {}(mode)\".format(round(mD[\"Age_Value\"].mean()), mD[\"Age_Value\"].median(), mD[\"Age_Value\"].mode()[0]))"
   ]
  },
  {
   "cell_type": "code",
   "execution_count": 46,
   "metadata": {},
   "outputs": [
    {
     "name": "stdout",
     "output_type": "stream",
     "text": [
      "Life Expectancy for Females: 75.0(mean) 78.0(median) 87(mode)\n"
     ]
    }
   ],
   "source": [
    "fD = df[df[\"Sex\"] == \"F\"]\n",
    "print(\"Life Expectancy for Females: {}(mean) {}(median) {}(mode)\".format(round(fD[\"Age_Value\"].mean()), fD[\"Age_Value\"].median(), fD[\"Age_Value\"].mode()[0]))"
   ]
  },
  {
   "cell_type": "markdown",
   "metadata": {},
   "source": [
    "## Exploratry Data Analysis (EDA)"
   ]
  },
  {
   "cell_type": "markdown",
   "metadata": {},
   "source": [
    "### If married people die more than unmarried and other related"
   ]
  },
  {
   "cell_type": "code",
   "execution_count": 47,
   "metadata": {},
   "outputs": [],
   "source": [
    "dfMarried = df[(df['Marital_Status'] == 'M') ]"
   ]
  },
  {
   "cell_type": "code",
   "execution_count": 48,
   "metadata": {},
   "outputs": [],
   "source": [
    "dfSingle = df[(df['Marital_Status'] == 'S') ]"
   ]
  },
  {
   "cell_type": "code",
   "execution_count": 49,
   "metadata": {},
   "outputs": [],
   "source": [
    "dfWidow = df[(df['Marital_Status'] == 'W') ]"
   ]
  },
  {
   "cell_type": "code",
   "execution_count": 50,
   "metadata": {},
   "outputs": [],
   "source": [
    "dfDivorce = df[(df['Marital_Status'] == 'D') ]"
   ]
  },
  {
   "cell_type": "code",
   "execution_count": 51,
   "metadata": {},
   "outputs": [],
   "source": [
    "dfUnknown = df[(df['Marital_Status'] == 'U') ]"
   ]
  },
  {
   "cell_type": "code",
   "execution_count": 52,
   "metadata": {},
   "outputs": [
    {
     "data": {
      "text/plain": [
       "'39 %'"
      ]
     },
     "execution_count": 52,
     "metadata": {},
     "output_type": "execute_result"
    }
   ],
   "source": [
    "marriedPer = dfMarried.shape[0] / df.shape[0] * 100\n",
    "str(math.ceil(marriedPer)) + ' %'"
   ]
  },
  {
   "cell_type": "code",
   "execution_count": 53,
   "metadata": {},
   "outputs": [
    {
     "data": {
      "text/plain": [
       "'12 %'"
      ]
     },
     "execution_count": 53,
     "metadata": {},
     "output_type": "execute_result"
    }
   ],
   "source": [
    "singlePer = dfSingle.shape[0] / df.shape[0] * 100\n",
    "str(math.ceil(singlePer)) + ' %'"
   ]
  },
  {
   "cell_type": "code",
   "execution_count": 54,
   "metadata": {},
   "outputs": [
    {
     "data": {
      "text/plain": [
       "'32 %'"
      ]
     },
     "execution_count": 54,
     "metadata": {},
     "output_type": "execute_result"
    }
   ],
   "source": [
    "widowPer = dfWidow.shape[0] / df.shape[0] * 100\n",
    "str(math.ceil(widowPer)) + ' %'"
   ]
  },
  {
   "cell_type": "code",
   "execution_count": 55,
   "metadata": {},
   "outputs": [
    {
     "data": {
      "text/plain": [
       "'18 %'"
      ]
     },
     "execution_count": 55,
     "metadata": {},
     "output_type": "execute_result"
    }
   ],
   "source": [
    "divorcePer = dfDivorce.shape[0] / df.shape[0] * 100\n",
    "str(math.ceil(divorcePer)) + ' %'"
   ]
  },
  {
   "cell_type": "code",
   "execution_count": 56,
   "metadata": {},
   "outputs": [
    {
     "data": {
      "text/plain": [
       "'1 %'"
      ]
     },
     "execution_count": 56,
     "metadata": {},
     "output_type": "execute_result"
    }
   ],
   "source": [
    "unknownPer = dfUnknown.shape[0] / df.shape[0] * 100\n",
    "str(math.ceil(unknownPer)) + ' %'"
   ]
  },
  {
   "cell_type": "code",
   "execution_count": 57,
   "metadata": {},
   "outputs": [
    {
     "data": {
      "image/png": "[encoded data removed]",
      "text/plain": [
       "<Figure size 1000x500 with 1 Axes>"
      ]
     },
     "metadata": {},
     "output_type": "display_data"
    }
   ],
   "source": [
    "\n",
    "objects = ('Married', 'Single', 'Widowed', 'Divorced', 'Unknown')\n",
    "y_pos = np.arange(len(objects))\n",
    "percentages = [marriedPer, singlePer, widowPer, divorcePer, unknownPer]\n",
    "plt.figure(figsize=(10,5))\n",
    "plt.bar(y_pos, percentages, align='center', alpha=0.5)\n",
    "plt.xticks(y_pos, objects)\n",
    "plt.ylabel('Death Percentage')\n",
    "plt.title('Marital Status Death Rate.')\n",
    "\n",
    "plt.show();"
   ]
  },
  {
   "cell_type": "markdown",
   "metadata": {},
   "source": [
    "### What are and will be the most common causes of death (This requires ML and right now is only w/o ML part)"
   ]
  },
  {
   "cell_type": "code",
   "execution_count": 58,
   "metadata": {},
   "outputs": [
    {
     "data": {
      "text/plain": [
       "Index(['Resident_Status', 'Month_Of_Death', 'Sex', 'Age_Key', 'Age_Value',\n",
       "       'Age_Recode_52', 'Age_Recode_27', 'Age_Recode_12', 'Place_Of_Death',\n",
       "       'Marital_Status', 'DOW_of_Death', 'Data_Year', 'Injured_At_Work',\n",
       "       'Manner_Of_Death', 'Method_Of_Disposition', 'Autopsy', 'ICD10',\n",
       "       'Cause_Recode_358', 'Cause_Recode_113', 'Cause_Recode_39',\n",
       "       'Entity_Axis_Conditions', 'EAC1', 'EAC2', 'EAC3',\n",
       "       'Record_Axis_Conditions', 'RA1', 'RA2', 'RA3', 'Race', 'Race_Recode_3',\n",
       "       'Race_Recode_5', 'Hispanic_Origin', 'Hispanic_Origin_Recode'],\n",
       "      dtype='object')"
      ]
     },
     "execution_count": 58,
     "metadata": {},
     "output_type": "execute_result"
    }
   ],
   "source": [
    "df.columns"
   ]
  },
  {
   "cell_type": "code",
   "execution_count": 59,
   "metadata": {},
   "outputs": [],
   "source": [
    "objects = ['Accident', 'Suicide', 'Homicide', 'Pending investigation', 'Could not determine', 'Self-Inflicted', 'Natural']"
   ]
  },
  {
   "cell_type": "code",
   "execution_count": 60,
   "metadata": {},
   "outputs": [
    {
     "data": {
      "text/plain": [
       "7"
      ]
     },
     "execution_count": 60,
     "metadata": {},
     "output_type": "execute_result"
    }
   ],
   "source": [
    "len(objects)"
   ]
  },
  {
   "cell_type": "code",
   "execution_count": 61,
   "metadata": {},
   "outputs": [],
   "source": [
    "sortedCauseOfDeath = sorted(df[\"Manner_Of_Death\"].unique())"
   ]
  },
  {
   "cell_type": "code",
   "execution_count": 62,
   "metadata": {},
   "outputs": [],
   "source": [
    "labels = [objects[x-1] for x in sortedCauseOfDeath]"
   ]
  },
  {
   "cell_type": "code",
   "execution_count": 63,
   "metadata": {},
   "outputs": [],
   "source": [
    "def getColumnPercentages(_df, column):\n",
    "    return [((_df[_df[column] == uVal].shape[0]/_df[column].shape[0])*100) for uVal in sorted(_df[column].unique())]"
   ]
  },
  {
   "cell_type": "code",
   "execution_count": 64,
   "metadata": {},
   "outputs": [],
   "source": [
    "deathCausePcts = getColumnPercentages(df, \"Manner_Of_Death\")"
   ]
  },
  {
   "cell_type": "code",
   "execution_count": 65,
   "metadata": {},
   "outputs": [
    {
     "data": {
      "text/plain": [
       "6"
      ]
     },
     "execution_count": 65,
     "metadata": {},
     "output_type": "execute_result"
    }
   ],
   "source": [
    "len(deathCausePcts)"
   ]
  },
  {
   "cell_type": "code",
   "execution_count": 66,
   "metadata": {
    "scrolled": true
   },
   "outputs": [
    {
     "name": "stdout",
     "output_type": "stream",
     "text": [
      "Accident: 5.028%\n",
      "Suicide: 1.894%\n",
      "Homicide: 1.051%\n",
      "Pending investigation: 0.10300000000000001%\n",
      "Could not determine: 0.628%\n",
      "Natural: 91.29599999999999%\n"
     ]
    }
   ],
   "source": [
    "for i in range(0, len(deathCausePcts)):\n",
    "    print(f\"{labels[i]}: {deathCausePcts[i]}%\");"
   ]
  },
  {
   "cell_type": "code",
   "execution_count": 67,
   "metadata": {},
   "outputs": [
    {
     "data": {
      "image/png": "[encoded data removed]",
      "text/plain": [
       "<Figure size 1000x500 with 1 Axes>"
      ]
     },
     "metadata": {},
     "output_type": "display_data"
    }
   ],
   "source": [
    "# percentages = [manner1Per, manner2Per, manner3Per, manner4Per, manner5Per, manner6Per, manner7Per]\n",
    "# idx = deathCausePcts.index(0.0)\n",
    "# percentages = deathCausePcts[:idx] + deathCausePcts[idx+1:]\n",
    "# objects = objects[:idx] + objects[idx+1:]\n",
    "plt.figure(figsize=(10,5))\n",
    "plt.pie(\n",
    "    x=deathCausePcts,\n",
    "    labels=labels,\n",
    "    rotatelabels=45,\n",
    "    radius=2,\n",
    "    textprops={\n",
    "        \"fontsize\": 12\n",
    "    }\n",
    ")\n",
    "# plt.bar(y_pos, percentages, align='center', alpha=0.5)\n",
    "# plt.xticks(y_pos, objects, rotation=30)\n",
    "# plt.ylabel('Death Percentage')\n",
    "# plt.title('Most Common Causes Of Death.')\n",
    "#plt.setp(ax.get_xticklabels(), rotation=30, horizontalalignment='right', fontsize='x-small')\n",
    "plt.show();"
   ]
  },
  {
   "cell_type": "markdown",
   "metadata": {},
   "source": [
    "### Life expectancy for certain age groups"
   ]
  },
  {
   "cell_type": "code",
   "execution_count": 68,
   "metadata": {},
   "outputs": [],
   "source": [
    "def getGroupedValues(dataF, colName, gap, total, isLast = False):\n",
    "    pValue = 0\n",
    "    nValue = gap\n",
    "    values = []\n",
    "    for i in range(0, total):\n",
    "        values.append(dataF[(dataF[colName] >= pValue) & (dataF[colName] < nValue)].shape[0])\n",
    "#         print(f\"{pValue} - {nValue}\")\n",
    "        pValue = nValue\n",
    "        nValue += gap\n",
    "    if isLast:\n",
    "        values.append(dataF[dataF[colName] >= nValue].shape[0])\n",
    "    return values"
   ]
  },
  {
   "cell_type": "code",
   "execution_count": 69,
   "metadata": {
    "scrolled": true
   },
   "outputs": [
    {
     "data": {
      "text/plain": [
       "Index(['Resident_Status', 'Month_Of_Death', 'Sex', 'Age_Key', 'Age_Value',\n",
       "       'Age_Recode_52', 'Age_Recode_27', 'Age_Recode_12', 'Place_Of_Death',\n",
       "       'Marital_Status', 'DOW_of_Death', 'Data_Year', 'Injured_At_Work',\n",
       "       'Manner_Of_Death', 'Method_Of_Disposition', 'Autopsy', 'ICD10',\n",
       "       'Cause_Recode_358', 'Cause_Recode_113', 'Cause_Recode_39',\n",
       "       'Entity_Axis_Conditions', 'EAC1', 'EAC2', 'EAC3',\n",
       "       'Record_Axis_Conditions', 'RA1', 'RA2', 'RA3', 'Race', 'Race_Recode_3',\n",
       "       'Race_Recode_5', 'Hispanic_Origin', 'Hispanic_Origin_Recode'],\n",
       "      dtype='object')"
      ]
     },
     "execution_count": 69,
     "metadata": {},
     "output_type": "execute_result"
    }
   ],
   "source": [
    "df.columns"
   ]
  },
  {
   "cell_type": "code",
   "execution_count": 70,
   "metadata": {},
   "outputs": [
    {
     "name": "stdout",
     "output_type": "stream",
     "text": [
      "[916, 722, 1931, 2564, 4421, 10515, 17884, 22991, 24858, 12456, 7]\n"
     ]
    },
    {
     "data": {
      "image/png": "[encoded data removed]",
      "text/plain": [
       "<Figure size 1000x500 with 1 Axes>"
      ]
     },
     "metadata": {},
     "output_type": "display_data"
    }
   ],
   "source": [
    "year = ['0 - 9', '10 - 19', '20 - 29', '30 - 39', '40 - 49', '50 - 59', '60 - 69', '70 - 79', '80 - 89', '90 - 99', '100 - above']\n",
    "numberOfDeaths = getGroupedValues(df, \"Age_Value\", 10, len(year)-1, True)\n",
    "print(numberOfDeaths)\n",
    "plt.figure(figsize=(10,5))\n",
    "plt.plot(year, numberOfDeaths, color='orange')\n",
    "plt.xticks(rotation=45)\n",
    "plt.xlabel('Years')\n",
    "plt.ylabel('Total Deaths')\n",
    "plt.title('Life expectancy for certain age groups.')\n",
    "plt.show()"
   ]
  },
  {
   "cell_type": "markdown",
   "metadata": {},
   "source": [
    "### Death Rate Comparison/Correlation between both genders"
   ]
  },
  {
   "cell_type": "code",
   "execution_count": 71,
   "metadata": {},
   "outputs": [
    {
     "data": {
      "text/plain": [
       "(51855, 33)"
      ]
     },
     "execution_count": 71,
     "metadata": {},
     "output_type": "execute_result"
    }
   ],
   "source": [
    "maleData = df[df[\"Sex\"] == \"M\"]\n",
    "\n",
    "maleData.shape"
   ]
  },
  {
   "cell_type": "code",
   "execution_count": 72,
   "metadata": {},
   "outputs": [
    {
     "data": {
      "text/plain": [
       "(48145, 33)"
      ]
     },
     "execution_count": 72,
     "metadata": {},
     "output_type": "execute_result"
    }
   ],
   "source": [
    "femaleData = df[df[\"Sex\"] == \"F\"]\n",
    "\n",
    "femaleData.shape"
   ]
  },
  {
   "cell_type": "code",
   "execution_count": 73,
   "metadata": {},
   "outputs": [],
   "source": [
    "c_years = year[:-2]\n",
    "c_years.append('90 - 100')\n",
    "c_years.append('100 - above')"
   ]
  },
  {
   "cell_type": "code",
   "execution_count": 74,
   "metadata": {},
   "outputs": [],
   "source": [
    "maleDeaths = getGroupedValues(maleData, \"Age_Value\", 10, len(c_years)-1, True)\n",
    "femaleDeaths = getGroupedValues(femaleData, \"Age_Value\", 10,len(c_years)-1, True)"
   ]
  },
  {
   "cell_type": "code",
   "execution_count": 75,
   "metadata": {},
   "outputs": [
    {
     "data": {
      "image/png": "[encoded data removed]",
      "text/plain": [
       "<Figure size 1000x500 with 1 Axes>"
      ]
     },
     "metadata": {},
     "output_type": "display_data"
    }
   ],
   "source": [
    "plt.figure(figsize=(10,5))\n",
    "plt.plot(c_years, maleDeaths, color='orange')\n",
    "# plt.show()\n",
    "plt.plot(c_years, femaleDeaths, color='blue')\n",
    "plt.legend(df[\"Sex\"].unique())\n",
    "plt.xticks(rotation=45)\n",
    "plt.xlabel('Years')\n",
    "plt.ylabel('Total Deaths')\n",
    "plt.title('Death Rate Correlation Between Male And Female Data.')\n",
    "plt.show()"
   ]
  },
  {
   "cell_type": "markdown",
   "metadata": {},
   "source": [
    "### How causes of death have changed compared to past 10 years"
   ]
  },
  {
   "cell_type": "code",
   "execution_count": 76,
   "metadata": {},
   "outputs": [
    {
     "data": {
      "text/plain": [
       "Index(['Resident_Status', ' Education', ' Month_Of_Death', ' Sex', ' Age_Key',\n",
       "       ' Age_Value', ' Age_Sub_Flag', ' Age_Recode_52', ' Age_Recode_27',\n",
       "       ' Age_Recode_12', ' Infant_Age_Recode_22', ' Place_Of_Death',\n",
       "       ' Marital_Status', ' DOW_of_Death', ' Data_Year', ' Injured_At_Work',\n",
       "       ' Manner_Of_Death', ' Method_Of_Disposition', ' Autopsy',\n",
       "       ' Activity_Code', ' Place_Of_Causal_Injury', '  ICD10',\n",
       "       ' Cause_Recode_358', ' Cause_Recode_113', ' Infant_Cause_Recode_130',\n",
       "       ' Cause_Recode_39', ' Entity_Axis_Conditions', ' EAC1', ' EAC2',\n",
       "       ' EAC3', ' EAC4', ' EAC5', ' EAC6', ' EAC7', ' EAC8', ' EAC9', ' EAC10',\n",
       "       ' EAC11', ' EAC12', ' EAC13', ' EAC14', ' EAC15', ' EAC16', ' EAC17',\n",
       "       ' EAC18', ' EAC19', ' EAC20', ' Record_Axis_Conditions', ' RA1', ' RA2',\n",
       "       ' RA3', ' RA4', ' RA5', ' RA6', ' RA7', ' RA8', ' RA9', ' RA10',\n",
       "       ' RA11', ' RA12', ' RA13', ' RA14', ' RA15', ' RA16', ' RA17', ' RA18',\n",
       "       ' RA19', ' RA20', ' Race', ' Race_Bridged', ' Race_Imputation',\n",
       "       ' Race_Recode_3', ' Race_Recode_5', ' Hispanic_Origin',\n",
       "       ' Hispanic_Origin_Recode'],\n",
       "      dtype='object')"
      ]
     },
     "execution_count": 76,
     "metadata": {},
     "output_type": "execute_result"
    }
   ],
   "source": [
    "odf = pd.read_csv(\"VS07MORT.csv\", nrows=100000)\n",
    "\n",
    "odf.columns"
   ]
  },
  {
   "cell_type": "code",
   "execution_count": 77,
   "metadata": {},
   "outputs": [
    {
     "data": {
      "text/plain": [
       "(100000, 75)"
      ]
     },
     "execution_count": 77,
     "metadata": {},
     "output_type": "execute_result"
    }
   ],
   "source": [
    "odf.shape"
   ]
  },
  {
   "cell_type": "code",
   "execution_count": 78,
   "metadata": {},
   "outputs": [],
   "source": [
    "odf = cleanColumns(odf)\n",
    "\n",
    "odf = odf.drop(columns=getInValuableColumns(odf))\n",
    "\n",
    "odf = odf.applymap(lambda x: removeSpaces(x))\n",
    "\n",
    "odf = cleanEmptyStringValues(odf)\n",
    "\n",
    "odf = replaceNAWithMode(odf)\n",
    "\n",
    "odf = odf.applymap(tryConvertingToNumber)"
   ]
  },
  {
   "cell_type": "code",
   "execution_count": 79,
   "metadata": {},
   "outputs": [],
   "source": [
    "# odf = odf.drop(columns=[x for x in odf.columns if len(odf[x].unique()) <= 1 and odf[x].unique()[0] == None])"
   ]
  },
  {
   "cell_type": "code",
   "execution_count": 80,
   "metadata": {},
   "outputs": [
    {
     "data": {
      "text/plain": [
       "Index(['Resident_Status', 'Education', 'Month_Of_Death', 'Sex', 'Age_Key',\n",
       "       'Age_Value', 'Age_Sub_Flag', 'Age_Recode_52', 'Age_Recode_27',\n",
       "       'Age_Recode_12', 'Infant_Age_Recode_22', 'Place_Of_Death',\n",
       "       'Marital_Status', 'DOW_of_Death', 'Data_Year', 'Injured_At_Work',\n",
       "       'Manner_Of_Death', 'Method_Of_Disposition', 'Autopsy', 'Activity_Code',\n",
       "       'Place_Of_Causal_Injury', 'ICD10', 'Cause_Recode_358',\n",
       "       'Cause_Recode_113', 'Infant_Cause_Recode_130', 'Cause_Recode_39',\n",
       "       'Entity_Axis_Conditions', 'EAC1', 'EAC2', 'EAC3', 'EAC4', 'EAC5',\n",
       "       'EAC6', 'EAC7', 'EAC8', 'EAC9', 'EAC10', 'EAC11', 'EAC12', 'EAC13',\n",
       "       'EAC14', 'EAC15', 'EAC16', 'EAC17', 'EAC18', 'EAC19', 'EAC20',\n",
       "       'Record_Axis_Conditions', 'RA1', 'RA2', 'RA3', 'RA4', 'RA5', 'RA6',\n",
       "       'RA7', 'RA8', 'RA9', 'RA10', 'RA11', 'RA12', 'RA13', 'RA14', 'RA15',\n",
       "       'RA16', 'RA17', 'RA18', 'RA19', 'RA20', 'Race', 'Race_Bridged',\n",
       "       'Race_Imputation', 'Race_Recode_3', 'Race_Recode_5', 'Hispanic_Origin',\n",
       "       'Hispanic_Origin_Recode'],\n",
       "      dtype='object')"
      ]
     },
     "execution_count": 80,
     "metadata": {},
     "output_type": "execute_result"
    }
   ],
   "source": [
    "odf.columns"
   ]
  },
  {
   "cell_type": "code",
   "execution_count": 81,
   "metadata": {
    "scrolled": true
   },
   "outputs": [
    {
     "data": {
      "text/plain": [
       "75"
      ]
     },
     "execution_count": 81,
     "metadata": {},
     "output_type": "execute_result"
    }
   ],
   "source": [
    "odf.columns.size"
   ]
  },
  {
   "cell_type": "markdown",
   "metadata": {},
   "source": [
    "### Old (Other Dataset) Data Cleaning and Analysis"
   ]
  },
  {
   "cell_type": "code",
   "execution_count": 82,
   "metadata": {
    "scrolled": true
   },
   "outputs": [
    {
     "data": {
      "text/plain": [
       "[1, 2, 3, 4, 5, 7]"
      ]
     },
     "execution_count": 82,
     "metadata": {},
     "output_type": "execute_result"
    }
   ],
   "source": [
    "sortedCauses = sorted(odf[\"Manner_Of_Death\"].unique())\n",
    "\n",
    "sortedCauses"
   ]
  },
  {
   "cell_type": "code",
   "execution_count": 83,
   "metadata": {},
   "outputs": [],
   "source": [
    "oldDeathPcts = getColumnPercentages(odf, \"Manner_Of_Death\")"
   ]
  },
  {
   "cell_type": "code",
   "execution_count": 84,
   "metadata": {},
   "outputs": [
    {
     "name": "stdout",
     "output_type": "stream",
     "text": [
      "Accident: 6%\n",
      "Suicide: 1%\n",
      "Homicide: 1%\n",
      "Pending investigation: 0%\n",
      "Could not determine: 0%\n",
      "Natural: 90%\n"
     ]
    }
   ],
   "source": [
    "for i in range(0, len(oldDeathPcts)):\n",
    "    print(f\"{labels[i]}: {math.floor(oldDeathPcts[i])}%\")"
   ]
  },
  {
   "cell_type": "code",
   "execution_count": 85,
   "metadata": {},
   "outputs": [
    {
     "data": {
      "image/png": "[encoded data removed]",
      "text/plain": [
       "<Figure size 1000x500 with 1 Axes>"
      ]
     },
     "metadata": {},
     "output_type": "display_data"
    }
   ],
   "source": [
    "plt.figure(figsize=(10,5))\n",
    "plt.pie(\n",
    "    x=oldDeathPcts,\n",
    "    labels=labels,\n",
    "    rotatelabels=45,\n",
    "    radius=2,\n",
    "    textprops={\n",
    "        \"fontsize\": 12\n",
    "    }\n",
    ")\n",
    "\n",
    "plt.show()"
   ]
  },
  {
   "cell_type": "markdown",
   "metadata": {},
   "source": [
    "### Comparison between 10 years past and 2017 Death rates:"
   ]
  },
  {
   "cell_type": "code",
   "execution_count": 86,
   "metadata": {
    "scrolled": true
   },
   "outputs": [
    {
     "name": "stdout",
     "output_type": "stream",
     "text": [
      "Accident: 7%(old), 6%(current)\n",
      "Suicide: 2%(old), 2%(current)\n",
      "Homicide: 2%(old), 2%(current)\n",
      "Pending investigation: 1%(old), 1%(current)\n",
      "Could not determine: 1%(old), 1%(current)\n",
      "Natural: 91%(old), 92%(current)\n"
     ]
    }
   ],
   "source": [
    "for i in range(0, min(len(oldDeathPcts), len(deathCausePcts))):\n",
    "    print(f\"{labels[i]}: {math.ceil(oldDeathPcts[i])}%(old), {math.ceil(deathCausePcts[i])}%(current)\")"
   ]
  },
  {
   "cell_type": "code",
   "execution_count": 87,
   "metadata": {},
   "outputs": [
    {
     "data": {
      "text/plain": [
       "6"
      ]
     },
     "execution_count": 87,
     "metadata": {},
     "output_type": "execute_result"
    }
   ],
   "source": [
    "len(deathCausePcts)"
   ]
  },
  {
   "cell_type": "code",
   "execution_count": 88,
   "metadata": {},
   "outputs": [
    {
     "data": {
      "image/png": "[encoded data removed]",
      "text/plain": [
       "<Figure size 1000x500 with 1 Axes>"
      ]
     },
     "metadata": {},
     "output_type": "display_data"
    }
   ],
   "source": [
    "n_groups = len(deathCausePcts)\n",
    "\n",
    "# create plot\n",
    "fig, ax = plt.subplots(figsize=(10,5))\n",
    "index = np.arange(n_groups)\n",
    "bar_width = 0.35\n",
    "opacity = 0.8\n",
    "\n",
    "rects1 = plt.bar(index, oldDeathPcts, bar_width,\n",
    "alpha=opacity,\n",
    "color='b',\n",
    "label='2007')\n",
    "\n",
    "rects2 = plt.bar(index + bar_width, deathCausePcts, bar_width,\n",
    "alpha=opacity,\n",
    "color='g',\n",
    "label='2017')\n",
    "plt.xlabel('Person')\n",
    "plt.ylabel('Death Rate')\n",
    "plt.title('Comparison between 10 years')\n",
    "plt.xticks(index + bar_width, ('A', 'B', 'C', 'D', 'E', 'F'))\n",
    "plt.legend()\n",
    "\n",
    "plt.tight_layout()\n",
    "plt.show()"
   ]
  },
  {
   "cell_type": "markdown",
   "metadata": {},
   "source": [
    "### Death of people which Injured at work"
   ]
  },
  {
   "cell_type": "code",
   "execution_count": 89,
   "metadata": {},
   "outputs": [
    {
     "data": {
      "text/plain": [
       "'0.202 %'"
      ]
     },
     "execution_count": 89,
     "metadata": {},
     "output_type": "execute_result"
    }
   ],
   "source": [
    "dfInjuredAtWork = df[(df['Injured_At_Work'] == 'Y') ]\n",
    "injuredAtWorkPer = dfInjuredAtWork.shape[0] / df.shape[0] * 100\n",
    "str(injuredAtWorkPer) + ' %'\n"
   ]
  },
  {
   "cell_type": "code",
   "execution_count": 90,
   "metadata": {},
   "outputs": [
    {
     "data": {
      "text/plain": [
       "'7.819 %'"
      ]
     },
     "execution_count": 90,
     "metadata": {},
     "output_type": "execute_result"
    }
   ],
   "source": [
    "dfNotInjuredAtWork = df[(df['Injured_At_Work'] == 'N') ]\n",
    "notInjuredAtWorkPer = dfNotInjuredAtWork.shape[0] / df.shape[0] * 100\n",
    "str(notInjuredAtWorkPer) + ' %'"
   ]
  },
  {
   "cell_type": "code",
   "execution_count": 91,
   "metadata": {},
   "outputs": [
    {
     "data": {
      "text/plain": [
       "'91.979 %'"
      ]
     },
     "execution_count": 91,
     "metadata": {},
     "output_type": "execute_result"
    }
   ],
   "source": [
    "\n",
    "dfUnknownInjuredAtWork = df[(df['Injured_At_Work'] == 'U') ]\n",
    "unknownInjuredAtWorkPer = dfUnknownInjuredAtWork.shape[0] / df.shape[0] * 100\n",
    "str(unknownInjuredAtWorkPer) + ' %'"
   ]
  },
  {
   "cell_type": "code",
   "execution_count": 92,
   "metadata": {},
   "outputs": [
    {
     "data": {
      "image/png": "[encoded data removed]",
      "text/plain": [
       "<Figure size 700x700 with 1 Axes>"
      ]
     },
     "metadata": {},
     "output_type": "display_data"
    }
   ],
   "source": [
    "\n",
    "names='At Work', 'Not At Work'\n",
    "\n",
    "my_circle=plt.Circle( (0,0), 0.7, color='white')\n",
    "size= [injuredAtWorkPer, notInjuredAtWorkPer]\n",
    "# Custom colors --> colors will cycle\n",
    "plt.figure(figsize=(7,7))\n",
    "plt.pie(size, labels=names, colors=['green','blue','gray'])\n",
    "p=plt.gcf()\n",
    "p.gca().add_artist(my_circle)\n",
    "plt.show()\n"
   ]
  },
  {
   "cell_type": "markdown",
   "metadata": {},
   "source": [
    "### Finding Most common disease using International Statistical Classification of Diseases and Related Health Problems"
   ]
  },
  {
   "cell_type": "code",
   "execution_count": 93,
   "metadata": {},
   "outputs": [
    {
     "data": {
      "text/html": [
       "<div>\n",
       "<style scoped>\n",
       "    .dataframe tbody tr th:only-of-type {\n",
       "        vertical-align: middle;\n",
       "    }\n",
       "\n",
       "    .dataframe tbody tr th {\n",
       "        vertical-align: top;\n",
       "    }\n",
       "\n",
       "    .dataframe thead th {\n",
       "        text-align: right;\n",
       "    }\n",
       "</style>\n",
       "<table border=\"1\" class=\"dataframe\">\n",
       "  <thead>\n",
       "    <tr style=\"text-align: right;\">\n",
       "      <th></th>\n",
       "      <th>Resident_Status</th>\n",
       "      <th>Month_Of_Death</th>\n",
       "      <th>Sex</th>\n",
       "      <th>Age_Key</th>\n",
       "      <th>Age_Value</th>\n",
       "      <th>Age_Recode_52</th>\n",
       "      <th>Age_Recode_27</th>\n",
       "      <th>Age_Recode_12</th>\n",
       "      <th>Place_Of_Death</th>\n",
       "      <th>Marital_Status</th>\n",
       "      <th>...</th>\n",
       "      <th>EAC3</th>\n",
       "      <th>Record_Axis_Conditions</th>\n",
       "      <th>RA1</th>\n",
       "      <th>RA2</th>\n",
       "      <th>RA3</th>\n",
       "      <th>Race</th>\n",
       "      <th>Race_Recode_3</th>\n",
       "      <th>Race_Recode_5</th>\n",
       "      <th>Hispanic_Origin</th>\n",
       "      <th>Hispanic_Origin_Recode</th>\n",
       "    </tr>\n",
       "  </thead>\n",
       "  <tbody>\n",
       "    <tr>\n",
       "      <td>0</td>\n",
       "      <td>1</td>\n",
       "      <td>101</td>\n",
       "      <td>M</td>\n",
       "      <td>1</td>\n",
       "      <td>71</td>\n",
       "      <td>40</td>\n",
       "      <td>20</td>\n",
       "      <td>9</td>\n",
       "      <td>1</td>\n",
       "      <td>M</td>\n",
       "      <td>...</td>\n",
       "      <td>31I10</td>\n",
       "      <td>1</td>\n",
       "      <td>G20</td>\n",
       "      <td>F179</td>\n",
       "      <td>I469</td>\n",
       "      <td>1</td>\n",
       "      <td>1</td>\n",
       "      <td>1</td>\n",
       "      <td>100</td>\n",
       "      <td>6</td>\n",
       "    </tr>\n",
       "    <tr>\n",
       "      <td>1</td>\n",
       "      <td>1</td>\n",
       "      <td>101</td>\n",
       "      <td>M</td>\n",
       "      <td>1</td>\n",
       "      <td>74</td>\n",
       "      <td>40</td>\n",
       "      <td>20</td>\n",
       "      <td>9</td>\n",
       "      <td>1</td>\n",
       "      <td>D</td>\n",
       "      <td>...</td>\n",
       "      <td>31I10</td>\n",
       "      <td>2</td>\n",
       "      <td>M726</td>\n",
       "      <td>A419</td>\n",
       "      <td>I469</td>\n",
       "      <td>1</td>\n",
       "      <td>1</td>\n",
       "      <td>1</td>\n",
       "      <td>100</td>\n",
       "      <td>6</td>\n",
       "    </tr>\n",
       "    <tr>\n",
       "      <td>2</td>\n",
       "      <td>1</td>\n",
       "      <td>101</td>\n",
       "      <td>M</td>\n",
       "      <td>1</td>\n",
       "      <td>59</td>\n",
       "      <td>37</td>\n",
       "      <td>17</td>\n",
       "      <td>8</td>\n",
       "      <td>4</td>\n",
       "      <td>M</td>\n",
       "      <td>...</td>\n",
       "      <td>31I10</td>\n",
       "      <td>2</td>\n",
       "      <td>C159</td>\n",
       "      <td>F179</td>\n",
       "      <td>I469</td>\n",
       "      <td>1</td>\n",
       "      <td>1</td>\n",
       "      <td>1</td>\n",
       "      <td>100</td>\n",
       "      <td>6</td>\n",
       "    </tr>\n",
       "    <tr>\n",
       "      <td>3</td>\n",
       "      <td>1</td>\n",
       "      <td>101</td>\n",
       "      <td>M</td>\n",
       "      <td>1</td>\n",
       "      <td>90</td>\n",
       "      <td>44</td>\n",
       "      <td>24</td>\n",
       "      <td>11</td>\n",
       "      <td>4</td>\n",
       "      <td>M</td>\n",
       "      <td>...</td>\n",
       "      <td>31I10</td>\n",
       "      <td>1</td>\n",
       "      <td>C61</td>\n",
       "      <td>F179</td>\n",
       "      <td>I469</td>\n",
       "      <td>3</td>\n",
       "      <td>2</td>\n",
       "      <td>3</td>\n",
       "      <td>100</td>\n",
       "      <td>8</td>\n",
       "    </tr>\n",
       "    <tr>\n",
       "      <td>4</td>\n",
       "      <td>1</td>\n",
       "      <td>101</td>\n",
       "      <td>M</td>\n",
       "      <td>1</td>\n",
       "      <td>66</td>\n",
       "      <td>39</td>\n",
       "      <td>19</td>\n",
       "      <td>9</td>\n",
       "      <td>4</td>\n",
       "      <td>M</td>\n",
       "      <td>...</td>\n",
       "      <td>62F179</td>\n",
       "      <td>3</td>\n",
       "      <td>J449</td>\n",
       "      <td>C900</td>\n",
       "      <td>F179</td>\n",
       "      <td>1</td>\n",
       "      <td>1</td>\n",
       "      <td>1</td>\n",
       "      <td>100</td>\n",
       "      <td>6</td>\n",
       "    </tr>\n",
       "  </tbody>\n",
       "</table>\n",
       "<p>5 rows × 33 columns</p>\n",
       "</div>"
      ],
      "text/plain": [
       "   Resident_Status  Month_Of_Death Sex  Age_Key  Age_Value  Age_Recode_52  \\\n",
       "0                1             101   M        1         71             40   \n",
       "1                1             101   M        1         74             40   \n",
       "2                1             101   M        1         59             37   \n",
       "3                1             101   M        1         90             44   \n",
       "4                1             101   M        1         66             39   \n",
       "\n",
       "   Age_Recode_27  Age_Recode_12  Place_Of_Death Marital_Status  ...    EAC3  \\\n",
       "0             20              9               1              M  ...   31I10   \n",
       "1             20              9               1              D  ...   31I10   \n",
       "2             17              8               4              M  ...   31I10   \n",
       "3             24             11               4              M  ...   31I10   \n",
       "4             19              9               4              M  ...  62F179   \n",
       "\n",
       "   Record_Axis_Conditions   RA1   RA2   RA3 Race Race_Recode_3  Race_Recode_5  \\\n",
       "0                       1   G20  F179  I469    1             1              1   \n",
       "1                       2  M726  A419  I469    1             1              1   \n",
       "2                       2  C159  F179  I469    1             1              1   \n",
       "3                       1   C61  F179  I469    3             2              3   \n",
       "4                       3  J449  C900  F179    1             1              1   \n",
       "\n",
       "   Hispanic_Origin  Hispanic_Origin_Recode  \n",
       "0              100                       6  \n",
       "1              100                       6  \n",
       "2              100                       6  \n",
       "3              100                       8  \n",
       "4              100                       6  \n",
       "\n",
       "[5 rows x 33 columns]"
      ]
     },
     "execution_count": 93,
     "metadata": {},
     "output_type": "execute_result"
    }
   ],
   "source": [
    "df.head()"
   ]
  },
  {
   "cell_type": "code",
   "execution_count": 94,
   "metadata": {},
   "outputs": [
    {
     "data": {
      "text/plain": [
       "J449    5.594\n",
       "C349    5.366\n",
       "I219    5.075\n",
       "G309    4.501\n",
       "I251    3.798\n",
       "I500    2.907\n",
       "F03     2.731\n",
       "I64     2.008\n",
       "I469    1.864\n",
       "I250    1.743\n",
       "J189    1.663\n",
       "A419    1.457\n",
       "C189    1.372\n",
       "C509    1.301\n",
       "C259    1.299\n",
       "E149    1.297\n",
       "G20     1.018\n",
       "C80     0.981\n",
       "I119    0.957\n",
       "I259    0.915\n",
       "Name: ICD10, dtype: float64"
      ]
     },
     "execution_count": 94,
     "metadata": {},
     "output_type": "execute_result"
    }
   ],
   "source": [
    "icd10 = (df.ICD10.value_counts()/df.ICD10.shape[0]* 100)[0:20]\n",
    "icd10"
   ]
  },
  {
   "cell_type": "code",
   "execution_count": 95,
   "metadata": {},
   "outputs": [
    {
     "data": {
      "text/plain": [
       "array([5.594, 5.366, 5.075, 4.501, 3.798, 2.907, 2.731, 2.008, 1.864,\n",
       "       1.743, 1.663, 1.457, 1.372, 1.301, 1.299, 1.297, 1.018, 0.981,\n",
       "       0.957, 0.915])"
      ]
     },
     "execution_count": 95,
     "metadata": {},
     "output_type": "execute_result"
    }
   ],
   "source": [
    "icd10.values"
   ]
  },
  {
   "cell_type": "code",
   "execution_count": 96,
   "metadata": {},
   "outputs": [
    {
     "data": {
      "image/png": "[encoded data removed]",
      "text/plain": [
       "<Figure size 1000x500 with 1 Axes>"
      ]
     },
     "metadata": {},
     "output_type": "display_data"
    }
   ],
   "source": [
    "\n",
    "#objects = ('Married', 'Single', 'Widowed', 'Divorced', 'Unknown')\n",
    "y_pos = np.arange(len(icd10.index))\n",
    "#percentages = [marriedPer, singlePer, widowPer, divorcePer, unknownPer]\n",
    "\n",
    "plt.figure(figsize=(10,5))\n",
    "plt.bar(y_pos, icd10.values, align='center', alpha=0.5)\n",
    "plt.xticks(y_pos, icd10.index, rotation=60)\n",
    "plt.ylabel('Death Percentage')\n",
    "plt.title(' International Statistical Classification of Diseases ')\n",
    "plt.show();"
   ]
  },
  {
   "cell_type": "markdown",
   "metadata": {},
   "source": [
    "According to the data, **C349** was the most common disease of death among the deceased.\n",
    "\n",
    "According to [wikipidia](https://en.wikipedia.org/wiki/ICD-10_Chapter_II:_Neoplasms#(C30%E2%80%93C39)_Malignant_neoplasms,_respiratory_system_and_intrathoracic_organs) / [(C34)](https://en.wikipedia.org/wiki/Lung_cancer) series belongs to **Malignant neoplasm of bronchus and lung**"
   ]
  },
  {
   "cell_type": "markdown",
   "metadata": {},
   "source": [
    "### Shape of hist for Age of People who committed suicide"
   ]
  },
  {
   "cell_type": "code",
   "execution_count": 97,
   "metadata": {},
   "outputs": [
    {
     "data": {
      "text/plain": [
       "<matplotlib.axes._subplots.AxesSubplot at 0x11cd63a90>"
      ]
     },
     "execution_count": 97,
     "metadata": {},
     "output_type": "execute_result"
    },
    {
     "data": {
      "image/png": "[encoded data removed]",
      "text/plain": [
       "<Figure size 640x480 with 1 Axes>"
      ]
     },
     "metadata": {},
     "output_type": "display_data"
    }
   ],
   "source": [
    "df[df[\"Manner_Of_Death\"] == 2][\"Age_Value\"].hist()"
   ]
  },
  {
   "cell_type": "markdown",
   "metadata": {},
   "source": [
    "## Transforming data (For Machine Learning Training)"
   ]
  },
  {
   "cell_type": "code",
   "execution_count": 98,
   "metadata": {},
   "outputs": [],
   "source": [
    "# Models\n",
    "from sklearn.ensemble import RandomForestClassifier\n",
    "\n",
    "# Metrics and utility\n",
    "from sklearn.metrics import accuracy_score\n",
    "import pickle\n",
    "from sklearn.model_selection import train_test_split, RandomizedSearchCV"
   ]
  },
  {
   "cell_type": "code",
   "execution_count": 99,
   "metadata": {},
   "outputs": [
    {
     "data": {
      "text/plain": [
       "(100000, 33)"
      ]
     },
     "execution_count": 99,
     "metadata": {},
     "output_type": "execute_result"
    }
   ],
   "source": [
    "df.shape"
   ]
  },
  {
   "cell_type": "markdown",
   "metadata": {},
   "source": [
    "### Predicting Marital Status based on details of the person's death (Multiclass Classification)"
   ]
  },
  {
   "cell_type": "code",
   "execution_count": 100,
   "metadata": {},
   "outputs": [],
   "source": [
    "def mapStringToNumbers(feature):\n",
    "    unq = feature.unique().tolist()\n",
    "    return (feature.apply(unq.index), unq)"
   ]
  },
  {
   "cell_type": "code",
   "execution_count": 101,
   "metadata": {},
   "outputs": [],
   "source": [
    "def mapFeature(feature):\n",
    "    return mapStringToNumbers(feature)[0] if feature.dtype == type(object) else feature"
   ]
  },
  {
   "cell_type": "code",
   "execution_count": 102,
   "metadata": {},
   "outputs": [
    {
     "data": {
      "text/plain": [
       "Index(['Resident_Status', 'Month_Of_Death', 'Sex', 'Age_Key', 'Age_Value',\n",
       "       'Age_Recode_52', 'Age_Recode_27', 'Age_Recode_12', 'Place_Of_Death',\n",
       "       'Marital_Status', 'DOW_of_Death', 'Data_Year', 'Injured_At_Work',\n",
       "       'Manner_Of_Death', 'Method_Of_Disposition', 'Autopsy', 'ICD10',\n",
       "       'Cause_Recode_358', 'Cause_Recode_113', 'Cause_Recode_39',\n",
       "       'Entity_Axis_Conditions', 'EAC1', 'EAC2', 'EAC3',\n",
       "       'Record_Axis_Conditions', 'RA1', 'RA2', 'RA3', 'Race', 'Race_Recode_3',\n",
       "       'Race_Recode_5', 'Hispanic_Origin', 'Hispanic_Origin_Recode'],\n",
       "      dtype='object')"
      ]
     },
     "execution_count": 102,
     "metadata": {},
     "output_type": "execute_result"
    }
   ],
   "source": [
    "df.columns"
   ]
  },
  {
   "cell_type": "code",
   "execution_count": 133,
   "metadata": {},
   "outputs": [],
   "source": [
    "invalCols = [\n",
    "    \"EAC1\",\n",
    "    \"EAC2\",\n",
    "    \"EAC3\",\n",
    "    \"ICD10\",\n",
    "    \"Age_Key\",\n",
    "    \"Age_Recode_52\",\n",
    "    \"Age_Recode_27\",\n",
    "    \"Age_Recode_12\",\n",
    "    \"Data_Year\",\n",
    "    \"Cause_Recode_39\",\n",
    "    \"Cause_Recode_358\",\n",
    "    \"Cause_Recode_113\",\n",
    "    \"Cause_Recode_39\",\n",
    "    \"RA1\",\n",
    "    \"RA2\",\n",
    "    \"RA3\",\n",
    "    \"Race_Recode_3\",\n",
    "    \"Race_Recode_5\",\n",
    "    \"Hispanic_Origin_Recode\",\n",
    "]"
   ]
  },
  {
   "cell_type": "code",
   "execution_count": 186,
   "metadata": {},
   "outputs": [],
   "source": [
    "features = df.loc[:, :\"Manner_Of_Death\"].apply(mapFeature)"
   ]
  },
  {
   "cell_type": "code",
   "execution_count": 187,
   "metadata": {},
   "outputs": [
    {
     "data": {
      "text/plain": [
       "14"
      ]
     },
     "execution_count": 187,
     "metadata": {},
     "output_type": "execute_result"
    }
   ],
   "source": [
    "len(features.columns)"
   ]
  },
  {
   "cell_type": "code",
   "execution_count": 188,
   "metadata": {},
   "outputs": [],
   "source": [
    "target = features[\"Sex\"]"
   ]
  },
  {
   "cell_type": "code",
   "execution_count": 189,
   "metadata": {},
   "outputs": [],
   "source": [
    "features = features.drop(columns=[\"Sex\"])"
   ]
  },
  {
   "cell_type": "code",
   "execution_count": 190,
   "metadata": {},
   "outputs": [],
   "source": [
    "X_train, X_test, y_train, y_test = train_test_split(features, target, test_size=0.2, random_state=42)"
   ]
  },
  {
   "cell_type": "code",
   "execution_count": 191,
   "metadata": {},
   "outputs": [],
   "source": [
    "clf = RandomForestClassifier(max_depth=12, n_estimators=20, random_state=42)\n",
    "martialPredictor = clf.fit(X_train, y_train)\n",
    "maritalPrediction = martialPredictor.predict(X_test)"
   ]
  },
  {
   "cell_type": "code",
   "execution_count": 140,
   "metadata": {},
   "outputs": [
    {
     "name": "stdout",
     "output_type": "stream",
     "text": [
      "{'n_estimators': [200, 400, 600, 800, 1000, 1200, 1400, 1600, 1800, 2000], 'max_features': ['auto', 'sqrt'], 'max_depth': [10, 20, 30, 40, 50, 60, 70, 80, 90, 100, 110, None], 'min_samples_split': [2, 5, 10], 'min_samples_leaf': [1, 2, 4], 'bootstrap': [True, False]}\n"
     ]
    }
   ],
   "source": [
    "n_estimators = [int(x) for x in np.linspace(start = 200, stop = 2000, num = 10)]\n",
    "\n",
    "max_features = ['auto', 'sqrt']\n",
    "\n",
    "max_depth = [int(x) for x in np.linspace(10, 110, num = 11)]\n",
    "max_depth.append(None)\n",
    "\n",
    "min_samples_split = [2, 5, 10]\n",
    "\n",
    "min_samples_leaf = [1, 2, 4]\n",
    "\n",
    "bootstrap = [True, False]\n",
    "\n",
    "random_grid = {'n_estimators': n_estimators,\n",
    "               'max_features': max_features,\n",
    "               'max_depth': max_depth,\n",
    "               'min_samples_split': min_samples_split,\n",
    "               'min_samples_leaf': min_samples_leaf,\n",
    "               'bootstrap': bootstrap}\n",
    "print(random_grid)"
   ]
  },
  {
   "cell_type": "code",
   "execution_count": 141,
   "metadata": {},
   "outputs": [],
   "source": [
    "# rcf = RandomizedSearchCV(estimator=clf, param_distributions=random_grid, n_iter = 100, cv = 3, verbose=2, random_state=42, n_jobs = -1)"
   ]
  },
  {
   "cell_type": "code",
   "execution_count": 142,
   "metadata": {},
   "outputs": [],
   "source": [
    "# rcf.fit(X_train, y_train)"
   ]
  },
  {
   "cell_type": "code",
   "execution_count": 192,
   "metadata": {
    "scrolled": false
   },
   "outputs": [
    {
     "data": {
      "text/plain": [
       "'66.7 %'"
      ]
     },
     "execution_count": 192,
     "metadata": {},
     "output_type": "execute_result"
    }
   ],
   "source": [
    "\"{:0.1f} %\".format(accuracy_score(y_test, maritalPrediction)*100)"
   ]
  },
  {
   "cell_type": "markdown",
   "metadata": {},
   "source": [
    "### Loading and Saving model training"
   ]
  },
  {
   "cell_type": "code",
   "execution_count": 144,
   "metadata": {},
   "outputs": [],
   "source": [
    "# pickle.dump(rcf, open(\"random_forest_optimized.pkl\", \"wb\"))"
   ]
  },
  {
   "cell_type": "code",
   "execution_count": 145,
   "metadata": {},
   "outputs": [],
   "source": [
    "pk = pickle.load(open(\"random_forest_optimized.pkl\", \"rb\"))"
   ]
  },
  {
   "cell_type": "code",
   "execution_count": 146,
   "metadata": {
    "scrolled": true
   },
   "outputs": [],
   "source": [
    "# maritalPrediction = pk.predict(X_test)"
   ]
  },
  {
   "cell_type": "code",
   "execution_count": 147,
   "metadata": {
    "scrolled": true
   },
   "outputs": [
    {
     "data": {
      "text/plain": [
       "'57.0 %'"
      ]
     },
     "execution_count": 147,
     "metadata": {},
     "output_type": "execute_result"
    }
   ],
   "source": [
    "\"{:0.0f}.0 %\".format(accuracy_score(maritalPrediction, y_test)*100)"
   ]
  },
  {
   "cell_type": "code",
   "execution_count": 149,
   "metadata": {},
   "outputs": [
    {
     "data": {
      "text/plain": [
       "Index(['Resident_Status', 'Month_Of_Death', 'Sex', 'Age_Key', 'Age_Value',\n",
       "       'Age_Recode_52', 'Age_Recode_27', 'Age_Recode_12', 'Place_Of_Death',\n",
       "       'Marital_Status', 'DOW_of_Death', 'Data_Year', 'Injured_At_Work',\n",
       "       'Manner_Of_Death', 'Method_Of_Disposition', 'Autopsy', 'ICD10',\n",
       "       'Cause_Recode_358', 'Cause_Recode_113', 'Cause_Recode_39',\n",
       "       'Entity_Axis_Conditions', 'EAC1', 'EAC2', 'EAC3',\n",
       "       'Record_Axis_Conditions', 'RA1', 'RA2', 'RA3', 'Race', 'Race_Recode_3',\n",
       "       'Race_Recode_5', 'Hispanic_Origin', 'Hispanic_Origin_Recode'],\n",
       "      dtype='object')"
      ]
     },
     "execution_count": 149,
     "metadata": {},
     "output_type": "execute_result"
    }
   ],
   "source": [
    "df.columns"
   ]
  },
  {
   "cell_type": "code",
   "execution_count": 150,
   "metadata": {},
   "outputs": [
    {
     "data": {
      "text/plain": [
       "[1, 2, 3, 4, 5, 6, 7, 18, 28, 38, 48, 58, 68, 78]"
      ]
     },
     "execution_count": 150,
     "metadata": {},
     "output_type": "execute_result"
    }
   ],
   "source": [
    "sorted(df[\"Race\"].unique())"
   ]
  },
  {
   "cell_type": "markdown",
   "metadata": {},
   "source": [
    "### Predict age according to condititons"
   ]
  },
  {
   "cell_type": "code",
   "execution_count": 151,
   "metadata": {},
   "outputs": [],
   "source": [
    "from sklearn.linear_model import LinearRegression\n",
    "from sklearn.ensemble import RandomForestRegressor\n",
    "from sklearn.metrics import r2_score"
   ]
  },
  {
   "cell_type": "code",
   "execution_count": 152,
   "metadata": {},
   "outputs": [],
   "source": [
    "atFeatures = df.loc[:, \"Sex\": \"Marital_Status\"].apply(mapFeature)"
   ]
  },
  {
   "cell_type": "code",
   "execution_count": 153,
   "metadata": {
    "scrolled": true
   },
   "outputs": [
    {
     "data": {
      "text/plain": [
       "Index(['Resident_Status', 'Month_Of_Death', 'Sex', 'Age_Key', 'Age_Value',\n",
       "       'Age_Recode_52', 'Age_Recode_27', 'Age_Recode_12', 'Place_Of_Death',\n",
       "       'Marital_Status', 'DOW_of_Death', 'Data_Year', 'Injured_At_Work',\n",
       "       'Manner_Of_Death', 'Method_Of_Disposition', 'Autopsy', 'ICD10',\n",
       "       'Cause_Recode_358', 'Cause_Recode_113', 'Cause_Recode_39',\n",
       "       'Entity_Axis_Conditions', 'EAC1', 'EAC2', 'EAC3',\n",
       "       'Record_Axis_Conditions', 'RA1', 'RA2', 'RA3', 'Race', 'Race_Recode_3',\n",
       "       'Race_Recode_5', 'Hispanic_Origin', 'Hispanic_Origin_Recode'],\n",
       "      dtype='object')"
      ]
     },
     "execution_count": 153,
     "metadata": {},
     "output_type": "execute_result"
    }
   ],
   "source": [
    "df.columns"
   ]
  },
  {
   "cell_type": "code",
   "execution_count": 154,
   "metadata": {},
   "outputs": [],
   "source": [
    "atFeatures = atFeatures.drop(columns=[\"Place_Of_Death\"])"
   ]
  },
  {
   "cell_type": "code",
   "execution_count": 155,
   "metadata": {
    "scrolled": false
   },
   "outputs": [
    {
     "data": {
      "text/plain": [
       "Index(['Sex', 'Age_Key', 'Age_Value', 'Age_Recode_52', 'Age_Recode_27',\n",
       "       'Age_Recode_12', 'Marital_Status'],\n",
       "      dtype='object')"
      ]
     },
     "execution_count": 155,
     "metadata": {},
     "output_type": "execute_result"
    }
   ],
   "source": [
    "atFeatures.columns"
   ]
  },
  {
   "cell_type": "code",
   "execution_count": 156,
   "metadata": {},
   "outputs": [],
   "source": [
    "atTarget = atFeatures[\"Age_Value\"]"
   ]
  },
  {
   "cell_type": "code",
   "execution_count": 157,
   "metadata": {},
   "outputs": [],
   "source": [
    "atFeatures = atFeatures.drop(columns=[\"Age_Value\"])"
   ]
  },
  {
   "cell_type": "code",
   "execution_count": 158,
   "metadata": {},
   "outputs": [],
   "source": [
    "X_train, X_test, y_train, y_test = train_test_split(atFeatures, atTarget, test_size=0.33, random_state=42)"
   ]
  },
  {
   "cell_type": "code",
   "execution_count": 159,
   "metadata": {},
   "outputs": [],
   "source": [
    "# atPredictor = LinearRegression(fit_intercept=True, n_jobs=4).fit(X_train, y_train)\n",
    "atPredictor = RandomForestRegressor(max_depth=14, n_estimators=20, random_state=42).fit(X_train, y_train)"
   ]
  },
  {
   "cell_type": "code",
   "execution_count": 160,
   "metadata": {},
   "outputs": [],
   "source": [
    "atPredictions = list(map(int, atPredictor.predict(X_test)))"
   ]
  },
  {
   "cell_type": "code",
   "execution_count": 161,
   "metadata": {},
   "outputs": [
    {
     "data": {
      "text/plain": [
       "[87,\n",
       " 67,\n",
       " 67,\n",
       " 52,\n",
       " 36,\n",
       " 81,\n",
       " 91,\n",
       " 42,\n",
       " 77,\n",
       " 86,\n",
       " 52,\n",
       " 76,\n",
       " 82,\n",
       " 52,\n",
       " 72,\n",
       " 72,\n",
       " 86,\n",
       " 81,\n",
       " 62,\n",
       " 82,\n",
       " 87,\n",
       " 57,\n",
       " 77,\n",
       " 87,\n",
       " 72,\n",
       " 91,\n",
       " 47,\n",
       " 67,\n",
       " 91,\n",
       " 82,\n",
       " 66,\n",
       " 52,\n",
       " 62,\n",
       " 67,\n",
       " 52,\n",
       " 96,\n",
       " 62,\n",
       " 82,\n",
       " 36,\n",
       " 77,\n",
       " 81,\n",
       " 52,\n",
       " 72,\n",
       " 36,\n",
       " 47,\n",
       " 91,\n",
       " 62,\n",
       " 86,\n",
       " 77,\n",
       " 77,\n",
       " 81,\n",
       " 57,\n",
       " 82,\n",
       " 101,\n",
       " 81,\n",
       " 101,\n",
       " 72,\n",
       " 52,\n",
       " 86,\n",
       " 72,\n",
       " 82,\n",
       " 96,\n",
       " 17,\n",
       " 27,\n",
       " 72,\n",
       " 57,\n",
       " 77,\n",
       " 62,\n",
       " 21,\n",
       " 32,\n",
       " 91,\n",
       " 41,\n",
       " 81,\n",
       " 77,\n",
       " 87,\n",
       " 77,\n",
       " 96,\n",
       " 77,\n",
       " 67,\n",
       " 67,\n",
       " 81,\n",
       " 57,\n",
       " 37,\n",
       " 81,\n",
       " 72,\n",
       " 81,\n",
       " 91,\n",
       " 57,\n",
       " 62,\n",
       " 87,\n",
       " 67,\n",
       " 8,\n",
       " 77,\n",
       " 66,\n",
       " 27,\n",
       " 67,\n",
       " 82,\n",
       " 87,\n",
       " 87,\n",
       " 37,\n",
       " 67,\n",
       " 47,\n",
       " 96,\n",
       " 86,\n",
       " 82,\n",
       " 81,\n",
       " 91,\n",
       " 67,\n",
       " 82,\n",
       " 62,\n",
       " 3,\n",
       " 72,\n",
       " 62,\n",
       " 61,\n",
       " 87,\n",
       " 87,\n",
       " 67,\n",
       " 96,\n",
       " 81,\n",
       " 91,\n",
       " 81,\n",
       " 72,\n",
       " 67,\n",
       " 87,\n",
       " 72,\n",
       " 66,\n",
       " 81,\n",
       " 81,\n",
       " 81,\n",
       " 81,\n",
       " 62,\n",
       " 81,\n",
       " 62,\n",
       " 81,\n",
       " 62,\n",
       " 77,\n",
       " 81,\n",
       " 67,\n",
       " 81,\n",
       " 72,\n",
       " 67,\n",
       " 57,\n",
       " 77,\n",
       " 87,\n",
       " 52,\n",
       " 82,\n",
       " 67,\n",
       " 87,\n",
       " 91,\n",
       " 91,\n",
       " 87,\n",
       " 61,\n",
       " 71,\n",
       " 62,\n",
       " 91,\n",
       " 57,\n",
       " 72,\n",
       " 62,\n",
       " 52,\n",
       " 77,\n",
       " 77,\n",
       " 82,\n",
       " 91,\n",
       " 52,\n",
       " 82,\n",
       " 77,\n",
       " 72,\n",
       " 47,\n",
       " 47,\n",
       " 72,\n",
       " 91,\n",
       " 67,\n",
       " 77,\n",
       " 52,\n",
       " 76,\n",
       " 87,\n",
       " 81,\n",
       " 72,\n",
       " 62,\n",
       " 66,\n",
       " 72,\n",
       " 72,\n",
       " 62,\n",
       " 87,\n",
       " 66,\n",
       " 4,\n",
       " 87,\n",
       " 82,\n",
       " 71,\n",
       " 67,\n",
       " 57,\n",
       " 81,\n",
       " 86,\n",
       " 72,\n",
       " 62,\n",
       " 82,\n",
       " 67,\n",
       " 82,\n",
       " 72,\n",
       " 91,\n",
       " 72,\n",
       " 57,\n",
       " 86,\n",
       " 86,\n",
       " 72,\n",
       " 81,\n",
       " 72,\n",
       " 62,\n",
       " 86,\n",
       " 91,\n",
       " 67,\n",
       " 21,\n",
       " 61,\n",
       " 77,\n",
       " 87,\n",
       " 87,\n",
       " 81,\n",
       " 76,\n",
       " 77,\n",
       " 32,\n",
       " 82,\n",
       " 52,\n",
       " 91,\n",
       " 71,\n",
       " 91,\n",
       " 67,\n",
       " 66,\n",
       " 57,\n",
       " 86,\n",
       " 101,\n",
       " 96,\n",
       " 91,\n",
       " 91,\n",
       " 62,\n",
       " 77,\n",
       " 52,\n",
       " 82,\n",
       " 71,\n",
       " 52,\n",
       " 91,\n",
       " 77,\n",
       " 81,\n",
       " 61,\n",
       " 77,\n",
       " 96,\n",
       " 67,\n",
       " 32,\n",
       " 81,\n",
       " 62,\n",
       " 91,\n",
       " 62,\n",
       " 57,\n",
       " 87,\n",
       " 67,\n",
       " 72,\n",
       " 91,\n",
       " 61,\n",
       " 41,\n",
       " 87,\n",
       " 87,\n",
       " 52,\n",
       " 66,\n",
       " 61,\n",
       " 77,\n",
       " 66,\n",
       " 67,\n",
       " 76,\n",
       " 91,\n",
       " 82,\n",
       " 52,\n",
       " 96,\n",
       " 57,\n",
       " 57,\n",
       " 96,\n",
       " 86,\n",
       " 71,\n",
       " 96,\n",
       " 62,\n",
       " 66,\n",
       " 86,\n",
       " 67,\n",
       " 66,\n",
       " 77,\n",
       " 62,\n",
       " 96,\n",
       " 66,\n",
       " 81,\n",
       " 72,\n",
       " 62,\n",
       " 86,\n",
       " 77,\n",
       " 86,\n",
       " 77,\n",
       " 42,\n",
       " 72,\n",
       " 87,\n",
       " 81,\n",
       " 81,\n",
       " 62,\n",
       " 67,\n",
       " 81,\n",
       " 81,\n",
       " 96,\n",
       " 96,\n",
       " 61,\n",
       " 62,\n",
       " 91,\n",
       " 96,\n",
       " 61,\n",
       " 62,\n",
       " 61,\n",
       " 67,\n",
       " 52,\n",
       " 86,\n",
       " 91,\n",
       " 91,\n",
       " 52,\n",
       " 77,\n",
       " 72,\n",
       " 67,\n",
       " 76,\n",
       " 67,\n",
       " 27,\n",
       " 67,\n",
       " 87,\n",
       " 57,\n",
       " 81,\n",
       " 67,\n",
       " 46,\n",
       " 91,\n",
       " 77,\n",
       " 62,\n",
       " 77,\n",
       " 82,\n",
       " 66,\n",
       " 67,\n",
       " 72,\n",
       " 52,\n",
       " 77,\n",
       " 62,\n",
       " 96,\n",
       " 67,\n",
       " 4,\n",
       " 77,\n",
       " 77,\n",
       " 91,\n",
       " 67,\n",
       " 67,\n",
       " 66,\n",
       " 86,\n",
       " 81,\n",
       " 81,\n",
       " 86,\n",
       " 62,\n",
       " 62,\n",
       " 41,\n",
       " 82,\n",
       " 87,\n",
       " 67,\n",
       " 62,\n",
       " 96,\n",
       " 71,\n",
       " 72,\n",
       " 81,\n",
       " 82,\n",
       " 67,\n",
       " 56,\n",
       " 37,\n",
       " 52,\n",
       " 62,\n",
       " 66,\n",
       " 96,\n",
       " 87,\n",
       " 87,\n",
       " 86,\n",
       " 87,\n",
       " 61,\n",
       " 77,\n",
       " 91,\n",
       " 72,\n",
       " 77,\n",
       " 62,\n",
       " 87,\n",
       " 57,\n",
       " 101,\n",
       " 17,\n",
       " 52,\n",
       " 76,\n",
       " 82,\n",
       " 77,\n",
       " 82,\n",
       " 76,\n",
       " 67,\n",
       " 47,\n",
       " 91,\n",
       " 66,\n",
       " 81,\n",
       " 46,\n",
       " 62,\n",
       " 76,\n",
       " 21,\n",
       " 66,\n",
       " 87,\n",
       " 67,\n",
       " 72,\n",
       " 42,\n",
       " 21,\n",
       " 41,\n",
       " 62,\n",
       " 72,\n",
       " 77,\n",
       " 67,\n",
       " 67,\n",
       " 47,\n",
       " 86,\n",
       " 81,\n",
       " 87,\n",
       " 87,\n",
       " 47,\n",
       " 72,\n",
       " 87,\n",
       " 57,\n",
       " 36,\n",
       " 87,\n",
       " 86,\n",
       " 86,\n",
       " 67,\n",
       " 76,\n",
       " 81,\n",
       " 82,\n",
       " 77,\n",
       " 77,\n",
       " 82,\n",
       " 1,\n",
       " 47,\n",
       " 87,\n",
       " 66,\n",
       " 91,\n",
       " 81,\n",
       " 67,\n",
       " 21,\n",
       " 61,\n",
       " 67,\n",
       " 82,\n",
       " 81,\n",
       " 81,\n",
       " 77,\n",
       " 77,\n",
       " 91,\n",
       " 96,\n",
       " 100,\n",
       " 61,\n",
       " 72,\n",
       " 82,\n",
       " 57,\n",
       " 52,\n",
       " 62,\n",
       " 52,\n",
       " 86,\n",
       " 91,\n",
       " 82,\n",
       " 67,\n",
       " 77,\n",
       " 57,\n",
       " 91,\n",
       " 52,\n",
       " 86,\n",
       " 82,\n",
       " 87,\n",
       " 81,\n",
       " 86,\n",
       " 62,\n",
       " 81,\n",
       " 76,\n",
       " 87,\n",
       " 91,\n",
       " 76,\n",
       " 87,\n",
       " 91,\n",
       " 87,\n",
       " 57,\n",
       " 82,\n",
       " 72,\n",
       " 66,\n",
       " 86,\n",
       " 72,\n",
       " 81,\n",
       " 57,\n",
       " 57,\n",
       " 81,\n",
       " 62,\n",
       " 67,\n",
       " 81,\n",
       " 57,\n",
       " 77,\n",
       " 62,\n",
       " 77,\n",
       " 36,\n",
       " 91,\n",
       " 72,\n",
       " 81,\n",
       " 72,\n",
       " 86,\n",
       " 81,\n",
       " 82,\n",
       " 52,\n",
       " 101,\n",
       " 62,\n",
       " 77,\n",
       " 62,\n",
       " 57,\n",
       " 72,\n",
       " 62,\n",
       " 87,\n",
       " 101,\n",
       " 87,\n",
       " 57,\n",
       " 91,\n",
       " 72,\n",
       " 57,\n",
       " 86,\n",
       " 47,\n",
       " 86,\n",
       " 82,\n",
       " 82,\n",
       " 87,\n",
       " 66,\n",
       " 61,\n",
       " 96,\n",
       " 76,\n",
       " 91,\n",
       " 61,\n",
       " 81,\n",
       " 57,\n",
       " 77,\n",
       " 72,\n",
       " 66,\n",
       " 47,\n",
       " 57,\n",
       " 67,\n",
       " 86,\n",
       " 77,\n",
       " 86,\n",
       " 77,\n",
       " 61,\n",
       " 77,\n",
       " 67,\n",
       " 91,\n",
       " 91,\n",
       " 52,\n",
       " 91,\n",
       " 81,\n",
       " 47,\n",
       " 57,\n",
       " 62,\n",
       " 77,\n",
       " 77,\n",
       " 27,\n",
       " 96,\n",
       " 91,\n",
       " 72,\n",
       " 67,\n",
       " 12,\n",
       " 87,\n",
       " 72,\n",
       " 72,\n",
       " 72,\n",
       " 77,\n",
       " 57,\n",
       " 77,\n",
       " 67,\n",
       " 71,\n",
       " 96,\n",
       " 82,\n",
       " 61,\n",
       " 101,\n",
       " 57,\n",
       " 96,\n",
       " 37,\n",
       " 72,\n",
       " 57,\n",
       " 32,\n",
       " 66,\n",
       " 36,\n",
       " 47,\n",
       " 91,\n",
       " 86,\n",
       " 42,\n",
       " 47,\n",
       " 71,\n",
       " 62,\n",
       " 87,\n",
       " 62,\n",
       " 81,\n",
       " 77,\n",
       " 86,\n",
       " 52,\n",
       " 87,\n",
       " 77,\n",
       " 66,\n",
       " 57,\n",
       " 42,\n",
       " 42,\n",
       " 61,\n",
       " 81,\n",
       " 87,\n",
       " 42,\n",
       " 62,\n",
       " 72,\n",
       " 101,\n",
       " 76,\n",
       " 82,\n",
       " 77,\n",
       " 91,\n",
       " 1,\n",
       " 72,\n",
       " 71,\n",
       " 91,\n",
       " 91,\n",
       " 81,\n",
       " 72,\n",
       " 61,\n",
       " 21,\n",
       " 57,\n",
       " 52,\n",
       " 32,\n",
       " 21,\n",
       " 81,\n",
       " 91,\n",
       " 27,\n",
       " 87,\n",
       " 72,\n",
       " 91,\n",
       " 82,\n",
       " 86,\n",
       " 67,\n",
       " 56,\n",
       " 61,\n",
       " 86,\n",
       " 72,\n",
       " 77,\n",
       " 71,\n",
       " 67,\n",
       " 77,\n",
       " 57,\n",
       " 77,\n",
       " 81,\n",
       " 66,\n",
       " 57,\n",
       " 77,\n",
       " 87,\n",
       " 72,\n",
       " 87,\n",
       " 52,\n",
       " 66,\n",
       " 67,\n",
       " 82,\n",
       " 47,\n",
       " 81,\n",
       " 81,\n",
       " 77,\n",
       " 57,\n",
       " 71,\n",
       " 76,\n",
       " 62,\n",
       " 77,\n",
       " 96,\n",
       " 52,\n",
       " 9,\n",
       " 27,\n",
       " 77,\n",
       " 67,\n",
       " 87,\n",
       " 77,\n",
       " 72,\n",
       " 71,\n",
       " 57,\n",
       " 66,\n",
       " 82,\n",
       " 87,\n",
       " 77,\n",
       " 61,\n",
       " 87,\n",
       " 42,\n",
       " 91,\n",
       " 21,\n",
       " 87,\n",
       " 67,\n",
       " 62,\n",
       " 52,\n",
       " 86,\n",
       " 72,\n",
       " 77,\n",
       " 67,\n",
       " 82,\n",
       " 77,\n",
       " 57,\n",
       " 87,\n",
       " 57,\n",
       " 81,\n",
       " 77,\n",
       " 81,\n",
       " 82,\n",
       " 86,\n",
       " 77,\n",
       " 57,\n",
       " 62,\n",
       " 76,\n",
       " 42,\n",
       " 86,\n",
       " 67,\n",
       " 52,\n",
       " 86,\n",
       " 77,\n",
       " 81,\n",
       " 66,\n",
       " 77,\n",
       " 57,\n",
       " 81,\n",
       " 52,\n",
       " 77,\n",
       " 71,\n",
       " 57,\n",
       " 61,\n",
       " 61,\n",
       " 72,\n",
       " 67,\n",
       " 72,\n",
       " 21,\n",
       " 81,\n",
       " 61,\n",
       " 32,\n",
       " 37,\n",
       " 67,\n",
       " 81,\n",
       " 77,\n",
       " 67,\n",
       " 91,\n",
       " 32,\n",
       " 67,\n",
       " 41,\n",
       " 81,\n",
       " 96,\n",
       " 62,\n",
       " 81,\n",
       " 82,\n",
       " 21,\n",
       " 72,\n",
       " 62,\n",
       " 86,\n",
       " 91,\n",
       " 28,\n",
       " 86,\n",
       " 96,\n",
       " 77,\n",
       " 72,\n",
       " 87,\n",
       " 71,\n",
       " 71,\n",
       " 82,\n",
       " 72,\n",
       " 72,\n",
       " 72,\n",
       " 91,\n",
       " 52,\n",
       " 81,\n",
       " 91,\n",
       " 77,\n",
       " 81,\n",
       " 72,\n",
       " 17,\n",
       " 101,\n",
       " 77,\n",
       " 81,\n",
       " 57,\n",
       " 81,\n",
       " 91,\n",
       " 82,\n",
       " 76,\n",
       " 91,\n",
       " 57,\n",
       " 1,\n",
       " 77,\n",
       " 77,\n",
       " 91,\n",
       " 71,\n",
       " 71,\n",
       " 72,\n",
       " 82,\n",
       " 67,\n",
       " 82,\n",
       " 91,\n",
       " 96,\n",
       " 62,\n",
       " 71,\n",
       " 81,\n",
       " 57,\n",
       " 77,\n",
       " 81,\n",
       " 62,\n",
       " 82,\n",
       " 47,\n",
       " 81,\n",
       " 87,\n",
       " 81,\n",
       " 72,\n",
       " 91,\n",
       " 47,\n",
       " 91,\n",
       " 77,\n",
       " 47,\n",
       " 37,\n",
       " 87,\n",
       " 91,\n",
       " 17,\n",
       " 96,\n",
       " 81,\n",
       " 62,\n",
       " 91,\n",
       " 82,\n",
       " 66,\n",
       " 57,\n",
       " 66,\n",
       " 81,\n",
       " 91,\n",
       " 67,\n",
       " 87,\n",
       " 2,\n",
       " 36,\n",
       " 72,\n",
       " 96,\n",
       " 82,\n",
       " 67,\n",
       " 66,\n",
       " 52,\n",
       " 96,\n",
       " 17,\n",
       " 67,\n",
       " 61,\n",
       " 62,\n",
       " 82,\n",
       " 62,\n",
       " 56,\n",
       " 87,\n",
       " 81,\n",
       " 77,\n",
       " 52,\n",
       " 52,\n",
       " 67,\n",
       " 62,\n",
       " 37,\n",
       " 36,\n",
       " 77,\n",
       " 91,\n",
       " 66,\n",
       " 62,\n",
       " 96,\n",
       " 82,\n",
       " 57,\n",
       " 91,\n",
       " 57,\n",
       " 62,\n",
       " 57,\n",
       " 57,\n",
       " 77,\n",
       " 81,\n",
       " 86,\n",
       " 87,\n",
       " 91,\n",
       " 72,\n",
       " 57,\n",
       " 61,\n",
       " 52,\n",
       " 77,\n",
       " 52,\n",
       " 57,\n",
       " 86,\n",
       " 72,\n",
       " 12,\n",
       " 46,\n",
       " 72,\n",
       " 67,\n",
       " 81,\n",
       " 57,\n",
       " 87,\n",
       " 91,\n",
       " 20,\n",
       " 91,\n",
       " 86,\n",
       " 81,\n",
       " 42,\n",
       " 72,\n",
       " 72,\n",
       " 32,\n",
       " 91,\n",
       " 96,\n",
       " 4,\n",
       " 91,\n",
       " 77,\n",
       " 86,\n",
       " 81,\n",
       " 87,\n",
       " 62,\n",
       " 67,\n",
       " 27,\n",
       " 67,\n",
       " 77,\n",
       " 72,\n",
       " 81,\n",
       " 87,\n",
       " 81,\n",
       " 91,\n",
       " 47,\n",
       " 57,\n",
       " 77,\n",
       " 61,\n",
       " 82,\n",
       " 1,\n",
       " 57,\n",
       " 82,\n",
       " 72,\n",
       " 72,\n",
       " 96,\n",
       " 57,\n",
       " 91,\n",
       " 82,\n",
       " 72,\n",
       " 62,\n",
       " 61,\n",
       " 82,\n",
       " 81,\n",
       " 57,\n",
       " 81,\n",
       " 101,\n",
       " 62,\n",
       " 66,\n",
       " 81,\n",
       " 77,\n",
       " 82,\n",
       " 96,\n",
       " 72,\n",
       " 21,\n",
       " 57,\n",
       " 3,\n",
       " 77,\n",
       " 81,\n",
       " 77,\n",
       " 57,\n",
       " 66,\n",
       " 57,\n",
       " 91,\n",
       " 91,\n",
       " 57,\n",
       " 67,\n",
       " 62,\n",
       " 32,\n",
       " 77,\n",
       " 47,\n",
       " 42,\n",
       " 86,\n",
       " 37,\n",
       " 62,\n",
       " 77,\n",
       " 77,\n",
       " 91,\n",
       " 77,\n",
       " 96,\n",
       " 66,\n",
       " 52,\n",
       " 61,\n",
       " 82,\n",
       " 52,\n",
       " 42,\n",
       " 72,\n",
       " 81,\n",
       " 77,\n",
       " 96,\n",
       " 71,\n",
       " 61,\n",
       " 72,\n",
       " 86,\n",
       " 72,\n",
       " 47,\n",
       " 81,\n",
       " 82,\n",
       " 72,\n",
       " 62,\n",
       " 91,\n",
       " 96,\n",
       " 52,\n",
       " 86,\n",
       " 56,\n",
       " 61,\n",
       " 87,\n",
       " 77,\n",
       " 86,\n",
       " 67,\n",
       " 87,\n",
       " 72,\n",
       " 86,\n",
       " ...]"
      ]
     },
     "execution_count": 161,
     "metadata": {},
     "output_type": "execute_result"
    }
   ],
   "source": [
    "atPredictions"
   ]
  },
  {
   "cell_type": "code",
   "execution_count": 162,
   "metadata": {},
   "outputs": [
    {
     "data": {
      "text/plain": [
       "'21.45 %'"
      ]
     },
     "execution_count": 162,
     "metadata": {},
     "output_type": "execute_result"
    }
   ],
   "source": [
    "f\"{round(accuracy_score(y_test, atPredictions) * 100, 2) } %\""
   ]
  },
  {
   "cell_type": "markdown",
   "metadata": {},
   "source": [
    "### Clustering"
   ]
  },
  {
   "cell_type": "code",
   "execution_count": 163,
   "metadata": {},
   "outputs": [],
   "source": [
    "from sklearn.cluster import KMeans"
   ]
  },
  {
   "cell_type": "code",
   "execution_count": 164,
   "metadata": {},
   "outputs": [],
   "source": [
    "X = df.apply(mapFeature)"
   ]
  },
  {
   "cell_type": "code",
   "execution_count": 165,
   "metadata": {},
   "outputs": [],
   "source": [
    "predictor = KMeans(n_clusters=4, random_state=0).fit(X)"
   ]
  },
  {
   "cell_type": "code",
   "execution_count": 166,
   "metadata": {},
   "outputs": [],
   "source": [
    "y_means = predictor.predict(X)"
   ]
  },
  {
   "cell_type": "code",
   "execution_count": 167,
   "metadata": {},
   "outputs": [],
   "source": [
    "centers = predictor.cluster_centers_"
   ]
  },
  {
   "cell_type": "code",
   "execution_count": 168,
   "metadata": {},
   "outputs": [
    {
     "data": {
      "text/plain": [
       "Index(['Resident_Status', 'Month_Of_Death', 'Sex', 'Age_Key', 'Age_Value',\n",
       "       'Age_Recode_52', 'Age_Recode_27', 'Age_Recode_12', 'Place_Of_Death',\n",
       "       'Marital_Status', 'DOW_of_Death', 'Data_Year', 'Injured_At_Work',\n",
       "       'Manner_Of_Death', 'Method_Of_Disposition', 'Autopsy', 'ICD10',\n",
       "       'Cause_Recode_358', 'Cause_Recode_113', 'Cause_Recode_39',\n",
       "       'Entity_Axis_Conditions', 'EAC1', 'EAC2', 'EAC3',\n",
       "       'Record_Axis_Conditions', 'RA1', 'RA2', 'RA3', 'Race', 'Race_Recode_3',\n",
       "       'Race_Recode_5', 'Hispanic_Origin', 'Hispanic_Origin_Recode'],\n",
       "      dtype='object')"
      ]
     },
     "execution_count": 168,
     "metadata": {},
     "output_type": "execute_result"
    }
   ],
   "source": [
    "X.columns"
   ]
  },
  {
   "cell_type": "code",
   "execution_count": 169,
   "metadata": {},
   "outputs": [
    {
     "data": {
      "image/png": "[encoded data removed]",
      "text/plain": [
       "<Figure size 640x480 with 1 Axes>"
      ]
     },
     "metadata": {},
     "output_type": "display_data"
    }
   ],
   "source": [
    "plt.scatter(X.loc[:, \"Age_Value\"], X.loc[:, \"Age_Key\"], c=y_means, s=50, cmap='viridis')\n",
    "plt.scatter(centers[:, 4], centers[:, 3], c='black', s=200, alpha=0.5);"
   ]
  },
  {
   "cell_type": "code",
   "execution_count": 171,
   "metadata": {},
   "outputs": [
    {
     "data": {
      "text/plain": [
       "Resident_Status             0.0\n",
       "Month_Of_Death              6.0\n",
       "Age_Key                     0.0\n",
       "Age_Value                  23.0\n",
       "Age_Recode_52               5.0\n",
       "Age_Recode_27               5.0\n",
       "Age_Recode_12               3.0\n",
       "Place_Of_Death              4.0\n",
       "DOW_of_Death                4.0\n",
       "Data_Year                   0.0\n",
       "Manner_Of_Death             0.0\n",
       "Cause_Recode_358          108.0\n",
       "Cause_Recode_113           44.0\n",
       "Cause_Recode_39            20.0\n",
       "Entity_Axis_Conditions      3.0\n",
       "Record_Axis_Conditions      3.0\n",
       "Race                        0.0\n",
       "Race_Recode_3               0.0\n",
       "Race_Recode_5               0.0\n",
       "Hispanic_Origin             0.0\n",
       "Hispanic_Origin_Recode      0.0\n",
       "dtype: float64"
      ]
     },
     "execution_count": 171,
     "metadata": {},
     "output_type": "execute_result"
    }
   ],
   "source": [
    "Q1 = df.quantile(0.25)\n",
    "Q3 = df.quantile(0.75)\n",
    "\n",
    "IQR = Q3-Q1\n",
    "\n",
    "IQR\n",
    "\n",
    "# print(df < (Q1 - 1.5 * IQR)) |(df > (Q3 + 1.5 * IQR))"
   ]
  },
  {
   "cell_type": "markdown",
   "metadata": {},
   "source": [
    "### Race Prediction (2017)"
   ]
  },
  {
   "cell_type": "code",
   "execution_count": 193,
   "metadata": {},
   "outputs": [],
   "source": [
    "features = df.loc[:,\"RA1\":\"Race\"].apply(mapFeature)"
   ]
  },
  {
   "cell_type": "code",
   "execution_count": 194,
   "metadata": {},
   "outputs": [
    {
     "data": {
      "text/html": [
       "<div>\n",
       "<style scoped>\n",
       "    .dataframe tbody tr th:only-of-type {\n",
       "        vertical-align: middle;\n",
       "    }\n",
       "\n",
       "    .dataframe tbody tr th {\n",
       "        vertical-align: top;\n",
       "    }\n",
       "\n",
       "    .dataframe thead th {\n",
       "        text-align: right;\n",
       "    }\n",
       "</style>\n",
       "<table border=\"1\" class=\"dataframe\">\n",
       "  <thead>\n",
       "    <tr style=\"text-align: right;\">\n",
       "      <th></th>\n",
       "      <th>RA1</th>\n",
       "      <th>RA2</th>\n",
       "      <th>RA3</th>\n",
       "      <th>Race</th>\n",
       "    </tr>\n",
       "  </thead>\n",
       "  <tbody>\n",
       "    <tr>\n",
       "      <td>0</td>\n",
       "      <td>0</td>\n",
       "      <td>0</td>\n",
       "      <td>0</td>\n",
       "      <td>1</td>\n",
       "    </tr>\n",
       "    <tr>\n",
       "      <td>1</td>\n",
       "      <td>1</td>\n",
       "      <td>1</td>\n",
       "      <td>0</td>\n",
       "      <td>1</td>\n",
       "    </tr>\n",
       "    <tr>\n",
       "      <td>2</td>\n",
       "      <td>2</td>\n",
       "      <td>0</td>\n",
       "      <td>0</td>\n",
       "      <td>1</td>\n",
       "    </tr>\n",
       "    <tr>\n",
       "      <td>3</td>\n",
       "      <td>3</td>\n",
       "      <td>0</td>\n",
       "      <td>0</td>\n",
       "      <td>3</td>\n",
       "    </tr>\n",
       "    <tr>\n",
       "      <td>4</td>\n",
       "      <td>4</td>\n",
       "      <td>2</td>\n",
       "      <td>1</td>\n",
       "      <td>1</td>\n",
       "    </tr>\n",
       "    <tr>\n",
       "      <td>...</td>\n",
       "      <td>...</td>\n",
       "      <td>...</td>\n",
       "      <td>...</td>\n",
       "      <td>...</td>\n",
       "    </tr>\n",
       "    <tr>\n",
       "      <td>99995</td>\n",
       "      <td>159</td>\n",
       "      <td>1</td>\n",
       "      <td>111</td>\n",
       "      <td>1</td>\n",
       "    </tr>\n",
       "    <tr>\n",
       "      <td>99996</td>\n",
       "      <td>9</td>\n",
       "      <td>24</td>\n",
       "      <td>0</td>\n",
       "      <td>1</td>\n",
       "    </tr>\n",
       "    <tr>\n",
       "      <td>99997</td>\n",
       "      <td>9</td>\n",
       "      <td>24</td>\n",
       "      <td>0</td>\n",
       "      <td>1</td>\n",
       "    </tr>\n",
       "    <tr>\n",
       "      <td>99998</td>\n",
       "      <td>20</td>\n",
       "      <td>0</td>\n",
       "      <td>0</td>\n",
       "      <td>1</td>\n",
       "    </tr>\n",
       "    <tr>\n",
       "      <td>99999</td>\n",
       "      <td>40</td>\n",
       "      <td>0</td>\n",
       "      <td>0</td>\n",
       "      <td>1</td>\n",
       "    </tr>\n",
       "  </tbody>\n",
       "</table>\n",
       "<p>100000 rows × 4 columns</p>\n",
       "</div>"
      ],
      "text/plain": [
       "       RA1  RA2  RA3  Race\n",
       "0        0    0    0     1\n",
       "1        1    1    0     1\n",
       "2        2    0    0     1\n",
       "3        3    0    0     3\n",
       "4        4    2    1     1\n",
       "...    ...  ...  ...   ...\n",
       "99995  159    1  111     1\n",
       "99996    9   24    0     1\n",
       "99997    9   24    0     1\n",
       "99998   20    0    0     1\n",
       "99999   40    0    0     1\n",
       "\n",
       "[100000 rows x 4 columns]"
      ]
     },
     "execution_count": 194,
     "metadata": {},
     "output_type": "execute_result"
    }
   ],
   "source": [
    "features"
   ]
  },
  {
   "cell_type": "code",
   "execution_count": 195,
   "metadata": {},
   "outputs": [],
   "source": [
    "target = features[\"Race\"]"
   ]
  },
  {
   "cell_type": "code",
   "execution_count": 196,
   "metadata": {},
   "outputs": [],
   "source": [
    "features = features.drop(columns=[\"Race\"])"
   ]
  },
  {
   "cell_type": "code",
   "execution_count": 197,
   "metadata": {},
   "outputs": [],
   "source": [
    "X_train, X_test, y_train, y_test = train_test_split(features, target, test_size=0.2, random_state=42)"
   ]
  },
  {
   "cell_type": "code",
   "execution_count": 198,
   "metadata": {},
   "outputs": [],
   "source": [
    "clf = RandomForestClassifier(max_depth=14, n_estimators=20, random_state=42)\n",
    "racePredictor = clf.fit(X_train, y_train)\n",
    "racePrediction = racePredictor.predict(X_test)"
   ]
  },
  {
   "cell_type": "code",
   "execution_count": 199,
   "metadata": {},
   "outputs": [
    {
     "data": {
      "text/plain": [
       "'81.33 %'"
      ]
     },
     "execution_count": 199,
     "metadata": {},
     "output_type": "execute_result"
    }
   ],
   "source": [
    "f\"{round(accuracy_score(y_test, racePrediction) * 100, 2)} %\""
   ]
  },
  {
   "cell_type": "markdown",
   "metadata": {},
   "source": [
    "### Person Race Prediction (2007)"
   ]
  },
  {
   "cell_type": "code",
   "execution_count": 200,
   "metadata": {},
   "outputs": [],
   "source": [
    "oldFeatures = odf.loc[:,\"RA1\":\"Race\"].apply(mapFeature)"
   ]
  },
  {
   "cell_type": "code",
   "execution_count": 201,
   "metadata": {
    "scrolled": true
   },
   "outputs": [
    {
     "data": {
      "text/html": [
       "<div>\n",
       "<style scoped>\n",
       "    .dataframe tbody tr th:only-of-type {\n",
       "        vertical-align: middle;\n",
       "    }\n",
       "\n",
       "    .dataframe tbody tr th {\n",
       "        vertical-align: top;\n",
       "    }\n",
       "\n",
       "    .dataframe thead th {\n",
       "        text-align: right;\n",
       "    }\n",
       "</style>\n",
       "<table border=\"1\" class=\"dataframe\">\n",
       "  <thead>\n",
       "    <tr style=\"text-align: right;\">\n",
       "      <th></th>\n",
       "      <th>RA1</th>\n",
       "      <th>RA2</th>\n",
       "      <th>RA3</th>\n",
       "      <th>RA4</th>\n",
       "      <th>RA5</th>\n",
       "      <th>RA6</th>\n",
       "      <th>RA7</th>\n",
       "      <th>RA8</th>\n",
       "      <th>RA9</th>\n",
       "      <th>RA10</th>\n",
       "      <th>...</th>\n",
       "      <th>RA12</th>\n",
       "      <th>RA13</th>\n",
       "      <th>RA14</th>\n",
       "      <th>RA15</th>\n",
       "      <th>RA16</th>\n",
       "      <th>RA17</th>\n",
       "      <th>RA18</th>\n",
       "      <th>RA19</th>\n",
       "      <th>RA20</th>\n",
       "      <th>Race</th>\n",
       "    </tr>\n",
       "  </thead>\n",
       "  <tbody>\n",
       "    <tr>\n",
       "      <td>0</td>\n",
       "      <td>0</td>\n",
       "      <td>0</td>\n",
       "      <td>0</td>\n",
       "      <td>0</td>\n",
       "      <td>0</td>\n",
       "      <td>0</td>\n",
       "      <td>0</td>\n",
       "      <td>0</td>\n",
       "      <td>0</td>\n",
       "      <td>0</td>\n",
       "      <td>...</td>\n",
       "      <td>0</td>\n",
       "      <td>0</td>\n",
       "      <td>0</td>\n",
       "      <td>0</td>\n",
       "      <td>0</td>\n",
       "      <td>0</td>\n",
       "      <td>0</td>\n",
       "      <td>0</td>\n",
       "      <td>0</td>\n",
       "      <td>1</td>\n",
       "    </tr>\n",
       "    <tr>\n",
       "      <td>1</td>\n",
       "      <td>1</td>\n",
       "      <td>1</td>\n",
       "      <td>0</td>\n",
       "      <td>0</td>\n",
       "      <td>0</td>\n",
       "      <td>0</td>\n",
       "      <td>0</td>\n",
       "      <td>0</td>\n",
       "      <td>0</td>\n",
       "      <td>0</td>\n",
       "      <td>...</td>\n",
       "      <td>0</td>\n",
       "      <td>0</td>\n",
       "      <td>0</td>\n",
       "      <td>0</td>\n",
       "      <td>0</td>\n",
       "      <td>0</td>\n",
       "      <td>0</td>\n",
       "      <td>0</td>\n",
       "      <td>0</td>\n",
       "      <td>1</td>\n",
       "    </tr>\n",
       "    <tr>\n",
       "      <td>2</td>\n",
       "      <td>2</td>\n",
       "      <td>0</td>\n",
       "      <td>0</td>\n",
       "      <td>0</td>\n",
       "      <td>0</td>\n",
       "      <td>0</td>\n",
       "      <td>0</td>\n",
       "      <td>0</td>\n",
       "      <td>0</td>\n",
       "      <td>0</td>\n",
       "      <td>...</td>\n",
       "      <td>0</td>\n",
       "      <td>0</td>\n",
       "      <td>0</td>\n",
       "      <td>0</td>\n",
       "      <td>0</td>\n",
       "      <td>0</td>\n",
       "      <td>0</td>\n",
       "      <td>0</td>\n",
       "      <td>0</td>\n",
       "      <td>1</td>\n",
       "    </tr>\n",
       "    <tr>\n",
       "      <td>3</td>\n",
       "      <td>3</td>\n",
       "      <td>2</td>\n",
       "      <td>0</td>\n",
       "      <td>0</td>\n",
       "      <td>0</td>\n",
       "      <td>0</td>\n",
       "      <td>0</td>\n",
       "      <td>0</td>\n",
       "      <td>0</td>\n",
       "      <td>0</td>\n",
       "      <td>...</td>\n",
       "      <td>0</td>\n",
       "      <td>0</td>\n",
       "      <td>0</td>\n",
       "      <td>0</td>\n",
       "      <td>0</td>\n",
       "      <td>0</td>\n",
       "      <td>0</td>\n",
       "      <td>0</td>\n",
       "      <td>0</td>\n",
       "      <td>1</td>\n",
       "    </tr>\n",
       "    <tr>\n",
       "      <td>4</td>\n",
       "      <td>4</td>\n",
       "      <td>0</td>\n",
       "      <td>0</td>\n",
       "      <td>0</td>\n",
       "      <td>0</td>\n",
       "      <td>0</td>\n",
       "      <td>0</td>\n",
       "      <td>0</td>\n",
       "      <td>0</td>\n",
       "      <td>0</td>\n",
       "      <td>...</td>\n",
       "      <td>0</td>\n",
       "      <td>0</td>\n",
       "      <td>0</td>\n",
       "      <td>0</td>\n",
       "      <td>0</td>\n",
       "      <td>0</td>\n",
       "      <td>0</td>\n",
       "      <td>0</td>\n",
       "      <td>0</td>\n",
       "      <td>2</td>\n",
       "    </tr>\n",
       "    <tr>\n",
       "      <td>...</td>\n",
       "      <td>...</td>\n",
       "      <td>...</td>\n",
       "      <td>...</td>\n",
       "      <td>...</td>\n",
       "      <td>...</td>\n",
       "      <td>...</td>\n",
       "      <td>...</td>\n",
       "      <td>...</td>\n",
       "      <td>...</td>\n",
       "      <td>...</td>\n",
       "      <td>...</td>\n",
       "      <td>...</td>\n",
       "      <td>...</td>\n",
       "      <td>...</td>\n",
       "      <td>...</td>\n",
       "      <td>...</td>\n",
       "      <td>...</td>\n",
       "      <td>...</td>\n",
       "      <td>...</td>\n",
       "      <td>...</td>\n",
       "      <td>...</td>\n",
       "    </tr>\n",
       "    <tr>\n",
       "      <td>99995</td>\n",
       "      <td>436</td>\n",
       "      <td>0</td>\n",
       "      <td>0</td>\n",
       "      <td>0</td>\n",
       "      <td>0</td>\n",
       "      <td>0</td>\n",
       "      <td>0</td>\n",
       "      <td>0</td>\n",
       "      <td>0</td>\n",
       "      <td>0</td>\n",
       "      <td>...</td>\n",
       "      <td>0</td>\n",
       "      <td>0</td>\n",
       "      <td>0</td>\n",
       "      <td>0</td>\n",
       "      <td>0</td>\n",
       "      <td>0</td>\n",
       "      <td>0</td>\n",
       "      <td>0</td>\n",
       "      <td>0</td>\n",
       "      <td>1</td>\n",
       "    </tr>\n",
       "    <tr>\n",
       "      <td>99996</td>\n",
       "      <td>310</td>\n",
       "      <td>276</td>\n",
       "      <td>187</td>\n",
       "      <td>30</td>\n",
       "      <td>11</td>\n",
       "      <td>0</td>\n",
       "      <td>0</td>\n",
       "      <td>0</td>\n",
       "      <td>0</td>\n",
       "      <td>0</td>\n",
       "      <td>...</td>\n",
       "      <td>0</td>\n",
       "      <td>0</td>\n",
       "      <td>0</td>\n",
       "      <td>0</td>\n",
       "      <td>0</td>\n",
       "      <td>0</td>\n",
       "      <td>0</td>\n",
       "      <td>0</td>\n",
       "      <td>0</td>\n",
       "      <td>2</td>\n",
       "    </tr>\n",
       "    <tr>\n",
       "      <td>99997</td>\n",
       "      <td>24</td>\n",
       "      <td>2</td>\n",
       "      <td>74</td>\n",
       "      <td>33</td>\n",
       "      <td>0</td>\n",
       "      <td>0</td>\n",
       "      <td>0</td>\n",
       "      <td>0</td>\n",
       "      <td>0</td>\n",
       "      <td>0</td>\n",
       "      <td>...</td>\n",
       "      <td>0</td>\n",
       "      <td>0</td>\n",
       "      <td>0</td>\n",
       "      <td>0</td>\n",
       "      <td>0</td>\n",
       "      <td>0</td>\n",
       "      <td>0</td>\n",
       "      <td>0</td>\n",
       "      <td>0</td>\n",
       "      <td>1</td>\n",
       "    </tr>\n",
       "    <tr>\n",
       "      <td>99998</td>\n",
       "      <td>39</td>\n",
       "      <td>28</td>\n",
       "      <td>0</td>\n",
       "      <td>0</td>\n",
       "      <td>0</td>\n",
       "      <td>0</td>\n",
       "      <td>0</td>\n",
       "      <td>0</td>\n",
       "      <td>0</td>\n",
       "      <td>0</td>\n",
       "      <td>...</td>\n",
       "      <td>0</td>\n",
       "      <td>0</td>\n",
       "      <td>0</td>\n",
       "      <td>0</td>\n",
       "      <td>0</td>\n",
       "      <td>0</td>\n",
       "      <td>0</td>\n",
       "      <td>0</td>\n",
       "      <td>0</td>\n",
       "      <td>1</td>\n",
       "    </tr>\n",
       "    <tr>\n",
       "      <td>99999</td>\n",
       "      <td>17</td>\n",
       "      <td>0</td>\n",
       "      <td>0</td>\n",
       "      <td>0</td>\n",
       "      <td>0</td>\n",
       "      <td>0</td>\n",
       "      <td>0</td>\n",
       "      <td>0</td>\n",
       "      <td>0</td>\n",
       "      <td>0</td>\n",
       "      <td>...</td>\n",
       "      <td>0</td>\n",
       "      <td>0</td>\n",
       "      <td>0</td>\n",
       "      <td>0</td>\n",
       "      <td>0</td>\n",
       "      <td>0</td>\n",
       "      <td>0</td>\n",
       "      <td>0</td>\n",
       "      <td>0</td>\n",
       "      <td>1</td>\n",
       "    </tr>\n",
       "  </tbody>\n",
       "</table>\n",
       "<p>100000 rows × 21 columns</p>\n",
       "</div>"
      ],
      "text/plain": [
       "       RA1  RA2  RA3  RA4  RA5  RA6  RA7  RA8  RA9  RA10  ...  RA12  RA13  \\\n",
       "0        0    0    0    0    0    0    0    0    0     0  ...     0     0   \n",
       "1        1    1    0    0    0    0    0    0    0     0  ...     0     0   \n",
       "2        2    0    0    0    0    0    0    0    0     0  ...     0     0   \n",
       "3        3    2    0    0    0    0    0    0    0     0  ...     0     0   \n",
       "4        4    0    0    0    0    0    0    0    0     0  ...     0     0   \n",
       "...    ...  ...  ...  ...  ...  ...  ...  ...  ...   ...  ...   ...   ...   \n",
       "99995  436    0    0    0    0    0    0    0    0     0  ...     0     0   \n",
       "99996  310  276  187   30   11    0    0    0    0     0  ...     0     0   \n",
       "99997   24    2   74   33    0    0    0    0    0     0  ...     0     0   \n",
       "99998   39   28    0    0    0    0    0    0    0     0  ...     0     0   \n",
       "99999   17    0    0    0    0    0    0    0    0     0  ...     0     0   \n",
       "\n",
       "       RA14  RA15  RA16  RA17  RA18  RA19  RA20  Race  \n",
       "0         0     0     0     0     0     0     0     1  \n",
       "1         0     0     0     0     0     0     0     1  \n",
       "2         0     0     0     0     0     0     0     1  \n",
       "3         0     0     0     0     0     0     0     1  \n",
       "4         0     0     0     0     0     0     0     2  \n",
       "...     ...   ...   ...   ...   ...   ...   ...   ...  \n",
       "99995     0     0     0     0     0     0     0     1  \n",
       "99996     0     0     0     0     0     0     0     2  \n",
       "99997     0     0     0     0     0     0     0     1  \n",
       "99998     0     0     0     0     0     0     0     1  \n",
       "99999     0     0     0     0     0     0     0     1  \n",
       "\n",
       "[100000 rows x 21 columns]"
      ]
     },
     "execution_count": 201,
     "metadata": {},
     "output_type": "execute_result"
    }
   ],
   "source": [
    "oldFeatures"
   ]
  },
  {
   "cell_type": "code",
   "execution_count": 202,
   "metadata": {},
   "outputs": [],
   "source": [
    "oldTar = oldFeatures[\"Race\"]"
   ]
  },
  {
   "cell_type": "code",
   "execution_count": 203,
   "metadata": {},
   "outputs": [],
   "source": [
    "oldFeatures = oldFeatures.drop(columns=[\"Race\"])"
   ]
  },
  {
   "cell_type": "code",
   "execution_count": 204,
   "metadata": {},
   "outputs": [],
   "source": [
    "X_train, X_test, y_train, y_test = train_test_split(oldFeatures, oldTar, test_size=0.2, random_state=42)"
   ]
  },
  {
   "cell_type": "code",
   "execution_count": 205,
   "metadata": {},
   "outputs": [],
   "source": [
    "clf = RandomForestClassifier(max_depth=14, n_estimators=20, random_state=42)\n",
    "racePredictor = clf.fit(X_train, y_train)\n",
    "racePrediction = racePredictor.predict(X_test)"
   ]
  },
  {
   "cell_type": "code",
   "execution_count": 206,
   "metadata": {},
   "outputs": [
    {
     "data": {
      "text/plain": [
       "'84.2 %'"
      ]
     },
     "execution_count": 206,
     "metadata": {},
     "output_type": "execute_result"
    }
   ],
   "source": [
    "f\"{accuracy_score(y_test, racePrediction) * 100} %\""
   ]
  }
 ],
 "metadata": {
  "kernelspec": {
   "display_name": "Python 3",
   "language": "python",
   "name": "python3"
  },
  "language_info": {
   "codemirror_mode": {
    "name": "ipython",
    "version": 3
   },
   "file_extension": ".py",
   "mimetype": "text/x-python",
   "name": "python",
   "nbconvert_exporter": "python",
   "pygments_lexer": "ipython3",
   "version": "3.7.4"
  }
 },
 "nbformat": 4,
 "nbformat_minor": 2
}
